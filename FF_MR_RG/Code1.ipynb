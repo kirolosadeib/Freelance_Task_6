{
 "cells": [
  {
   "cell_type": "code",
   "execution_count": 1,
   "id": "4fee3b4e",
   "metadata": {},
   "outputs": [],
   "source": [
    "import pandas as pd\n",
    "import numpy as np"
   ]
  },
  {
   "cell_type": "code",
   "execution_count": 2,
   "id": "b347326a",
   "metadata": {},
   "outputs": [],
   "source": [
    "import warnings\n",
    "warnings.filterwarnings(\"ignore\")"
   ]
  },
  {
   "cell_type": "code",
   "execution_count": 3,
   "id": "aefcfdfb",
   "metadata": {},
   "outputs": [],
   "source": [
    "dataframe_total=pd.read_csv(\"FF_MR_RG.csv\")"
   ]
  },
  {
   "cell_type": "code",
   "execution_count": 6,
   "id": "8deb5b43",
   "metadata": {},
   "outputs": [
    {
     "data": {
      "text/plain": [
       "3469"
      ]
     },
     "execution_count": 6,
     "metadata": {},
     "output_type": "execute_result"
    }
   ],
   "source": [
    "len(dataframe_total[\"gmap_id\"].unique())"
   ]
  },
  {
   "cell_type": "code",
   "execution_count": 8,
   "id": "1523b7b5",
   "metadata": {},
   "outputs": [
    {
     "data": {
      "text/plain": [
       "3469"
      ]
     },
     "execution_count": 8,
     "metadata": {},
     "output_type": "execute_result"
    }
   ],
   "source": [
    "len(dataframe_total[\"placekey\"].unique())"
   ]
  },
  {
   "cell_type": "code",
   "execution_count": 7,
   "id": "cdf1b2a5",
   "metadata": {},
   "outputs": [
    {
     "data": {
      "text/plain": [
       "3469"
      ]
     },
     "execution_count": 7,
     "metadata": {},
     "output_type": "execute_result"
    }
   ],
   "source": [
    "dataframe_total.shape[0]"
   ]
  },
  {
   "cell_type": "markdown",
   "id": "66e1166b",
   "metadata": {},
   "source": [
    "## Dataframe FF"
   ]
  },
  {
   "cell_type": "code",
   "execution_count": 6,
   "id": "083013d2",
   "metadata": {},
   "outputs": [
    {
     "data": {
      "text/html": [
       "<div>\n",
       "<style scoped>\n",
       "    .dataframe tbody tr th:only-of-type {\n",
       "        vertical-align: middle;\n",
       "    }\n",
       "\n",
       "    .dataframe tbody tr th {\n",
       "        vertical-align: top;\n",
       "    }\n",
       "\n",
       "    .dataframe thead th {\n",
       "        text-align: right;\n",
       "    }\n",
       "</style>\n",
       "<table border=\"1\" class=\"dataframe\">\n",
       "  <thead>\n",
       "    <tr style=\"text-align: right;\">\n",
       "      <th></th>\n",
       "      <th>Month_FF</th>\n",
       "      <th>Raw_vistors_Monthly_level</th>\n",
       "      <th>Week Start_FF</th>\n",
       "      <th>visits_weekly_level</th>\n",
       "      <th>naics_code</th>\n",
       "      <th>top_category</th>\n",
       "    </tr>\n",
       "  </thead>\n",
       "  <tbody>\n",
       "    <tr>\n",
       "      <th>0</th>\n",
       "      <td>['2018-01-01', '2018-02-01', '2018-03-01', '20...</td>\n",
       "      <td>[1253.0, 1143.0, 1461.0, 1239.0, 667.0, 1115.0...</td>\n",
       "      <td>['2018-01-01', '2018-01-08', '2018-01-15', '20...</td>\n",
       "      <td>[213.15, 213.15, 213.15, 213.15, 91.35, 125.16...</td>\n",
       "      <td>Pizza,Counter Service,Lunch,Dinner</td>\n",
       "      <td>&amp;pizza</td>\n",
       "    </tr>\n",
       "    <tr>\n",
       "      <th>1</th>\n",
       "      <td>[' 2018-02-01', ' 2018-03-01', ' 2018-04-01', ...</td>\n",
       "      <td>[274.0, 284.0, 238.0, 206.0, 245.0, 212.0, 208...</td>\n",
       "      <td>[' 2018-01-08', ' 2018-01-15', ' 2018-01-22', ...</td>\n",
       "      <td>[93.0, 86.0, 90.0, 87.0, 79.0, 96.0, 82.0, 88....</td>\n",
       "      <td>722511</td>\n",
       "      <td>Restaurants and Other Eating Places</td>\n",
       "    </tr>\n",
       "    <tr>\n",
       "      <th>2</th>\n",
       "      <td>['2018-01-01', '2018-02-01', '2018-03-01', '20...</td>\n",
       "      <td>[632.0, 616.0, 985.0, 1036.0, 794.0, 1081.0, 9...</td>\n",
       "      <td>['2018-01-01', '2018-01-08', '2018-01-15', '20...</td>\n",
       "      <td>[98.0, 98.0, 98.0, 98.0, 42.0, 65.72, 115.01, ...</td>\n",
       "      <td>Pizza,Counter Service,Lunch,Dinner</td>\n",
       "      <td>&amp;pizza</td>\n",
       "    </tr>\n",
       "    <tr>\n",
       "      <th>3</th>\n",
       "      <td>[' 2018-02-01', ' 2018-03-01', ' 2018-04-01', ...</td>\n",
       "      <td>[236.0, 317.0, 383.0, 414.0, 445.0, 404.0, 397...</td>\n",
       "      <td>[' 2018-01-08', ' 2018-01-15', ' 2018-01-22', ...</td>\n",
       "      <td>[51.0, 82.0, 78.0, 73.0, 72.0, 61.0, 89.0, 83....</td>\n",
       "      <td>722511</td>\n",
       "      <td>Restaurants and Other Eating Places</td>\n",
       "    </tr>\n",
       "    <tr>\n",
       "      <th>4</th>\n",
       "      <td>['2018-01-01', '2018-02-01', '2018-03-01', '20...</td>\n",
       "      <td>[526.0, 676.0, 881.0, 719.0, 433.0, 685.0, 758...</td>\n",
       "      <td>['2018-01-01', '2018-01-08', '2018-01-15', '20...</td>\n",
       "      <td>[86.94, 86.94, 86.94, 86.94, 37.26, 72.0, 126....</td>\n",
       "      <td>Pizza,Counter Service,Lunch,Dinner</td>\n",
       "      <td>&amp;pizza</td>\n",
       "    </tr>\n",
       "  </tbody>\n",
       "</table>\n",
       "</div>"
      ],
      "text/plain": [
       "                                            Month_FF  \\\n",
       "0  ['2018-01-01', '2018-02-01', '2018-03-01', '20...   \n",
       "1  [' 2018-02-01', ' 2018-03-01', ' 2018-04-01', ...   \n",
       "2  ['2018-01-01', '2018-02-01', '2018-03-01', '20...   \n",
       "3  [' 2018-02-01', ' 2018-03-01', ' 2018-04-01', ...   \n",
       "4  ['2018-01-01', '2018-02-01', '2018-03-01', '20...   \n",
       "\n",
       "                           Raw_vistors_Monthly_level  \\\n",
       "0  [1253.0, 1143.0, 1461.0, 1239.0, 667.0, 1115.0...   \n",
       "1  [274.0, 284.0, 238.0, 206.0, 245.0, 212.0, 208...   \n",
       "2  [632.0, 616.0, 985.0, 1036.0, 794.0, 1081.0, 9...   \n",
       "3  [236.0, 317.0, 383.0, 414.0, 445.0, 404.0, 397...   \n",
       "4  [526.0, 676.0, 881.0, 719.0, 433.0, 685.0, 758...   \n",
       "\n",
       "                                       Week Start_FF  \\\n",
       "0  ['2018-01-01', '2018-01-08', '2018-01-15', '20...   \n",
       "1  [' 2018-01-08', ' 2018-01-15', ' 2018-01-22', ...   \n",
       "2  ['2018-01-01', '2018-01-08', '2018-01-15', '20...   \n",
       "3  [' 2018-01-08', ' 2018-01-15', ' 2018-01-22', ...   \n",
       "4  ['2018-01-01', '2018-01-08', '2018-01-15', '20...   \n",
       "\n",
       "                                 visits_weekly_level  \\\n",
       "0  [213.15, 213.15, 213.15, 213.15, 91.35, 125.16...   \n",
       "1  [93.0, 86.0, 90.0, 87.0, 79.0, 96.0, 82.0, 88....   \n",
       "2  [98.0, 98.0, 98.0, 98.0, 42.0, 65.72, 115.01, ...   \n",
       "3  [51.0, 82.0, 78.0, 73.0, 72.0, 61.0, 89.0, 83....   \n",
       "4  [86.94, 86.94, 86.94, 86.94, 37.26, 72.0, 126....   \n",
       "\n",
       "                           naics_code                         top_category  \n",
       "0  Pizza,Counter Service,Lunch,Dinner                               &pizza  \n",
       "1                              722511  Restaurants and Other Eating Places  \n",
       "2  Pizza,Counter Service,Lunch,Dinner                               &pizza  \n",
       "3                              722511  Restaurants and Other Eating Places  \n",
       "4  Pizza,Counter Service,Lunch,Dinner                               &pizza  "
      ]
     },
     "execution_count": 6,
     "metadata": {},
     "output_type": "execute_result"
    }
   ],
   "source": [
    "dataframe_FF_Reference=pd.read_csv(\"3.FF_Referemce.csv\")\n",
    "dataframe_FF_Reference=dataframe_FF_Reference[[\"Month_FF\",\"Raw_vistors_Monthly_level\",\"Week Start_FF\",\"visits_weekly_level\",\"naics_code\",\"top_category\"]]\n",
    "dataframe_FF_Reference.head()"
   ]
  },
  {
   "cell_type": "code",
   "execution_count": 7,
   "id": "db1d8a2d",
   "metadata": {},
   "outputs": [],
   "source": [
    "dataframe_FF_Reference.loc[:,'Month_FF']=dataframe_FF_Reference['Month_FF'].apply(lambda x:x.strip('][').replace(\"'\",\"\").split(','))\n",
    "dataframe_FF_Reference.loc[:,'Month_FF']=dataframe_FF_Reference['Month_FF'].apply(lambda x:[temp.strip() for temp in x])\n",
    "dataframe_FF_Reference.loc[:,'Month_FF']=dataframe_FF_Reference.loc[:,'Month_FF'].astype(str)\n",
    "#Raw Visitors Monthly Level\n",
    "dataframe_FF_Reference.loc[:,'Raw_vistors_Monthly_level']=dataframe_FF_Reference['Raw_vistors_Monthly_level'].apply(lambda x:x.strip('][').replace(\"'\",\"\").split(','))\n",
    "dataframe_FF_Reference.loc[:,'Raw_vistors_Monthly_level']=dataframe_FF_Reference['Raw_vistors_Monthly_level'].apply(lambda x:[float(temp) for temp in x])\n",
    "dataframe_FF_Reference.loc[:,'Raw_vistors_Monthly_level']=dataframe_FF_Reference['Raw_vistors_Monthly_level'].astype(str)\n",
    "#Week Start\n",
    "dataframe_FF_Reference.loc[:,'Week Start_FF']=dataframe_FF_Reference['Week Start_FF'].apply(lambda x:x.strip('][').replace(\"'\",\"\").split(','))\n",
    "dataframe_FF_Reference.loc[:,'Week Start_FF']=dataframe_FF_Reference['Week Start_FF'].apply(lambda x:[temp.strip() for temp in x])\n",
    "dataframe_FF_Reference.loc[:,'Week Start_FF']=dataframe_FF_Reference.astype(str)\n",
    "#Visits Weekly Level\n",
    "dataframe_FF_Reference.loc[:,'visits_weekly_level']=dataframe_FF_Reference['visits_weekly_level'].apply(lambda x:x.strip('][').replace(\"'\",\"\").split(','))\n",
    "dataframe_FF_Reference.loc[:,'visits_weekly_level']=dataframe_FF_Reference['visits_weekly_level'].apply(lambda x:[float(temp) for temp in x])\n",
    "dataframe_FF_Reference.loc[:,'visits_weekly_level']=dataframe_FF_Reference['visits_weekly_level'].astype(str)"
   ]
  },
  {
   "cell_type": "markdown",
   "id": "3f489b02",
   "metadata": {},
   "source": [
    "## Dataframe RV_RF"
   ]
  },
  {
   "cell_type": "code",
   "execution_count": 8,
   "id": "d44bbc7a",
   "metadata": {},
   "outputs": [
    {
     "data": {
      "text/html": [
       "<div>\n",
       "<style scoped>\n",
       "    .dataframe tbody tr th:only-of-type {\n",
       "        vertical-align: middle;\n",
       "    }\n",
       "\n",
       "    .dataframe tbody tr th {\n",
       "        vertical-align: top;\n",
       "    }\n",
       "\n",
       "    .dataframe thead th {\n",
       "        text-align: right;\n",
       "    }\n",
       "</style>\n",
       "<table border=\"1\" class=\"dataframe\">\n",
       "  <thead>\n",
       "    <tr style=\"text-align: right;\">\n",
       "      <th></th>\n",
       "      <th>placekey</th>\n",
       "      <th>location_name</th>\n",
       "      <th>street_address</th>\n",
       "      <th>city</th>\n",
       "      <th>region</th>\n",
       "      <th>postal_code</th>\n",
       "      <th>latitude</th>\n",
       "      <th>longitude</th>\n",
       "    </tr>\n",
       "  </thead>\n",
       "  <tbody>\n",
       "    <tr>\n",
       "      <th>0</th>\n",
       "      <td>222-222@39p-8k2-mtv</td>\n",
       "      <td>United States Postal Service (USPS)</td>\n",
       "      <td>100 6th Ave</td>\n",
       "      <td>Kaltag</td>\n",
       "      <td>AK</td>\n",
       "      <td>99748</td>\n",
       "      <td>64.324568</td>\n",
       "      <td>-158.723724</td>\n",
       "    </tr>\n",
       "    <tr>\n",
       "      <th>1</th>\n",
       "      <td>222-222@39s-pzs-wrk</td>\n",
       "      <td>United States Postal Service (USPS)</td>\n",
       "      <td>123 Takotna Ave</td>\n",
       "      <td>Mc Grath</td>\n",
       "      <td>AK</td>\n",
       "      <td>99627</td>\n",
       "      <td>62.951525</td>\n",
       "      <td>-155.591123</td>\n",
       "    </tr>\n",
       "    <tr>\n",
       "      <th>2</th>\n",
       "      <td>222-222@39x-s8g-yy9</td>\n",
       "      <td>United States Postal Service (USPS)</td>\n",
       "      <td>50 Maraq Rd</td>\n",
       "      <td>Napakiak</td>\n",
       "      <td>AK</td>\n",
       "      <td>99634</td>\n",
       "      <td>60.696470</td>\n",
       "      <td>-161.981376</td>\n",
       "    </tr>\n",
       "    <tr>\n",
       "      <th>3</th>\n",
       "      <td>222-222@39x-sn7-y35</td>\n",
       "      <td>United States Postal Service (USPS)</td>\n",
       "      <td>250 Off Doops St</td>\n",
       "      <td>Akiak</td>\n",
       "      <td>AK</td>\n",
       "      <td>99552</td>\n",
       "      <td>60.910895</td>\n",
       "      <td>-161.223008</td>\n",
       "    </tr>\n",
       "    <tr>\n",
       "      <th>4</th>\n",
       "      <td>222-222@39y-p4c-ndv</td>\n",
       "      <td>United States Postal Service (USPS)</td>\n",
       "      <td>101 Alstrom St</td>\n",
       "      <td>Saint Marys</td>\n",
       "      <td>AK</td>\n",
       "      <td>99658</td>\n",
       "      <td>62.048097</td>\n",
       "      <td>-163.192118</td>\n",
       "    </tr>\n",
       "  </tbody>\n",
       "</table>\n",
       "</div>"
      ],
      "text/plain": [
       "              placekey                        location_name    street_address  \\\n",
       "0  222-222@39p-8k2-mtv  United States Postal Service (USPS)       100 6th Ave   \n",
       "1  222-222@39s-pzs-wrk  United States Postal Service (USPS)   123 Takotna Ave   \n",
       "2  222-222@39x-s8g-yy9  United States Postal Service (USPS)       50 Maraq Rd   \n",
       "3  222-222@39x-sn7-y35  United States Postal Service (USPS)  250 Off Doops St   \n",
       "4  222-222@39y-p4c-ndv  United States Postal Service (USPS)    101 Alstrom St   \n",
       "\n",
       "          city region  postal_code   latitude   longitude  \n",
       "0       Kaltag     AK        99748  64.324568 -158.723724  \n",
       "1     Mc Grath     AK        99627  62.951525 -155.591123  \n",
       "2     Napakiak     AK        99634  60.696470 -161.981376  \n",
       "3        Akiak     AK        99552  60.910895 -161.223008  \n",
       "4  Saint Marys     AK        99658  62.048097 -163.192118  "
      ]
     },
     "execution_count": 8,
     "metadata": {},
     "output_type": "execute_result"
    }
   ],
   "source": [
    "dataframe_RV_RF=pd.read_csv(\"1.Revenue_Reference_File.csv\")\n",
    "dataframe_RV_RF.head()"
   ]
  },
  {
   "cell_type": "markdown",
   "id": "e658fc0b",
   "metadata": {},
   "source": [
    "## Missing Address"
   ]
  },
  {
   "cell_type": "code",
   "execution_count": 9,
   "id": "fc1cd591",
   "metadata": {},
   "outputs": [],
   "source": [
    "dataframe_total_part_a=pd.merge(dataframe_total,dataframe_RV_RF,on=[\"placekey\"])\n",
    "dataframe_total=dataframe_total[~dataframe_total['gmap_id'].isin(list(dataframe_total_part_a[\"gmap_id\"].unique()))]"
   ]
  },
  {
   "cell_type": "code",
   "execution_count": 10,
   "id": "94c7a28b",
   "metadata": {},
   "outputs": [],
   "source": [
    "dataframe_total_part_a.drop(columns=[\"location_name_x\",\"street_address_x\",\"city_x\",\"region_x\",\"postal_code_x\",\"latitude_x\",\"longitude_x\"],inplace=True)\n",
    "dataframe_total_part_a.rename(columns={\n",
    "    \"location_name_y\":\"location_name\",\n",
    "    \"street_address_y\":\"street_address\",\n",
    "    \"city_y\":\"city\",\n",
    "    \"region_y\":\"region\",\n",
    "    \"postal_code_y\":\"postal_code\",\n",
    "    \"latitude_y\":\"latitude\",\n",
    "    \"longitude_y\":\"longitude\"\n",
    "},inplace=True)"
   ]
  },
  {
   "cell_type": "code",
   "execution_count": 11,
   "id": "2aa3b95a",
   "metadata": {},
   "outputs": [],
   "source": [
    "dataframe_total=pd.concat([dataframe_total_part_a,dataframe_total])"
   ]
  },
  {
   "cell_type": "code",
   "execution_count": 12,
   "id": "131ab29c",
   "metadata": {},
   "outputs": [
    {
     "data": {
      "text/plain": [
       "3469"
      ]
     },
     "execution_count": 12,
     "metadata": {},
     "output_type": "execute_result"
    }
   ],
   "source": [
    "dataframe_total.shape[0]"
   ]
  },
  {
   "cell_type": "markdown",
   "id": "0649c25a",
   "metadata": {},
   "source": [
    "## Single placekey and Category"
   ]
  },
  {
   "cell_type": "code",
   "execution_count": 13,
   "id": "07679199",
   "metadata": {},
   "outputs": [
    {
     "data": {
      "text/html": [
       "<div>\n",
       "<style scoped>\n",
       "    .dataframe tbody tr th:only-of-type {\n",
       "        vertical-align: middle;\n",
       "    }\n",
       "\n",
       "    .dataframe tbody tr th {\n",
       "        vertical-align: top;\n",
       "    }\n",
       "\n",
       "    .dataframe thead th {\n",
       "        text-align: right;\n",
       "    }\n",
       "</style>\n",
       "<table border=\"1\" class=\"dataframe\">\n",
       "  <thead>\n",
       "    <tr style=\"text-align: right;\">\n",
       "      <th></th>\n",
       "      <th>gmap_id</th>\n",
       "      <th>placekey</th>\n",
       "      <th>naics_code</th>\n",
       "      <th>Lead</th>\n",
       "      <th>category</th>\n",
       "      <th>top_category</th>\n",
       "      <th>url</th>\n",
       "      <th>Community</th>\n",
       "      <th>Month</th>\n",
       "      <th>spend_by_transaction_intermediary</th>\n",
       "      <th>...</th>\n",
       "      <th>Raw_vistors_Monthly_level</th>\n",
       "      <th>Week Start_FF</th>\n",
       "      <th>visits_weekly_level</th>\n",
       "      <th>location_name</th>\n",
       "      <th>street_address</th>\n",
       "      <th>city</th>\n",
       "      <th>region</th>\n",
       "      <th>postal_code</th>\n",
       "      <th>latitude</th>\n",
       "      <th>longitude</th>\n",
       "    </tr>\n",
       "  </thead>\n",
       "  <tbody>\n",
       "    <tr>\n",
       "      <th>0</th>\n",
       "      <td>0x880e2d214ef65adf:0x5d67c91656d9784f</td>\n",
       "      <td>222-222@5pw-624-brk</td>\n",
       "      <td>722511</td>\n",
       "      <td>No Lead</td>\n",
       "      <td>Asian restaurant</td>\n",
       "      <td>Restaurants and Other Eating Places</td>\n",
       "      <td>https://www.google.com/maps/place//data=!4m2!3...</td>\n",
       "      <td>No Community</td>\n",
       "      <td>['2019-05-01']</td>\n",
       "      <td>{'No intermediary'}</td>\n",
       "      <td>...</td>\n",
       "      <td>[176.0, 181.0, 252.0, 325.0, 337.0, 335.0, 354...</td>\n",
       "      <td>['2018-01-01', '2018-01-08', '2018-01-15', '20...</td>\n",
       "      <td>[60.0, 74.0, 58.0, 70.0, 33.0, 40.0, 71.0, 63....</td>\n",
       "      <td>Ajida</td>\n",
       "      <td>201 N Wells St</td>\n",
       "      <td>Chicago</td>\n",
       "      <td>IL</td>\n",
       "      <td>60606.0</td>\n",
       "      <td>41.885978</td>\n",
       "      <td>-87.633751</td>\n",
       "    </tr>\n",
       "  </tbody>\n",
       "</table>\n",
       "<p>1 rows × 29 columns</p>\n",
       "</div>"
      ],
      "text/plain": [
       "                                 gmap_id             placekey naics_code  \\\n",
       "0  0x880e2d214ef65adf:0x5d67c91656d9784f  222-222@5pw-624-brk     722511   \n",
       "\n",
       "      Lead          category                         top_category  \\\n",
       "0  No Lead  Asian restaurant  Restaurants and Other Eating Places   \n",
       "\n",
       "                                                 url     Community  \\\n",
       "0  https://www.google.com/maps/place//data=!4m2!3...  No Community   \n",
       "\n",
       "            Month spend_by_transaction_intermediary  ...  \\\n",
       "0  ['2019-05-01']               {'No intermediary'}  ...   \n",
       "\n",
       "                           Raw_vistors_Monthly_level  \\\n",
       "0  [176.0, 181.0, 252.0, 325.0, 337.0, 335.0, 354...   \n",
       "\n",
       "                                       Week Start_FF  \\\n",
       "0  ['2018-01-01', '2018-01-08', '2018-01-15', '20...   \n",
       "\n",
       "                                 visits_weekly_level location_name  \\\n",
       "0  [60.0, 74.0, 58.0, 70.0, 33.0, 40.0, 71.0, 63....         Ajida   \n",
       "\n",
       "   street_address     city region postal_code   latitude  longitude  \n",
       "0  201 N Wells St  Chicago     IL     60606.0  41.885978 -87.633751  \n",
       "\n",
       "[1 rows x 29 columns]"
      ]
     },
     "execution_count": 13,
     "metadata": {},
     "output_type": "execute_result"
    }
   ],
   "source": [
    "#Placekey\n",
    "dataframe_total.loc[:,'placekey']=dataframe_total['placekey'].apply(lambda x:x.strip('][').replace(\"'\",\"\").split(','))\n",
    "dataframe_total[\"placekey\"]=dataframe_total[\"placekey\"].apply(lambda x:x[0])\n",
    "#Category\n",
    "dataframe_total.loc[:,'category']=dataframe_total['category'].apply(lambda x:x.strip('][').replace(\"'\",\"\").split(','))\n",
    "dataframe_total[\"category\"]=dataframe_total[\"category\"].apply(lambda x:x[0])\n",
    "#\n",
    "dataframe_total.head(1)"
   ]
  },
  {
   "cell_type": "markdown",
   "id": "d6085173",
   "metadata": {},
   "source": [
    "## Naics Code and Top Category"
   ]
  },
  {
   "cell_type": "code",
   "execution_count": 14,
   "id": "5209033a",
   "metadata": {},
   "outputs": [],
   "source": [
    "dataframe_total_part_a=dataframe_total[~dataframe_total[\"naics_code\"].isna()]"
   ]
  },
  {
   "cell_type": "code",
   "execution_count": 15,
   "id": "0169099b",
   "metadata": {},
   "outputs": [
    {
     "data": {
      "text/plain": [
       "2648"
      ]
     },
     "execution_count": 15,
     "metadata": {},
     "output_type": "execute_result"
    }
   ],
   "source": [
    "dataframe_total_part_a.shape[0]"
   ]
  },
  {
   "cell_type": "code",
   "execution_count": 16,
   "id": "9e6352d3",
   "metadata": {},
   "outputs": [],
   "source": [
    "dataframe_total_part_b=dataframe_total[dataframe_total[\"naics_code\"].isna()]"
   ]
  },
  {
   "cell_type": "code",
   "execution_count": 17,
   "id": "c729590d",
   "metadata": {},
   "outputs": [
    {
     "data": {
      "text/plain": [
       "821"
      ]
     },
     "execution_count": 17,
     "metadata": {},
     "output_type": "execute_result"
    }
   ],
   "source": [
    "dataframe_total_part_b.shape[0]"
   ]
  },
  {
   "cell_type": "code",
   "execution_count": 18,
   "id": "47b294f4",
   "metadata": {},
   "outputs": [],
   "source": [
    "dataframe_total_part_b.loc[:,'Month_FF']=dataframe_total_part_b['Month_FF'].apply(lambda x:x.strip('][').replace(\"'\",\"\").split(','))\n",
    "dataframe_total_part_b.loc[:,'Month_FF']=dataframe_total_part_b['Month_FF'].apply(lambda x:[temp.strip() for temp in x])\n",
    "dataframe_total_part_b.loc[:,'Month_FF']=dataframe_total_part_b.loc[:,'Month_FF'].astype(str)\n",
    "#Raw Visitors Monthly Level\n",
    "dataframe_total_part_b.loc[:,'Raw_vistors_Monthly_level']=dataframe_total_part_b['Raw_vistors_Monthly_level'].apply(lambda x:x.strip('][').replace(\"'\",\"\").split(','))\n",
    "dataframe_total_part_b.loc[:,'Raw_vistors_Monthly_level']=dataframe_total_part_b['Raw_vistors_Monthly_level'].apply(lambda x:[float(temp) for temp in x])\n",
    "dataframe_total_part_b.loc[:,'Raw_vistors_Monthly_level']=dataframe_total_part_b['Raw_vistors_Monthly_level'].astype(str)\n",
    "#Week Start\n",
    "dataframe_total_part_b.loc[:,'Week Start_FF']=dataframe_total_part_b['Week Start_FF'].apply(lambda x:x.strip('][').replace(\"'\",\"\").split(','))\n",
    "dataframe_total_part_b.loc[:,'Week Start_FF']=dataframe_total_part_b['Week Start_FF'].apply(lambda x:[temp.strip() for temp in x])\n",
    "dataframe_total_part_b.loc[:,'Week Start_FF']=dataframe_total_part_b.astype(str)\n",
    "#Visits Weekly Level\n",
    "dataframe_total_part_b.loc[:,'visits_weekly_level']=dataframe_total_part_b['visits_weekly_level'].apply(lambda x:x.strip('][').replace(\"'\",\"\").split(','))\n",
    "dataframe_total_part_b.loc[:,'visits_weekly_level']=dataframe_total_part_b['visits_weekly_level'].apply(lambda x:[float(temp) for temp in x])\n",
    "dataframe_total_part_b.loc[:,'visits_weekly_level']=dataframe_total_part_b['visits_weekly_level'].astype(str)"
   ]
  },
  {
   "cell_type": "code",
   "execution_count": 19,
   "id": "5d7cbdb2",
   "metadata": {},
   "outputs": [],
   "source": [
    "dataframe_total_part_b=pd.merge(dataframe_total_part_b,dataframe_FF_Reference,on=[\"Month_FF\",\"Raw_vistors_Monthly_level\",\"visits_weekly_level\"])\n",
    "dataframe_total_part_b.drop(columns=[\"naics_code_x\",\"top_category_x\",\"Week Start_FF_y\"],inplace=True)\n",
    "dataframe_total_part_b.rename(columns={\n",
    "    \"Week Start_FF_x\":\"Week Start_FF\",\n",
    "    \"naics_code_y\":\"naics_code\",\n",
    "    \"top_category_y\":\"top_category\"\n",
    "},inplace=True)"
   ]
  },
  {
   "cell_type": "code",
   "execution_count": 20,
   "id": "8c5f709c",
   "metadata": {},
   "outputs": [],
   "source": [
    "dataframe_total=pd.concat([dataframe_total_part_a,dataframe_total_part_b])"
   ]
  },
  {
   "cell_type": "markdown",
   "id": "27aaf312",
   "metadata": {},
   "source": [
    "## Overall Final Output"
   ]
  },
  {
   "cell_type": "code",
   "execution_count": 21,
   "id": "84735d74",
   "metadata": {},
   "outputs": [],
   "source": [
    "dataframe_total=dataframe_total[[\n",
    "    \"gmap_id\",\"placekey\",\"location_name\",\"street_address\",\"city\",\"region\",\"postal_code\",\"latitude\",\"longitude\",\n",
    "    \"naics_code\",\"Lead\",'Community',\"category\",\"top_category\",'url',\n",
    "    'Month', 'spend_by_transaction_intermediary','online_spend', 'online_transactions', \n",
    "    'Week Start','Sum_spent_by_week', 'Average_spent_per_transaction_by_week', \n",
    "    'Date','Average Rating', 'Count of Reviews',\n",
    "    'Month_FF','Raw_vistors_Monthly_level', 'Week Start_FF', 'visits_weekly_level']]"
   ]
  },
  {
   "cell_type": "code",
   "execution_count": 22,
   "id": "b8517dde",
   "metadata": {},
   "outputs": [],
   "source": [
    "#Set Postal Code to be int type\n",
    "dataframe_total[\"postal_code\"]=dataframe_total[\"postal_code\"].apply(lambda x:int(x))\n",
    "dataframe_total[\"postal_code\"]=dataframe_total[\"postal_code\"].astype(str)\n",
    "#Naics_Code\n",
    "for counter in range(0,len(dataframe_total[\"naics_code\"])):\n",
    "    naics_code=dataframe_total[\"naics_code\"].iloc[counter]\n",
    "    try:\n",
    "        dataframe_total[\"naics_code\"].iloc[counter]=int(naics_code)\n",
    "    except:\n",
    "        dataframe_total[\"naics_code\"].iloc[counter]=np.nan\n",
    "#Lead\n",
    "dataframe_total[\"Lead\"]=dataframe_total[\"Lead\"].apply(lambda x:x.strip())"
   ]
  },
  {
   "cell_type": "markdown",
   "id": "5d57701d",
   "metadata": {},
   "source": [
    "### a.Expand FF Raw Data"
   ]
  },
  {
   "cell_type": "code",
   "execution_count": 23,
   "id": "672cea37",
   "metadata": {},
   "outputs": [],
   "source": [
    "dataframe_total_FF=dataframe_total[[\"gmap_id\",'Month_FF','Raw_vistors_Monthly_level', 'Week Start_FF', 'visits_weekly_level']]"
   ]
  },
  {
   "cell_type": "code",
   "execution_count": 1,
   "id": "53226c3b",
   "metadata": {},
   "outputs": [
    {
     "ename": "NameError",
     "evalue": "name 'dataframe_total_FF' is not defined",
     "output_type": "error",
     "traceback": [
      "\u001b[1;31m---------------------------------------------------------------------------\u001b[0m",
      "\u001b[1;31mNameError\u001b[0m                                 Traceback (most recent call last)",
      "\u001b[1;32m~\\AppData\\Local\\Temp\\ipykernel_18264\\1201165486.py\u001b[0m in \u001b[0;36m<module>\u001b[1;34m\u001b[0m\n\u001b[0;32m      1\u001b[0m \u001b[1;31m#Week_Start_FF\u001b[0m\u001b[1;33m\u001b[0m\u001b[1;33m\u001b[0m\u001b[0m\n\u001b[1;32m----> 2\u001b[1;33m \u001b[0mdataframe_total_FF\u001b[0m\u001b[1;33m.\u001b[0m\u001b[0mloc\u001b[0m\u001b[1;33m[\u001b[0m\u001b[1;33m:\u001b[0m\u001b[1;33m,\u001b[0m\u001b[1;34m'Week Start_FF'\u001b[0m\u001b[1;33m]\u001b[0m\u001b[1;33m=\u001b[0m\u001b[0mdataframe_total_FF\u001b[0m\u001b[1;33m[\u001b[0m\u001b[1;34m'Week Start_FF'\u001b[0m\u001b[1;33m]\u001b[0m\u001b[1;33m.\u001b[0m\u001b[0mapply\u001b[0m\u001b[1;33m(\u001b[0m\u001b[1;32mlambda\u001b[0m \u001b[0mx\u001b[0m\u001b[1;33m:\u001b[0m\u001b[0mx\u001b[0m\u001b[1;33m.\u001b[0m\u001b[0mstrip\u001b[0m\u001b[1;33m(\u001b[0m\u001b[1;34m']['\u001b[0m\u001b[1;33m)\u001b[0m\u001b[1;33m.\u001b[0m\u001b[0mreplace\u001b[0m\u001b[1;33m(\u001b[0m\u001b[1;34m\"'\"\u001b[0m\u001b[1;33m,\u001b[0m\u001b[1;34m\"\"\u001b[0m\u001b[1;33m)\u001b[0m\u001b[1;33m.\u001b[0m\u001b[0msplit\u001b[0m\u001b[1;33m(\u001b[0m\u001b[1;34m','\u001b[0m\u001b[1;33m)\u001b[0m\u001b[1;33m)\u001b[0m\u001b[1;33m\u001b[0m\u001b[1;33m\u001b[0m\u001b[0m\n\u001b[0m\u001b[0;32m      3\u001b[0m \u001b[0mdataframe_total_FF\u001b[0m\u001b[1;33m[\u001b[0m\u001b[1;34m\"Week Start_FF\"\u001b[0m\u001b[1;33m]\u001b[0m\u001b[1;33m=\u001b[0m\u001b[0mdataframe_total_FF\u001b[0m\u001b[1;33m[\u001b[0m\u001b[1;34m\"Week Start_FF\"\u001b[0m\u001b[1;33m]\u001b[0m\u001b[1;33m.\u001b[0m\u001b[0mapply\u001b[0m\u001b[1;33m(\u001b[0m\u001b[1;32mlambda\u001b[0m \u001b[0mx\u001b[0m\u001b[1;33m:\u001b[0m\u001b[1;33m[\u001b[0m\u001b[0mtemp\u001b[0m\u001b[1;33m.\u001b[0m\u001b[0mstrip\u001b[0m\u001b[1;33m(\u001b[0m\u001b[1;33m)\u001b[0m \u001b[1;32mfor\u001b[0m \u001b[0mtemp\u001b[0m \u001b[1;32min\u001b[0m \u001b[0mx\u001b[0m\u001b[1;33m]\u001b[0m\u001b[1;33m)\u001b[0m\u001b[1;33m\u001b[0m\u001b[1;33m\u001b[0m\u001b[0m\n\u001b[0;32m      4\u001b[0m \u001b[1;31m#Visits Weekly Level\u001b[0m\u001b[1;33m\u001b[0m\u001b[1;33m\u001b[0m\u001b[0m\n\u001b[0;32m      5\u001b[0m \u001b[0mdataframe_total_FF\u001b[0m\u001b[1;33m.\u001b[0m\u001b[0mloc\u001b[0m\u001b[1;33m[\u001b[0m\u001b[1;33m:\u001b[0m\u001b[1;33m,\u001b[0m\u001b[1;34m'visits_weekly_level'\u001b[0m\u001b[1;33m]\u001b[0m\u001b[1;33m=\u001b[0m\u001b[0mdataframe_total_FF\u001b[0m\u001b[1;33m[\u001b[0m\u001b[1;34m'visits_weekly_level'\u001b[0m\u001b[1;33m]\u001b[0m\u001b[1;33m.\u001b[0m\u001b[0mapply\u001b[0m\u001b[1;33m(\u001b[0m\u001b[1;32mlambda\u001b[0m \u001b[0mx\u001b[0m\u001b[1;33m:\u001b[0m\u001b[0mx\u001b[0m\u001b[1;33m.\u001b[0m\u001b[0mstrip\u001b[0m\u001b[1;33m(\u001b[0m\u001b[1;34m']['\u001b[0m\u001b[1;33m)\u001b[0m\u001b[1;33m.\u001b[0m\u001b[0mreplace\u001b[0m\u001b[1;33m(\u001b[0m\u001b[1;34m\"'\"\u001b[0m\u001b[1;33m,\u001b[0m\u001b[1;34m\"\"\u001b[0m\u001b[1;33m)\u001b[0m\u001b[1;33m.\u001b[0m\u001b[0msplit\u001b[0m\u001b[1;33m(\u001b[0m\u001b[1;34m','\u001b[0m\u001b[1;33m)\u001b[0m\u001b[1;33m)\u001b[0m\u001b[1;33m\u001b[0m\u001b[1;33m\u001b[0m\u001b[0m\n",
      "\u001b[1;31mNameError\u001b[0m: name 'dataframe_total_FF' is not defined"
     ]
    }
   ],
   "source": [
    "#Week_Start_FF\n",
    "dataframe_total_FF.loc[:,'Week Start_FF']=dataframe_total_FF['Week Start_FF'].apply(lambda x:x.strip('][').replace(\"'\",\"\").split(','))\n",
    "dataframe_total_FF[\"Week Start_FF\"]=dataframe_total_FF[\"Week Start_FF\"].apply(lambda x:[temp.strip() for temp in x])\n",
    "#Visits Weekly Level\n",
    "dataframe_total_FF.loc[:,'visits_weekly_level']=dataframe_total_FF['visits_weekly_level'].apply(lambda x:x.strip('][').replace(\"'\",\"\").split(','))\n",
    "dataframe_total_FF.loc[:,'visits_weekly_level']=dataframe_total_FF['visits_weekly_level'].apply(lambda x:[float(temp) for temp in x])"
   ]
  },
  {
   "cell_type": "code",
   "execution_count": 25,
   "id": "ed7fb85e",
   "metadata": {},
   "outputs": [],
   "source": [
    "#Month_FF\n",
    "dataframe_total_FF.loc[:,'Month_FF']=dataframe_total_FF['Month_FF'].apply(lambda x:x.strip('][').replace(\"'\",\"\").split(','))\n",
    "dataframe_total_FF[\"Month_FF\"]=dataframe_total_FF[\"Month_FF\"].apply(lambda x:[temp.strip() for temp in x])\n",
    "#Raw Visitors Monthly Level\n",
    "dataframe_total_FF.loc[:,'Raw_vistors_Monthly_level']=dataframe_total_FF['Raw_vistors_Monthly_level'].apply(lambda x:x.strip('][').replace(\"'\",\"\").split(','))\n",
    "dataframe_total_FF.loc[:,'Raw_vistors_Monthly_level']=dataframe_total_FF['Raw_vistors_Monthly_level'].apply(lambda x:[float(temp) for temp in x])"
   ]
  },
  {
   "cell_type": "markdown",
   "id": "27c8ac6e",
   "metadata": {},
   "source": [
    "### a.1 Weekly Level"
   ]
  },
  {
   "cell_type": "code",
   "execution_count": 26,
   "id": "a4089260",
   "metadata": {},
   "outputs": [
    {
     "data": {
      "text/html": [
       "<div>\n",
       "<style scoped>\n",
       "    .dataframe tbody tr th:only-of-type {\n",
       "        vertical-align: middle;\n",
       "    }\n",
       "\n",
       "    .dataframe tbody tr th {\n",
       "        vertical-align: top;\n",
       "    }\n",
       "\n",
       "    .dataframe thead th {\n",
       "        text-align: right;\n",
       "    }\n",
       "</style>\n",
       "<table border=\"1\" class=\"dataframe\">\n",
       "  <thead>\n",
       "    <tr style=\"text-align: right;\">\n",
       "      <th></th>\n",
       "      <th>gmap_id</th>\n",
       "      <th>Week Start_FF</th>\n",
       "      <th>visits_weekly_level</th>\n",
       "      <th>Month_match</th>\n",
       "    </tr>\n",
       "  </thead>\n",
       "  <tbody>\n",
       "    <tr>\n",
       "      <th>0</th>\n",
       "      <td>0x880e2d214ef65adf:0x5d67c91656d9784f</td>\n",
       "      <td>2018-01-01</td>\n",
       "      <td>60</td>\n",
       "      <td>2018-01-01</td>\n",
       "    </tr>\n",
       "    <tr>\n",
       "      <th>0</th>\n",
       "      <td>0x880e2d214ef65adf:0x5d67c91656d9784f</td>\n",
       "      <td>2018-01-08</td>\n",
       "      <td>74</td>\n",
       "      <td>2018-01-01</td>\n",
       "    </tr>\n",
       "  </tbody>\n",
       "</table>\n",
       "</div>"
      ],
      "text/plain": [
       "                                 gmap_id Week Start_FF  visits_weekly_level  \\\n",
       "0  0x880e2d214ef65adf:0x5d67c91656d9784f    2018-01-01                   60   \n",
       "0  0x880e2d214ef65adf:0x5d67c91656d9784f    2018-01-08                   74   \n",
       "\n",
       "  Month_match  \n",
       "0  2018-01-01  \n",
       "0  2018-01-01  "
      ]
     },
     "execution_count": 26,
     "metadata": {},
     "output_type": "execute_result"
    }
   ],
   "source": [
    "dataframe_total_FF_1=dataframe_total_FF[[\"gmap_id\",\"Week Start_FF\",\"visits_weekly_level\"]]\n",
    "dataframe_total_FF_1=dataframe_total_FF_1.explode([\"Week Start_FF\",\"visits_weekly_level\"])\n",
    "#Trim Week Start Date to get Month Date\n",
    "dataframe_total_FF_1[\"Month_match\"]=dataframe_total_FF_1[\"Week Start_FF\"].apply(lambda x:x[0:7]+\"-01\")\n",
    "#Set weekly visits to be integer \n",
    "dataframe_total_FF_1[\"visits_weekly_level\"]=dataframe_total_FF_1[\"visits_weekly_level\"].apply(lambda x:int(x))\n",
    "dataframe_total_FF_1.head(2)"
   ]
  },
  {
   "cell_type": "code",
   "execution_count": 27,
   "id": "44a839c2",
   "metadata": {},
   "outputs": [
    {
     "data": {
      "text/plain": [
       "579747"
      ]
     },
     "execution_count": 27,
     "metadata": {},
     "output_type": "execute_result"
    }
   ],
   "source": [
    "dataframe_total_FF_1.shape[0]"
   ]
  },
  {
   "cell_type": "markdown",
   "id": "dd8f0450",
   "metadata": {},
   "source": [
    "### a.2 Monthly Level"
   ]
  },
  {
   "cell_type": "code",
   "execution_count": 28,
   "id": "3cba07e2",
   "metadata": {},
   "outputs": [
    {
     "data": {
      "text/html": [
       "<div>\n",
       "<style scoped>\n",
       "    .dataframe tbody tr th:only-of-type {\n",
       "        vertical-align: middle;\n",
       "    }\n",
       "\n",
       "    .dataframe tbody tr th {\n",
       "        vertical-align: top;\n",
       "    }\n",
       "\n",
       "    .dataframe thead th {\n",
       "        text-align: right;\n",
       "    }\n",
       "</style>\n",
       "<table border=\"1\" class=\"dataframe\">\n",
       "  <thead>\n",
       "    <tr style=\"text-align: right;\">\n",
       "      <th></th>\n",
       "      <th>gmap_id</th>\n",
       "      <th>Month_FF</th>\n",
       "      <th>Raw_vistors_Monthly_level</th>\n",
       "    </tr>\n",
       "  </thead>\n",
       "  <tbody>\n",
       "    <tr>\n",
       "      <th>0</th>\n",
       "      <td>0x880e2d214ef65adf:0x5d67c91656d9784f</td>\n",
       "      <td>2018-01-01</td>\n",
       "      <td>176.0</td>\n",
       "    </tr>\n",
       "    <tr>\n",
       "      <th>0</th>\n",
       "      <td>0x880e2d214ef65adf:0x5d67c91656d9784f</td>\n",
       "      <td>2018-02-01</td>\n",
       "      <td>181.0</td>\n",
       "    </tr>\n",
       "  </tbody>\n",
       "</table>\n",
       "</div>"
      ],
      "text/plain": [
       "                                 gmap_id    Month_FF Raw_vistors_Monthly_level\n",
       "0  0x880e2d214ef65adf:0x5d67c91656d9784f  2018-01-01                     176.0\n",
       "0  0x880e2d214ef65adf:0x5d67c91656d9784f  2018-02-01                     181.0"
      ]
     },
     "execution_count": 28,
     "metadata": {},
     "output_type": "execute_result"
    }
   ],
   "source": [
    "dataframe_total_FF_2=dataframe_total_FF[[\"gmap_id\",\"Month_FF\",\"Raw_vistors_Monthly_level\"]]\n",
    "dataframe_total_FF_2=dataframe_total_FF_2.explode([\"Month_FF\",\"Raw_vistors_Monthly_level\"])\n",
    "dataframe_total_FF_2.head(2)"
   ]
  },
  {
   "cell_type": "markdown",
   "id": "11e7ac43",
   "metadata": {},
   "source": [
    "### Merge FF_Raw_Data_Parts"
   ]
  },
  {
   "cell_type": "code",
   "execution_count": 29,
   "id": "148b42f8",
   "metadata": {},
   "outputs": [
    {
     "data": {
      "text/html": [
       "<div>\n",
       "<style scoped>\n",
       "    .dataframe tbody tr th:only-of-type {\n",
       "        vertical-align: middle;\n",
       "    }\n",
       "\n",
       "    .dataframe tbody tr th {\n",
       "        vertical-align: top;\n",
       "    }\n",
       "\n",
       "    .dataframe thead th {\n",
       "        text-align: right;\n",
       "    }\n",
       "</style>\n",
       "<table border=\"1\" class=\"dataframe\">\n",
       "  <thead>\n",
       "    <tr style=\"text-align: right;\">\n",
       "      <th></th>\n",
       "      <th>gmap_id</th>\n",
       "      <th>Month_FF</th>\n",
       "      <th>Raw_Visitors_Monthly_level</th>\n",
       "      <th>Week Start_FF</th>\n",
       "      <th>Visits_Weekly_level</th>\n",
       "    </tr>\n",
       "  </thead>\n",
       "  <tbody>\n",
       "    <tr>\n",
       "      <th>0</th>\n",
       "      <td>0x880e2d214ef65adf:0x5d67c91656d9784f</td>\n",
       "      <td>2018-01-01</td>\n",
       "      <td>176.0</td>\n",
       "      <td>2018-01-01</td>\n",
       "      <td>60</td>\n",
       "    </tr>\n",
       "    <tr>\n",
       "      <th>1</th>\n",
       "      <td>0x880e2d214ef65adf:0x5d67c91656d9784f</td>\n",
       "      <td>2018-01-01</td>\n",
       "      <td>176.0</td>\n",
       "      <td>2018-01-08</td>\n",
       "      <td>74</td>\n",
       "    </tr>\n",
       "  </tbody>\n",
       "</table>\n",
       "</div>"
      ],
      "text/plain": [
       "                                 gmap_id    Month_FF  \\\n",
       "0  0x880e2d214ef65adf:0x5d67c91656d9784f  2018-01-01   \n",
       "1  0x880e2d214ef65adf:0x5d67c91656d9784f  2018-01-01   \n",
       "\n",
       "  Raw_Visitors_Monthly_level Week Start_FF  Visits_Weekly_level  \n",
       "0                      176.0    2018-01-01                   60  \n",
       "1                      176.0    2018-01-08                   74  "
      ]
     },
     "execution_count": 29,
     "metadata": {},
     "output_type": "execute_result"
    }
   ],
   "source": [
    "total_1=pd.merge(dataframe_total_FF_1,dataframe_total_FF_2,left_on=[\"gmap_id\",\"Month_match\"],right_on=[\"gmap_id\",\"Month_FF\"],how=\"outer\")\n",
    "total_1=total_1[[\"gmap_id\",\"Month_match\",\"Raw_vistors_Monthly_level\",\"Week Start_FF\",\"visits_weekly_level\"]]\n",
    "total_1.rename(columns={\n",
    "    \"Month_match\":\"Month_FF\",\n",
    "    \"Raw_vistors_Monthly_level\":\"Raw_Visitors_Monthly_level\",\n",
    "    \"visits_weekly_level\":\"Visits_Weekly_level\"\n",
    "},inplace=True)\n",
    "#total_1[\"Raw_Visitors_Monthly_level\"]=total_1[\"Raw_Visitors_Monthly_level\"].fillna(\"Not Available\")\n",
    "total_1.head(2)"
   ]
  },
  {
   "cell_type": "markdown",
   "id": "efd4b277",
   "metadata": {},
   "source": [
    "### Expand Meta_and_Reviews"
   ]
  },
  {
   "cell_type": "code",
   "execution_count": 30,
   "id": "3cf6a358",
   "metadata": {},
   "outputs": [],
   "source": [
    "total_2=dataframe_total[[\"gmap_id\",'Date','Average Rating', 'Count of Reviews']]\n",
    "#Date\n",
    "total_2.loc[:,'Date']=total_2['Date'].apply(lambda x:x.strip('][').replace(\"'\",\"\").split(','))\n",
    "total_2[\"Date\"]=total_2[\"Date\"].apply(lambda x:[temp.strip() for temp in x])\n",
    "#Average Rating\n",
    "total_2.loc[:,'Average Rating']=total_2['Average Rating'].apply(lambda x:x.strip('][').replace(\"'\",\"\").split(','))\n",
    "total_2.loc[:,'Average Rating']=total_2['Average Rating'].apply(lambda x:[float(temp) for temp in x])\n",
    "total_2.loc[:,'Average Rating']=total_2['Average Rating'].apply(lambda x:[round(temp,2) for temp in x])\n",
    "#Count of Reviews\n",
    "total_2.loc[:,'Count of Reviews']=total_2['Count of Reviews'].apply(lambda x:x.strip('][').replace(\"'\",\"\").split(','))\n",
    "total_2.loc[:,'Count of Reviews']=total_2['Count of Reviews'].apply(lambda x:[float(temp) for temp in x])\n",
    "total_2.loc[:,'Count of Reviews']=total_2['Count of Reviews'].apply(lambda x:[int(temp) for temp in x])"
   ]
  },
  {
   "cell_type": "code",
   "execution_count": 31,
   "id": "6270148e",
   "metadata": {},
   "outputs": [
    {
     "data": {
      "text/html": [
       "<div>\n",
       "<style scoped>\n",
       "    .dataframe tbody tr th:only-of-type {\n",
       "        vertical-align: middle;\n",
       "    }\n",
       "\n",
       "    .dataframe tbody tr th {\n",
       "        vertical-align: top;\n",
       "    }\n",
       "\n",
       "    .dataframe thead th {\n",
       "        text-align: right;\n",
       "    }\n",
       "</style>\n",
       "<table border=\"1\" class=\"dataframe\">\n",
       "  <thead>\n",
       "    <tr style=\"text-align: right;\">\n",
       "      <th></th>\n",
       "      <th>gmap_id</th>\n",
       "      <th>Week_Start_MR</th>\n",
       "      <th>Average Rating_MR</th>\n",
       "      <th>Count of Reviews_MR</th>\n",
       "    </tr>\n",
       "  </thead>\n",
       "  <tbody>\n",
       "    <tr>\n",
       "      <th>0</th>\n",
       "      <td>0x880e2d214ef65adf:0x5d67c91656d9784f</td>\n",
       "      <td>2020-01-20</td>\n",
       "      <td>5.0</td>\n",
       "      <td>1</td>\n",
       "    </tr>\n",
       "    <tr>\n",
       "      <th>0</th>\n",
       "      <td>0x880e2d214ef65adf:0x5d67c91656d9784f</td>\n",
       "      <td>2020-02-03</td>\n",
       "      <td>5.0</td>\n",
       "      <td>1</td>\n",
       "    </tr>\n",
       "  </tbody>\n",
       "</table>\n",
       "</div>"
      ],
      "text/plain": [
       "                                 gmap_id Week_Start_MR Average Rating_MR  \\\n",
       "0  0x880e2d214ef65adf:0x5d67c91656d9784f    2020-01-20               5.0   \n",
       "0  0x880e2d214ef65adf:0x5d67c91656d9784f    2020-02-03               5.0   \n",
       "\n",
       "  Count of Reviews_MR  \n",
       "0                   1  \n",
       "0                   1  "
      ]
     },
     "execution_count": 31,
     "metadata": {},
     "output_type": "execute_result"
    }
   ],
   "source": [
    "total_2=total_2.explode([\"Date\",\"Average Rating\",\"Count of Reviews\"])\n",
    "total_2.rename(columns={\n",
    "    \"Date\":\"Week_Start_MR\",\n",
    "    \"Average Rating\":\"Average Rating_MR\",\n",
    "    \"Count of Reviews\":\"Count of Reviews_MR\"\n",
    "},inplace=True)\n",
    "total_2.head(2)"
   ]
  },
  {
   "cell_type": "markdown",
   "id": "840e6fa7",
   "metadata": {},
   "source": [
    "### Expand Revenues_and_Geometry"
   ]
  },
  {
   "cell_type": "code",
   "execution_count": 32,
   "id": "d4c0fe3a",
   "metadata": {},
   "outputs": [],
   "source": [
    "total_3=dataframe_total[[\"gmap_id\",'Month', 'spend_by_transaction_intermediary','online_spend', 'online_transactions', \n",
    "    'Week Start','Sum_spent_by_week', 'Average_spent_per_transaction_by_week']]"
   ]
  },
  {
   "cell_type": "code",
   "execution_count": 33,
   "id": "759fe6ad",
   "metadata": {},
   "outputs": [],
   "source": [
    "#Week_Start\n",
    "total_3.loc[:,'Week Start']=total_3['Week Start'].apply(lambda x:x.strip('][').replace(\"'\",\"\").split(','))\n",
    "total_3[\"Week Start\"]=total_3[\"Week Start\"].apply(lambda x:[temp.strip() for temp in x])\n",
    "#Visits Weekly Level\n",
    "total_3.loc[:,'Sum_spent_by_week']=total_3['Sum_spent_by_week'].apply(lambda x:x.strip('][').replace(\"'\",\"\").split(','))\n",
    "total_3.loc[:,'Sum_spent_by_week']=total_3['Sum_spent_by_week'].apply(lambda x:[float(temp) for temp in x])\n",
    "total_3.loc[:,'Sum_spent_by_week']=total_3['Sum_spent_by_week'].apply(lambda x:[round(temp,2) for temp in x])\n",
    "#Average Spent By week\n",
    "total_3.loc[:,'Average_spent_per_transaction_by_week']=total_3['Average_spent_per_transaction_by_week'].apply(lambda x:x.strip('][').replace(\"'\",\"\").split(','))\n",
    "total_3.loc[:,'Average_spent_per_transaction_by_week']=total_3['Average_spent_per_transaction_by_week'].apply(lambda x:[float(temp) for temp in x])\n",
    "total_3.loc[:,'Average_spent_per_transaction_by_week']=total_3['Average_spent_per_transaction_by_week'].apply(lambda x:[round(temp,2) for temp in x])"
   ]
  },
  {
   "cell_type": "code",
   "execution_count": 34,
   "id": "be986e07",
   "metadata": {},
   "outputs": [],
   "source": [
    "#Month\n",
    "total_3.loc[:,'Month']=total_3['Month'].apply(lambda x:x.strip('][').replace(\"'\",\"\").split(','))\n",
    "total_3[\"Month\"]=total_3[\"Month\"].apply(lambda x:[temp.strip() for temp in x])"
   ]
  },
  {
   "cell_type": "markdown",
   "id": "60566637",
   "metadata": {},
   "source": [
    "### 1.a Weekly Level"
   ]
  },
  {
   "cell_type": "code",
   "execution_count": 35,
   "id": "7ca1d641",
   "metadata": {},
   "outputs": [
    {
     "data": {
      "text/html": [
       "<div>\n",
       "<style scoped>\n",
       "    .dataframe tbody tr th:only-of-type {\n",
       "        vertical-align: middle;\n",
       "    }\n",
       "\n",
       "    .dataframe tbody tr th {\n",
       "        vertical-align: top;\n",
       "    }\n",
       "\n",
       "    .dataframe thead th {\n",
       "        text-align: right;\n",
       "    }\n",
       "</style>\n",
       "<table border=\"1\" class=\"dataframe\">\n",
       "  <thead>\n",
       "    <tr style=\"text-align: right;\">\n",
       "      <th></th>\n",
       "      <th>gmap_id</th>\n",
       "      <th>Week Start</th>\n",
       "      <th>Sum_spent_by_week</th>\n",
       "      <th>Average_spent_per_transaction_by_week</th>\n",
       "    </tr>\n",
       "  </thead>\n",
       "  <tbody>\n",
       "    <tr>\n",
       "      <th>0</th>\n",
       "      <td>0x880e2d214ef65adf:0x5d67c91656d9784f</td>\n",
       "      <td>2019-04-29</td>\n",
       "      <td>0.0</td>\n",
       "      <td>0.0</td>\n",
       "    </tr>\n",
       "    <tr>\n",
       "      <th>0</th>\n",
       "      <td>0x880e2d214ef65adf:0x5d67c91656d9784f</td>\n",
       "      <td>2019-05-06</td>\n",
       "      <td>0.0</td>\n",
       "      <td>0.0</td>\n",
       "    </tr>\n",
       "    <tr>\n",
       "      <th>0</th>\n",
       "      <td>0x880e2d214ef65adf:0x5d67c91656d9784f</td>\n",
       "      <td>2019-05-13</td>\n",
       "      <td>0.0</td>\n",
       "      <td>0.0</td>\n",
       "    </tr>\n",
       "    <tr>\n",
       "      <th>0</th>\n",
       "      <td>0x880e2d214ef65adf:0x5d67c91656d9784f</td>\n",
       "      <td>2019-05-20</td>\n",
       "      <td>0.0</td>\n",
       "      <td>0.0</td>\n",
       "    </tr>\n",
       "    <tr>\n",
       "      <th>0</th>\n",
       "      <td>0x880e2d214ef65adf:0x5d67c91656d9784f</td>\n",
       "      <td>2019-05-27</td>\n",
       "      <td>69.98</td>\n",
       "      <td>7.0</td>\n",
       "    </tr>\n",
       "  </tbody>\n",
       "</table>\n",
       "</div>"
      ],
      "text/plain": [
       "                                 gmap_id  Week Start Sum_spent_by_week  \\\n",
       "0  0x880e2d214ef65adf:0x5d67c91656d9784f  2019-04-29               0.0   \n",
       "0  0x880e2d214ef65adf:0x5d67c91656d9784f  2019-05-06               0.0   \n",
       "0  0x880e2d214ef65adf:0x5d67c91656d9784f  2019-05-13               0.0   \n",
       "0  0x880e2d214ef65adf:0x5d67c91656d9784f  2019-05-20               0.0   \n",
       "0  0x880e2d214ef65adf:0x5d67c91656d9784f  2019-05-27             69.98   \n",
       "\n",
       "  Average_spent_per_transaction_by_week  \n",
       "0                                   0.0  \n",
       "0                                   0.0  \n",
       "0                                   0.0  \n",
       "0                                   0.0  \n",
       "0                                   7.0  "
      ]
     },
     "execution_count": 35,
     "metadata": {},
     "output_type": "execute_result"
    }
   ],
   "source": [
    "total_3_a=total_3[[\"gmap_id\",\"Week Start\",\"Sum_spent_by_week\",\"Average_spent_per_transaction_by_week\"]]\n",
    "total_3_a=total_3_a.explode([\"Week Start\",\"Sum_spent_by_week\",\"Average_spent_per_transaction_by_week\"])\n",
    "total_3_a.head()"
   ]
  },
  {
   "cell_type": "markdown",
   "id": "613b7b0b",
   "metadata": {},
   "source": [
    "### 2.b Monthly Level"
   ]
  },
  {
   "cell_type": "code",
   "execution_count": 36,
   "id": "c2d18ad8",
   "metadata": {},
   "outputs": [
    {
     "data": {
      "text/html": [
       "<div>\n",
       "<style scoped>\n",
       "    .dataframe tbody tr th:only-of-type {\n",
       "        vertical-align: middle;\n",
       "    }\n",
       "\n",
       "    .dataframe tbody tr th {\n",
       "        vertical-align: top;\n",
       "    }\n",
       "\n",
       "    .dataframe thead th {\n",
       "        text-align: right;\n",
       "    }\n",
       "</style>\n",
       "<table border=\"1\" class=\"dataframe\">\n",
       "  <thead>\n",
       "    <tr style=\"text-align: right;\">\n",
       "      <th></th>\n",
       "      <th>gmap_id</th>\n",
       "      <th>Month</th>\n",
       "      <th>online_spend</th>\n",
       "      <th>online_transactions</th>\n",
       "    </tr>\n",
       "  </thead>\n",
       "  <tbody>\n",
       "    <tr>\n",
       "      <th>0</th>\n",
       "      <td>0x880e2d214ef65adf:0x5d67c91656d9784f</td>\n",
       "      <td>[2019-05-01]</td>\n",
       "      <td>0</td>\n",
       "      <td>0</td>\n",
       "    </tr>\n",
       "    <tr>\n",
       "      <th>1</th>\n",
       "      <td>0x80c2bbeac2719853:0x994eb5726b3d4795</td>\n",
       "      <td>[2019-03-01]</td>\n",
       "      <td>0</td>\n",
       "      <td>0</td>\n",
       "    </tr>\n",
       "    <tr>\n",
       "      <th>2</th>\n",
       "      <td>0x880e2c05c5461f29:0xe71ba8fac68d2a1d</td>\n",
       "      <td>[2020-07-01]</td>\n",
       "      <td>0</td>\n",
       "      <td>0</td>\n",
       "    </tr>\n",
       "    <tr>\n",
       "      <th>3</th>\n",
       "      <td>0x880e2cbcb4af42d3:0xb8998d0876263dc</td>\n",
       "      <td>[2021-09-01]</td>\n",
       "      <td>0</td>\n",
       "      <td>0</td>\n",
       "    </tr>\n",
       "    <tr>\n",
       "      <th>4</th>\n",
       "      <td>0x880fd3ad8bc1067f:0x6d651f6f486421fb</td>\n",
       "      <td>[2021-03-01]</td>\n",
       "      <td>[22.13]</td>\n",
       "      <td>[1.0]</td>\n",
       "    </tr>\n",
       "  </tbody>\n",
       "</table>\n",
       "</div>"
      ],
      "text/plain": [
       "                                 gmap_id         Month online_spend  \\\n",
       "0  0x880e2d214ef65adf:0x5d67c91656d9784f  [2019-05-01]            0   \n",
       "1  0x80c2bbeac2719853:0x994eb5726b3d4795  [2019-03-01]            0   \n",
       "2  0x880e2c05c5461f29:0xe71ba8fac68d2a1d  [2020-07-01]            0   \n",
       "3   0x880e2cbcb4af42d3:0xb8998d0876263dc  [2021-09-01]            0   \n",
       "4  0x880fd3ad8bc1067f:0x6d651f6f486421fb  [2021-03-01]      [22.13]   \n",
       "\n",
       "  online_transactions  \n",
       "0                   0  \n",
       "1                   0  \n",
       "2                   0  \n",
       "3                   0  \n",
       "4               [1.0]  "
      ]
     },
     "execution_count": 36,
     "metadata": {},
     "output_type": "execute_result"
    }
   ],
   "source": [
    "total_3_b=total_3[[\"gmap_id\",'Month','online_spend', 'online_transactions']]\n",
    "total_3_b.head()"
   ]
  },
  {
   "cell_type": "code",
   "execution_count": 37,
   "id": "fd912333",
   "metadata": {},
   "outputs": [
    {
     "data": {
      "text/html": [
       "<div>\n",
       "<style scoped>\n",
       "    .dataframe tbody tr th:only-of-type {\n",
       "        vertical-align: middle;\n",
       "    }\n",
       "\n",
       "    .dataframe tbody tr th {\n",
       "        vertical-align: top;\n",
       "    }\n",
       "\n",
       "    .dataframe thead th {\n",
       "        text-align: right;\n",
       "    }\n",
       "</style>\n",
       "<table border=\"1\" class=\"dataframe\">\n",
       "  <thead>\n",
       "    <tr style=\"text-align: right;\">\n",
       "      <th></th>\n",
       "      <th>gmap_id</th>\n",
       "      <th>Month</th>\n",
       "      <th>online_spend</th>\n",
       "      <th>online_transactions</th>\n",
       "    </tr>\n",
       "  </thead>\n",
       "  <tbody>\n",
       "    <tr>\n",
       "      <th>0</th>\n",
       "      <td>0x880e2d214ef65adf:0x5d67c91656d9784f</td>\n",
       "      <td>2019-05-01</td>\n",
       "      <td>0</td>\n",
       "      <td>0</td>\n",
       "    </tr>\n",
       "    <tr>\n",
       "      <th>1</th>\n",
       "      <td>0x80c2bbeac2719853:0x994eb5726b3d4795</td>\n",
       "      <td>2019-03-01</td>\n",
       "      <td>0</td>\n",
       "      <td>0</td>\n",
       "    </tr>\n",
       "    <tr>\n",
       "      <th>2</th>\n",
       "      <td>0x880e2c05c5461f29:0xe71ba8fac68d2a1d</td>\n",
       "      <td>2020-07-01</td>\n",
       "      <td>0</td>\n",
       "      <td>0</td>\n",
       "    </tr>\n",
       "    <tr>\n",
       "      <th>3</th>\n",
       "      <td>0x880e2cbcb4af42d3:0xb8998d0876263dc</td>\n",
       "      <td>2021-09-01</td>\n",
       "      <td>0</td>\n",
       "      <td>0</td>\n",
       "    </tr>\n",
       "    <tr>\n",
       "      <th>5</th>\n",
       "      <td>0x8640bc3056bdb10f:0x9aa66770193595c6</td>\n",
       "      <td>2019-08-01</td>\n",
       "      <td>0</td>\n",
       "      <td>0</td>\n",
       "    </tr>\n",
       "  </tbody>\n",
       "</table>\n",
       "</div>"
      ],
      "text/plain": [
       "                                 gmap_id       Month online_spend  \\\n",
       "0  0x880e2d214ef65adf:0x5d67c91656d9784f  2019-05-01            0   \n",
       "1  0x80c2bbeac2719853:0x994eb5726b3d4795  2019-03-01            0   \n",
       "2  0x880e2c05c5461f29:0xe71ba8fac68d2a1d  2020-07-01            0   \n",
       "3   0x880e2cbcb4af42d3:0xb8998d0876263dc  2021-09-01            0   \n",
       "5  0x8640bc3056bdb10f:0x9aa66770193595c6  2019-08-01            0   \n",
       "\n",
       "  online_transactions  \n",
       "0                   0  \n",
       "1                   0  \n",
       "2                   0  \n",
       "3                   0  \n",
       "5                   0  "
      ]
     },
     "execution_count": 37,
     "metadata": {},
     "output_type": "execute_result"
    }
   ],
   "source": [
    "total_3_b_a=total_3_b[total_3_b[\"online_spend\"]==\"0\"].explode([\"Month\"])\n",
    "total_3_b_a.head()"
   ]
  },
  {
   "cell_type": "code",
   "execution_count": 38,
   "id": "d1ba1900",
   "metadata": {},
   "outputs": [
    {
     "data": {
      "text/html": [
       "<div>\n",
       "<style scoped>\n",
       "    .dataframe tbody tr th:only-of-type {\n",
       "        vertical-align: middle;\n",
       "    }\n",
       "\n",
       "    .dataframe tbody tr th {\n",
       "        vertical-align: top;\n",
       "    }\n",
       "\n",
       "    .dataframe thead th {\n",
       "        text-align: right;\n",
       "    }\n",
       "</style>\n",
       "<table border=\"1\" class=\"dataframe\">\n",
       "  <thead>\n",
       "    <tr style=\"text-align: right;\">\n",
       "      <th></th>\n",
       "      <th>gmap_id</th>\n",
       "      <th>Month</th>\n",
       "      <th>online_spend</th>\n",
       "      <th>online_transactions</th>\n",
       "    </tr>\n",
       "  </thead>\n",
       "  <tbody>\n",
       "    <tr>\n",
       "      <th>4</th>\n",
       "      <td>0x880fd3ad8bc1067f:0x6d651f6f486421fb</td>\n",
       "      <td>2021-03-01</td>\n",
       "      <td>22.13</td>\n",
       "      <td>1.0</td>\n",
       "    </tr>\n",
       "    <tr>\n",
       "      <th>8</th>\n",
       "      <td>0x8640c78209cd92d1:0x9e3d87f7f49d1b32</td>\n",
       "      <td>2019-02-01</td>\n",
       "      <td>3.0</td>\n",
       "      <td>2.0</td>\n",
       "    </tr>\n",
       "    <tr>\n",
       "      <th>26</th>\n",
       "      <td>0x80c2c7953fb89799:0xe614f8f5b05ff4c3</td>\n",
       "      <td>2022-08-01</td>\n",
       "      <td>262.87</td>\n",
       "      <td>1.0</td>\n",
       "    </tr>\n",
       "    <tr>\n",
       "      <th>28</th>\n",
       "      <td>0x880fd3de7014448d:0x54f348be3162555a</td>\n",
       "      <td>2022-05-01</td>\n",
       "      <td>26.0</td>\n",
       "      <td>2.0</td>\n",
       "    </tr>\n",
       "    <tr>\n",
       "      <th>29</th>\n",
       "      <td>0x880fd3f6e9627027:0xbafc87e459b78504</td>\n",
       "      <td>2022-08-01</td>\n",
       "      <td>310.0</td>\n",
       "      <td>4.0</td>\n",
       "    </tr>\n",
       "  </tbody>\n",
       "</table>\n",
       "</div>"
      ],
      "text/plain": [
       "                                  gmap_id       Month online_spend  \\\n",
       "4   0x880fd3ad8bc1067f:0x6d651f6f486421fb  2021-03-01        22.13   \n",
       "8   0x8640c78209cd92d1:0x9e3d87f7f49d1b32  2019-02-01          3.0   \n",
       "26  0x80c2c7953fb89799:0xe614f8f5b05ff4c3  2022-08-01       262.87   \n",
       "28  0x880fd3de7014448d:0x54f348be3162555a  2022-05-01         26.0   \n",
       "29  0x880fd3f6e9627027:0xbafc87e459b78504  2022-08-01        310.0   \n",
       "\n",
       "   online_transactions  \n",
       "4                  1.0  \n",
       "8                  2.0  \n",
       "26                 1.0  \n",
       "28                 2.0  \n",
       "29                 4.0  "
      ]
     },
     "execution_count": 38,
     "metadata": {},
     "output_type": "execute_result"
    }
   ],
   "source": [
    "total_3_b_b=total_3_b[total_3_b[\"online_spend\"]!=\"0\"]\n",
    "#Online Spend\n",
    "total_3_b_b.loc[:,'online_spend']=total_3_b_b['online_spend'].apply(lambda x:x.strip('][').replace(\"'\",\"\").split(','))\n",
    "total_3_b_b.loc[:,'online_spend']=total_3_b_b['online_spend'].apply(lambda x:[float(temp) for temp in x])\n",
    "total_3_b_b.loc[:,'online_spend']=total_3_b_b['online_spend'].apply(lambda x:[round(temp,2) for temp in x])\n",
    "#Online Transactions\n",
    "total_3_b_b.loc[:,'online_transactions']=total_3_b_b['online_transactions'].apply(lambda x:x.strip('][').replace(\"'\",\"\").split(','))\n",
    "total_3_b_b.loc[:,'online_transactions']=total_3_b_b['online_transactions'].apply(lambda x:[float(temp) for temp in x])\n",
    "total_3_b_b.loc[:,'online_transactions']=total_3_b_b['online_transactions'].apply(lambda x:[round(temp,2) for temp in x])\n",
    "total_3_b_b=total_3_b_b.explode([\"Month\",\"online_spend\",\"online_transactions\"])\n",
    "total_3_b_b.head()"
   ]
  },
  {
   "cell_type": "code",
   "execution_count": 39,
   "id": "bbd8290a",
   "metadata": {},
   "outputs": [
    {
     "data": {
      "text/html": [
       "<div>\n",
       "<style scoped>\n",
       "    .dataframe tbody tr th:only-of-type {\n",
       "        vertical-align: middle;\n",
       "    }\n",
       "\n",
       "    .dataframe tbody tr th {\n",
       "        vertical-align: top;\n",
       "    }\n",
       "\n",
       "    .dataframe thead th {\n",
       "        text-align: right;\n",
       "    }\n",
       "</style>\n",
       "<table border=\"1\" class=\"dataframe\">\n",
       "  <thead>\n",
       "    <tr style=\"text-align: right;\">\n",
       "      <th></th>\n",
       "      <th>gmap_id</th>\n",
       "      <th>Month</th>\n",
       "      <th>online_spend</th>\n",
       "      <th>online_transactions</th>\n",
       "    </tr>\n",
       "  </thead>\n",
       "  <tbody>\n",
       "    <tr>\n",
       "      <th>0</th>\n",
       "      <td>0x880e2d214ef65adf:0x5d67c91656d9784f</td>\n",
       "      <td>2019-05-01</td>\n",
       "      <td>0</td>\n",
       "      <td>0</td>\n",
       "    </tr>\n",
       "    <tr>\n",
       "      <th>1</th>\n",
       "      <td>0x80c2bbeac2719853:0x994eb5726b3d4795</td>\n",
       "      <td>2019-03-01</td>\n",
       "      <td>0</td>\n",
       "      <td>0</td>\n",
       "    </tr>\n",
       "    <tr>\n",
       "      <th>2</th>\n",
       "      <td>0x880e2c05c5461f29:0xe71ba8fac68d2a1d</td>\n",
       "      <td>2020-07-01</td>\n",
       "      <td>0</td>\n",
       "      <td>0</td>\n",
       "    </tr>\n",
       "    <tr>\n",
       "      <th>3</th>\n",
       "      <td>0x880e2cbcb4af42d3:0xb8998d0876263dc</td>\n",
       "      <td>2021-09-01</td>\n",
       "      <td>0</td>\n",
       "      <td>0</td>\n",
       "    </tr>\n",
       "    <tr>\n",
       "      <th>5</th>\n",
       "      <td>0x8640bc3056bdb10f:0x9aa66770193595c6</td>\n",
       "      <td>2019-08-01</td>\n",
       "      <td>0</td>\n",
       "      <td>0</td>\n",
       "    </tr>\n",
       "  </tbody>\n",
       "</table>\n",
       "</div>"
      ],
      "text/plain": [
       "                                 gmap_id       Month online_spend  \\\n",
       "0  0x880e2d214ef65adf:0x5d67c91656d9784f  2019-05-01            0   \n",
       "1  0x80c2bbeac2719853:0x994eb5726b3d4795  2019-03-01            0   \n",
       "2  0x880e2c05c5461f29:0xe71ba8fac68d2a1d  2020-07-01            0   \n",
       "3   0x880e2cbcb4af42d3:0xb8998d0876263dc  2021-09-01            0   \n",
       "5  0x8640bc3056bdb10f:0x9aa66770193595c6  2019-08-01            0   \n",
       "\n",
       "  online_transactions  \n",
       "0                   0  \n",
       "1                   0  \n",
       "2                   0  \n",
       "3                   0  \n",
       "5                   0  "
      ]
     },
     "execution_count": 39,
     "metadata": {},
     "output_type": "execute_result"
    }
   ],
   "source": [
    "total_3_b=pd.concat([total_3_b_a,total_3_b_b])\n",
    "total_3_b.head()"
   ]
  },
  {
   "cell_type": "markdown",
   "id": "4f2ba31e",
   "metadata": {},
   "source": [
    "### 2.c Spend Transaction Intermediary"
   ]
  },
  {
   "cell_type": "code",
   "execution_count": 40,
   "id": "cae93133",
   "metadata": {},
   "outputs": [
    {
     "data": {
      "text/html": [
       "<div>\n",
       "<style scoped>\n",
       "    .dataframe tbody tr th:only-of-type {\n",
       "        vertical-align: middle;\n",
       "    }\n",
       "\n",
       "    .dataframe tbody tr th {\n",
       "        vertical-align: top;\n",
       "    }\n",
       "\n",
       "    .dataframe thead th {\n",
       "        text-align: right;\n",
       "    }\n",
       "</style>\n",
       "<table border=\"1\" class=\"dataframe\">\n",
       "  <thead>\n",
       "    <tr style=\"text-align: right;\">\n",
       "      <th></th>\n",
       "      <th>gmap_id</th>\n",
       "      <th>Month</th>\n",
       "      <th>spend_by_transaction_intermediary</th>\n",
       "    </tr>\n",
       "  </thead>\n",
       "  <tbody>\n",
       "    <tr>\n",
       "      <th>0</th>\n",
       "      <td>0x880e2d214ef65adf:0x5d67c91656d9784f</td>\n",
       "      <td>[2019-05-01]</td>\n",
       "      <td>{'No intermediary'}</td>\n",
       "    </tr>\n",
       "    <tr>\n",
       "      <th>1</th>\n",
       "      <td>0x80c2bbeac2719853:0x994eb5726b3d4795</td>\n",
       "      <td>[2019-03-01]</td>\n",
       "      <td>{'No intermediary'}</td>\n",
       "    </tr>\n",
       "    <tr>\n",
       "      <th>2</th>\n",
       "      <td>0x880e2c05c5461f29:0xe71ba8fac68d2a1d</td>\n",
       "      <td>[2020-07-01]</td>\n",
       "      <td>{'No intermediary'}</td>\n",
       "    </tr>\n",
       "    <tr>\n",
       "      <th>3</th>\n",
       "      <td>0x880e2cbcb4af42d3:0xb8998d0876263dc</td>\n",
       "      <td>[2021-09-01]</td>\n",
       "      <td>{'No intermediary'}</td>\n",
       "    </tr>\n",
       "    <tr>\n",
       "      <th>4</th>\n",
       "      <td>0x880fd3ad8bc1067f:0x6d651f6f486421fb</td>\n",
       "      <td>[2021-03-01]</td>\n",
       "      <td>[{'No intermediary': 22.13, 'Square': 8.93}]</td>\n",
       "    </tr>\n",
       "  </tbody>\n",
       "</table>\n",
       "</div>"
      ],
      "text/plain": [
       "                                 gmap_id         Month  \\\n",
       "0  0x880e2d214ef65adf:0x5d67c91656d9784f  [2019-05-01]   \n",
       "1  0x80c2bbeac2719853:0x994eb5726b3d4795  [2019-03-01]   \n",
       "2  0x880e2c05c5461f29:0xe71ba8fac68d2a1d  [2020-07-01]   \n",
       "3   0x880e2cbcb4af42d3:0xb8998d0876263dc  [2021-09-01]   \n",
       "4  0x880fd3ad8bc1067f:0x6d651f6f486421fb  [2021-03-01]   \n",
       "\n",
       "              spend_by_transaction_intermediary  \n",
       "0                           {'No intermediary'}  \n",
       "1                           {'No intermediary'}  \n",
       "2                           {'No intermediary'}  \n",
       "3                           {'No intermediary'}  \n",
       "4  [{'No intermediary': 22.13, 'Square': 8.93}]  "
      ]
     },
     "execution_count": 40,
     "metadata": {},
     "output_type": "execute_result"
    }
   ],
   "source": [
    "total_3_c=total_3[[\"gmap_id\",'Month', 'spend_by_transaction_intermediary']]\n",
    "total_3_c.head()"
   ]
  },
  {
   "cell_type": "code",
   "execution_count": 41,
   "id": "3d30efc5",
   "metadata": {},
   "outputs": [
    {
     "data": {
      "text/html": [
       "<div>\n",
       "<style scoped>\n",
       "    .dataframe tbody tr th:only-of-type {\n",
       "        vertical-align: middle;\n",
       "    }\n",
       "\n",
       "    .dataframe tbody tr th {\n",
       "        vertical-align: top;\n",
       "    }\n",
       "\n",
       "    .dataframe thead th {\n",
       "        text-align: right;\n",
       "    }\n",
       "</style>\n",
       "<table border=\"1\" class=\"dataframe\">\n",
       "  <thead>\n",
       "    <tr style=\"text-align: right;\">\n",
       "      <th></th>\n",
       "      <th>gmap_id</th>\n",
       "      <th>Month</th>\n",
       "      <th>spend_by_transaction_intermediary</th>\n",
       "    </tr>\n",
       "  </thead>\n",
       "  <tbody>\n",
       "    <tr>\n",
       "      <th>0</th>\n",
       "      <td>0x880e2d214ef65adf:0x5d67c91656d9784f</td>\n",
       "      <td>2019-05-01</td>\n",
       "      <td>{'No intermediary'}</td>\n",
       "    </tr>\n",
       "    <tr>\n",
       "      <th>1</th>\n",
       "      <td>0x80c2bbeac2719853:0x994eb5726b3d4795</td>\n",
       "      <td>2019-03-01</td>\n",
       "      <td>{'No intermediary'}</td>\n",
       "    </tr>\n",
       "    <tr>\n",
       "      <th>2</th>\n",
       "      <td>0x880e2c05c5461f29:0xe71ba8fac68d2a1d</td>\n",
       "      <td>2020-07-01</td>\n",
       "      <td>{'No intermediary'}</td>\n",
       "    </tr>\n",
       "    <tr>\n",
       "      <th>3</th>\n",
       "      <td>0x880e2cbcb4af42d3:0xb8998d0876263dc</td>\n",
       "      <td>2021-09-01</td>\n",
       "      <td>{'No intermediary'}</td>\n",
       "    </tr>\n",
       "    <tr>\n",
       "      <th>5</th>\n",
       "      <td>0x8640bc3056bdb10f:0x9aa66770193595c6</td>\n",
       "      <td>2019-08-01</td>\n",
       "      <td>{'No intermediary'}</td>\n",
       "    </tr>\n",
       "    <tr>\n",
       "      <th>...</th>\n",
       "      <td>...</td>\n",
       "      <td>...</td>\n",
       "      <td>...</td>\n",
       "    </tr>\n",
       "    <tr>\n",
       "      <th>819</th>\n",
       "      <td>0x80c2c0db03abaf8d:0xd6c338e8fe0a8fdf</td>\n",
       "      <td>2022-04-01</td>\n",
       "      <td>{'No intermediary'}</td>\n",
       "    </tr>\n",
       "    <tr>\n",
       "      <th>819</th>\n",
       "      <td>0x80c2c0db03abaf8d:0xd6c338e8fe0a8fdf</td>\n",
       "      <td>2022-05-01</td>\n",
       "      <td>{'No intermediary'}</td>\n",
       "    </tr>\n",
       "    <tr>\n",
       "      <th>819</th>\n",
       "      <td>0x80c2c0db03abaf8d:0xd6c338e8fe0a8fdf</td>\n",
       "      <td>2022-06-01</td>\n",
       "      <td>{'No intermediary'}</td>\n",
       "    </tr>\n",
       "    <tr>\n",
       "      <th>819</th>\n",
       "      <td>0x80c2c0db03abaf8d:0xd6c338e8fe0a8fdf</td>\n",
       "      <td>2022-07-01</td>\n",
       "      <td>{'No intermediary'}</td>\n",
       "    </tr>\n",
       "    <tr>\n",
       "      <th>819</th>\n",
       "      <td>0x80c2c0db03abaf8d:0xd6c338e8fe0a8fdf</td>\n",
       "      <td>2022-08-01</td>\n",
       "      <td>{'No intermediary'}</td>\n",
       "    </tr>\n",
       "  </tbody>\n",
       "</table>\n",
       "<p>40651 rows × 3 columns</p>\n",
       "</div>"
      ],
      "text/plain": [
       "                                   gmap_id       Month  \\\n",
       "0    0x880e2d214ef65adf:0x5d67c91656d9784f  2019-05-01   \n",
       "1    0x80c2bbeac2719853:0x994eb5726b3d4795  2019-03-01   \n",
       "2    0x880e2c05c5461f29:0xe71ba8fac68d2a1d  2020-07-01   \n",
       "3     0x880e2cbcb4af42d3:0xb8998d0876263dc  2021-09-01   \n",
       "5    0x8640bc3056bdb10f:0x9aa66770193595c6  2019-08-01   \n",
       "..                                     ...         ...   \n",
       "819  0x80c2c0db03abaf8d:0xd6c338e8fe0a8fdf  2022-04-01   \n",
       "819  0x80c2c0db03abaf8d:0xd6c338e8fe0a8fdf  2022-05-01   \n",
       "819  0x80c2c0db03abaf8d:0xd6c338e8fe0a8fdf  2022-06-01   \n",
       "819  0x80c2c0db03abaf8d:0xd6c338e8fe0a8fdf  2022-07-01   \n",
       "819  0x80c2c0db03abaf8d:0xd6c338e8fe0a8fdf  2022-08-01   \n",
       "\n",
       "    spend_by_transaction_intermediary  \n",
       "0                 {'No intermediary'}  \n",
       "1                 {'No intermediary'}  \n",
       "2                 {'No intermediary'}  \n",
       "3                 {'No intermediary'}  \n",
       "5                 {'No intermediary'}  \n",
       "..                                ...  \n",
       "819               {'No intermediary'}  \n",
       "819               {'No intermediary'}  \n",
       "819               {'No intermediary'}  \n",
       "819               {'No intermediary'}  \n",
       "819               {'No intermediary'}  \n",
       "\n",
       "[40651 rows x 3 columns]"
      ]
     },
     "execution_count": 41,
     "metadata": {},
     "output_type": "execute_result"
    }
   ],
   "source": [
    "total_3_c_a=total_3_c.loc[~total_3_c[\"spend_by_transaction_intermediary\"].str.contains(\"]\")].explode(\"Month\")\n",
    "total_3_c_a"
   ]
  },
  {
   "cell_type": "code",
   "execution_count": 42,
   "id": "93993851",
   "metadata": {},
   "outputs": [],
   "source": [
    "total_3_c_b=total_3_c.loc[total_3_c[\"spend_by_transaction_intermediary\"].str.contains(\"]\")]\n",
    "total_3_c_b[\"spend_by_transaction_intermediary\"]=total_3_c_b[\"spend_by_transaction_intermediary\"].apply(lambda x:eval(x))\n",
    "total_3_c_b=total_3_c_b.explode([\"Month\",\"spend_by_transaction_intermediary\"])"
   ]
  },
  {
   "cell_type": "code",
   "execution_count": 43,
   "id": "18b31731",
   "metadata": {},
   "outputs": [
    {
     "data": {
      "text/html": [
       "<div>\n",
       "<style scoped>\n",
       "    .dataframe tbody tr th:only-of-type {\n",
       "        vertical-align: middle;\n",
       "    }\n",
       "\n",
       "    .dataframe tbody tr th {\n",
       "        vertical-align: top;\n",
       "    }\n",
       "\n",
       "    .dataframe thead th {\n",
       "        text-align: right;\n",
       "    }\n",
       "</style>\n",
       "<table border=\"1\" class=\"dataframe\">\n",
       "  <thead>\n",
       "    <tr style=\"text-align: right;\">\n",
       "      <th></th>\n",
       "      <th>gmap_id</th>\n",
       "      <th>Month</th>\n",
       "      <th>spend_by_transaction_intermediary</th>\n",
       "    </tr>\n",
       "  </thead>\n",
       "  <tbody>\n",
       "    <tr>\n",
       "      <th>0</th>\n",
       "      <td>0x880e2d214ef65adf:0x5d67c91656d9784f</td>\n",
       "      <td>2019-05-01</td>\n",
       "      <td>{'No intermediary'}</td>\n",
       "    </tr>\n",
       "    <tr>\n",
       "      <th>1</th>\n",
       "      <td>0x80c2bbeac2719853:0x994eb5726b3d4795</td>\n",
       "      <td>2019-03-01</td>\n",
       "      <td>{'No intermediary'}</td>\n",
       "    </tr>\n",
       "    <tr>\n",
       "      <th>2</th>\n",
       "      <td>0x880e2c05c5461f29:0xe71ba8fac68d2a1d</td>\n",
       "      <td>2020-07-01</td>\n",
       "      <td>{'No intermediary'}</td>\n",
       "    </tr>\n",
       "    <tr>\n",
       "      <th>3</th>\n",
       "      <td>0x880e2cbcb4af42d3:0xb8998d0876263dc</td>\n",
       "      <td>2021-09-01</td>\n",
       "      <td>{'No intermediary'}</td>\n",
       "    </tr>\n",
       "    <tr>\n",
       "      <th>5</th>\n",
       "      <td>0x8640bc3056bdb10f:0x9aa66770193595c6</td>\n",
       "      <td>2019-08-01</td>\n",
       "      <td>{'No intermediary'}</td>\n",
       "    </tr>\n",
       "  </tbody>\n",
       "</table>\n",
       "</div>"
      ],
      "text/plain": [
       "                                 gmap_id       Month  \\\n",
       "0  0x880e2d214ef65adf:0x5d67c91656d9784f  2019-05-01   \n",
       "1  0x80c2bbeac2719853:0x994eb5726b3d4795  2019-03-01   \n",
       "2  0x880e2c05c5461f29:0xe71ba8fac68d2a1d  2020-07-01   \n",
       "3   0x880e2cbcb4af42d3:0xb8998d0876263dc  2021-09-01   \n",
       "5  0x8640bc3056bdb10f:0x9aa66770193595c6  2019-08-01   \n",
       "\n",
       "  spend_by_transaction_intermediary  \n",
       "0               {'No intermediary'}  \n",
       "1               {'No intermediary'}  \n",
       "2               {'No intermediary'}  \n",
       "3               {'No intermediary'}  \n",
       "5               {'No intermediary'}  "
      ]
     },
     "execution_count": 43,
     "metadata": {},
     "output_type": "execute_result"
    }
   ],
   "source": [
    "total_3_c=pd.concat([total_3_c_a,total_3_c_b])\n",
    "total_3_c.head()"
   ]
  },
  {
   "cell_type": "code",
   "execution_count": 44,
   "id": "fcdaecb6",
   "metadata": {},
   "outputs": [
    {
     "data": {
      "text/html": [
       "<div>\n",
       "<style scoped>\n",
       "    .dataframe tbody tr th:only-of-type {\n",
       "        vertical-align: middle;\n",
       "    }\n",
       "\n",
       "    .dataframe tbody tr th {\n",
       "        vertical-align: top;\n",
       "    }\n",
       "\n",
       "    .dataframe thead th {\n",
       "        text-align: right;\n",
       "    }\n",
       "</style>\n",
       "<table border=\"1\" class=\"dataframe\">\n",
       "  <thead>\n",
       "    <tr style=\"text-align: right;\">\n",
       "      <th></th>\n",
       "      <th>gmap_id</th>\n",
       "      <th>Month</th>\n",
       "      <th>online_spend</th>\n",
       "      <th>online_transactions</th>\n",
       "      <th>spend_by_transaction_intermediary</th>\n",
       "    </tr>\n",
       "  </thead>\n",
       "  <tbody>\n",
       "    <tr>\n",
       "      <th>0</th>\n",
       "      <td>0x880e2d214ef65adf:0x5d67c91656d9784f</td>\n",
       "      <td>2019-05-01</td>\n",
       "      <td>0</td>\n",
       "      <td>0</td>\n",
       "      <td>{'No intermediary'}</td>\n",
       "    </tr>\n",
       "    <tr>\n",
       "      <th>1</th>\n",
       "      <td>0x80c2bbeac2719853:0x994eb5726b3d4795</td>\n",
       "      <td>2019-03-01</td>\n",
       "      <td>0</td>\n",
       "      <td>0</td>\n",
       "      <td>{'No intermediary'}</td>\n",
       "    </tr>\n",
       "    <tr>\n",
       "      <th>2</th>\n",
       "      <td>0x880e2c05c5461f29:0xe71ba8fac68d2a1d</td>\n",
       "      <td>2020-07-01</td>\n",
       "      <td>0</td>\n",
       "      <td>0</td>\n",
       "      <td>{'No intermediary'}</td>\n",
       "    </tr>\n",
       "    <tr>\n",
       "      <th>3</th>\n",
       "      <td>0x880e2cbcb4af42d3:0xb8998d0876263dc</td>\n",
       "      <td>2021-09-01</td>\n",
       "      <td>0</td>\n",
       "      <td>0</td>\n",
       "      <td>{'No intermediary'}</td>\n",
       "    </tr>\n",
       "    <tr>\n",
       "      <th>4</th>\n",
       "      <td>0x8640bc3056bdb10f:0x9aa66770193595c6</td>\n",
       "      <td>2019-08-01</td>\n",
       "      <td>0</td>\n",
       "      <td>0</td>\n",
       "      <td>{'No intermediary'}</td>\n",
       "    </tr>\n",
       "    <tr>\n",
       "      <th>...</th>\n",
       "      <td>...</td>\n",
       "      <td>...</td>\n",
       "      <td>...</td>\n",
       "      <td>...</td>\n",
       "      <td>...</td>\n",
       "    </tr>\n",
       "    <tr>\n",
       "      <th>111819</th>\n",
       "      <td>0x80c2ba87ebdcf09b:0xd3e0c73a3a8b4b2</td>\n",
       "      <td>2022-04-01</td>\n",
       "      <td>0.0</td>\n",
       "      <td>0.0</td>\n",
       "      <td>No intermediary</td>\n",
       "    </tr>\n",
       "    <tr>\n",
       "      <th>111820</th>\n",
       "      <td>0x80c2ba87ebdcf09b:0xd3e0c73a3a8b4b2</td>\n",
       "      <td>2022-05-01</td>\n",
       "      <td>0.0</td>\n",
       "      <td>0.0</td>\n",
       "      <td>No intermediary</td>\n",
       "    </tr>\n",
       "    <tr>\n",
       "      <th>111821</th>\n",
       "      <td>0x80c2ba87ebdcf09b:0xd3e0c73a3a8b4b2</td>\n",
       "      <td>2022-06-01</td>\n",
       "      <td>14.89</td>\n",
       "      <td>1.0</td>\n",
       "      <td>No intermediary</td>\n",
       "    </tr>\n",
       "    <tr>\n",
       "      <th>111822</th>\n",
       "      <td>0x80c2ba87ebdcf09b:0xd3e0c73a3a8b4b2</td>\n",
       "      <td>2022-07-01</td>\n",
       "      <td>161.65</td>\n",
       "      <td>5.0</td>\n",
       "      <td>No intermediary</td>\n",
       "    </tr>\n",
       "    <tr>\n",
       "      <th>111823</th>\n",
       "      <td>0x80c2ba87ebdcf09b:0xd3e0c73a3a8b4b2</td>\n",
       "      <td>2022-08-01</td>\n",
       "      <td>103.15</td>\n",
       "      <td>5.0</td>\n",
       "      <td>No intermediary</td>\n",
       "    </tr>\n",
       "  </tbody>\n",
       "</table>\n",
       "<p>111824 rows × 5 columns</p>\n",
       "</div>"
      ],
      "text/plain": [
       "                                      gmap_id       Month online_spend  \\\n",
       "0       0x880e2d214ef65adf:0x5d67c91656d9784f  2019-05-01            0   \n",
       "1       0x80c2bbeac2719853:0x994eb5726b3d4795  2019-03-01            0   \n",
       "2       0x880e2c05c5461f29:0xe71ba8fac68d2a1d  2020-07-01            0   \n",
       "3        0x880e2cbcb4af42d3:0xb8998d0876263dc  2021-09-01            0   \n",
       "4       0x8640bc3056bdb10f:0x9aa66770193595c6  2019-08-01            0   \n",
       "...                                       ...         ...          ...   \n",
       "111819   0x80c2ba87ebdcf09b:0xd3e0c73a3a8b4b2  2022-04-01          0.0   \n",
       "111820   0x80c2ba87ebdcf09b:0xd3e0c73a3a8b4b2  2022-05-01          0.0   \n",
       "111821   0x80c2ba87ebdcf09b:0xd3e0c73a3a8b4b2  2022-06-01        14.89   \n",
       "111822   0x80c2ba87ebdcf09b:0xd3e0c73a3a8b4b2  2022-07-01       161.65   \n",
       "111823   0x80c2ba87ebdcf09b:0xd3e0c73a3a8b4b2  2022-08-01       103.15   \n",
       "\n",
       "       online_transactions spend_by_transaction_intermediary  \n",
       "0                        0               {'No intermediary'}  \n",
       "1                        0               {'No intermediary'}  \n",
       "2                        0               {'No intermediary'}  \n",
       "3                        0               {'No intermediary'}  \n",
       "4                        0               {'No intermediary'}  \n",
       "...                    ...                               ...  \n",
       "111819                 0.0                   No intermediary  \n",
       "111820                 0.0                   No intermediary  \n",
       "111821                 1.0                   No intermediary  \n",
       "111822                 5.0                   No intermediary  \n",
       "111823                 5.0                   No intermediary  \n",
       "\n",
       "[111824 rows x 5 columns]"
      ]
     },
     "execution_count": 44,
     "metadata": {},
     "output_type": "execute_result"
    }
   ],
   "source": [
    "#First Merge\n",
    "total_3_2=pd.merge(total_3_b,total_3_c,on=[\"gmap_id\",\"Month\"])\n",
    "total_3_2"
   ]
  },
  {
   "cell_type": "code",
   "execution_count": 45,
   "id": "bdb4678a",
   "metadata": {},
   "outputs": [
    {
     "data": {
      "text/html": [
       "<div>\n",
       "<style scoped>\n",
       "    .dataframe tbody tr th:only-of-type {\n",
       "        vertical-align: middle;\n",
       "    }\n",
       "\n",
       "    .dataframe tbody tr th {\n",
       "        vertical-align: top;\n",
       "    }\n",
       "\n",
       "    .dataframe thead th {\n",
       "        text-align: right;\n",
       "    }\n",
       "</style>\n",
       "<table border=\"1\" class=\"dataframe\">\n",
       "  <thead>\n",
       "    <tr style=\"text-align: right;\">\n",
       "      <th></th>\n",
       "      <th>gmap_id</th>\n",
       "      <th>Week Start</th>\n",
       "      <th>Sum_spent_by_week</th>\n",
       "      <th>Average_spent_per_transaction_by_week</th>\n",
       "      <th>Month_Match</th>\n",
       "    </tr>\n",
       "  </thead>\n",
       "  <tbody>\n",
       "    <tr>\n",
       "      <th>0</th>\n",
       "      <td>0x880e2d214ef65adf:0x5d67c91656d9784f</td>\n",
       "      <td>2019-04-29</td>\n",
       "      <td>0.0</td>\n",
       "      <td>0.0</td>\n",
       "      <td>2019-04-01</td>\n",
       "    </tr>\n",
       "    <tr>\n",
       "      <th>0</th>\n",
       "      <td>0x880e2d214ef65adf:0x5d67c91656d9784f</td>\n",
       "      <td>2019-05-06</td>\n",
       "      <td>0.0</td>\n",
       "      <td>0.0</td>\n",
       "      <td>2019-05-01</td>\n",
       "    </tr>\n",
       "    <tr>\n",
       "      <th>0</th>\n",
       "      <td>0x880e2d214ef65adf:0x5d67c91656d9784f</td>\n",
       "      <td>2019-05-13</td>\n",
       "      <td>0.0</td>\n",
       "      <td>0.0</td>\n",
       "      <td>2019-05-01</td>\n",
       "    </tr>\n",
       "    <tr>\n",
       "      <th>0</th>\n",
       "      <td>0x880e2d214ef65adf:0x5d67c91656d9784f</td>\n",
       "      <td>2019-05-20</td>\n",
       "      <td>0.0</td>\n",
       "      <td>0.0</td>\n",
       "      <td>2019-05-01</td>\n",
       "    </tr>\n",
       "    <tr>\n",
       "      <th>0</th>\n",
       "      <td>0x880e2d214ef65adf:0x5d67c91656d9784f</td>\n",
       "      <td>2019-05-27</td>\n",
       "      <td>69.98</td>\n",
       "      <td>7.0</td>\n",
       "      <td>2019-05-01</td>\n",
       "    </tr>\n",
       "    <tr>\n",
       "      <th>...</th>\n",
       "      <td>...</td>\n",
       "      <td>...</td>\n",
       "      <td>...</td>\n",
       "      <td>...</td>\n",
       "      <td>...</td>\n",
       "    </tr>\n",
       "    <tr>\n",
       "      <th>820</th>\n",
       "      <td>0x80c2ba87ebdcf09b:0xd3e0c73a3a8b4b2</td>\n",
       "      <td>2022-08-01</td>\n",
       "      <td>143.75</td>\n",
       "      <td>12.31</td>\n",
       "      <td>2022-08-01</td>\n",
       "    </tr>\n",
       "    <tr>\n",
       "      <th>820</th>\n",
       "      <td>0x80c2ba87ebdcf09b:0xd3e0c73a3a8b4b2</td>\n",
       "      <td>2022-08-08</td>\n",
       "      <td>106.79</td>\n",
       "      <td>5.53</td>\n",
       "      <td>2022-08-01</td>\n",
       "    </tr>\n",
       "    <tr>\n",
       "      <th>820</th>\n",
       "      <td>0x80c2ba87ebdcf09b:0xd3e0c73a3a8b4b2</td>\n",
       "      <td>2022-08-15</td>\n",
       "      <td>153.2</td>\n",
       "      <td>12.11</td>\n",
       "      <td>2022-08-01</td>\n",
       "    </tr>\n",
       "    <tr>\n",
       "      <th>820</th>\n",
       "      <td>0x80c2ba87ebdcf09b:0xd3e0c73a3a8b4b2</td>\n",
       "      <td>2022-08-22</td>\n",
       "      <td>223.52</td>\n",
       "      <td>18.64</td>\n",
       "      <td>2022-08-01</td>\n",
       "    </tr>\n",
       "    <tr>\n",
       "      <th>820</th>\n",
       "      <td>0x80c2ba87ebdcf09b:0xd3e0c73a3a8b4b2</td>\n",
       "      <td>2022-08-29</td>\n",
       "      <td>71.88</td>\n",
       "      <td>11.98</td>\n",
       "      <td>2022-08-01</td>\n",
       "    </tr>\n",
       "  </tbody>\n",
       "</table>\n",
       "<p>548723 rows × 5 columns</p>\n",
       "</div>"
      ],
      "text/plain": [
       "                                   gmap_id  Week Start Sum_spent_by_week  \\\n",
       "0    0x880e2d214ef65adf:0x5d67c91656d9784f  2019-04-29               0.0   \n",
       "0    0x880e2d214ef65adf:0x5d67c91656d9784f  2019-05-06               0.0   \n",
       "0    0x880e2d214ef65adf:0x5d67c91656d9784f  2019-05-13               0.0   \n",
       "0    0x880e2d214ef65adf:0x5d67c91656d9784f  2019-05-20               0.0   \n",
       "0    0x880e2d214ef65adf:0x5d67c91656d9784f  2019-05-27             69.98   \n",
       "..                                     ...         ...               ...   \n",
       "820   0x80c2ba87ebdcf09b:0xd3e0c73a3a8b4b2  2022-08-01            143.75   \n",
       "820   0x80c2ba87ebdcf09b:0xd3e0c73a3a8b4b2  2022-08-08            106.79   \n",
       "820   0x80c2ba87ebdcf09b:0xd3e0c73a3a8b4b2  2022-08-15             153.2   \n",
       "820   0x80c2ba87ebdcf09b:0xd3e0c73a3a8b4b2  2022-08-22            223.52   \n",
       "820   0x80c2ba87ebdcf09b:0xd3e0c73a3a8b4b2  2022-08-29             71.88   \n",
       "\n",
       "    Average_spent_per_transaction_by_week Month_Match  \n",
       "0                                     0.0  2019-04-01  \n",
       "0                                     0.0  2019-05-01  \n",
       "0                                     0.0  2019-05-01  \n",
       "0                                     0.0  2019-05-01  \n",
       "0                                     7.0  2019-05-01  \n",
       "..                                    ...         ...  \n",
       "820                                 12.31  2022-08-01  \n",
       "820                                  5.53  2022-08-01  \n",
       "820                                 12.11  2022-08-01  \n",
       "820                                 18.64  2022-08-01  \n",
       "820                                 11.98  2022-08-01  \n",
       "\n",
       "[548723 rows x 5 columns]"
      ]
     },
     "execution_count": 45,
     "metadata": {},
     "output_type": "execute_result"
    }
   ],
   "source": [
    "total_3_a[\"Month_Match\"]=total_3_a[\"Week Start\"].apply(lambda x:x[0:7]+\"-01\")\n",
    "total_3_a"
   ]
  },
  {
   "cell_type": "code",
   "execution_count": 46,
   "id": "e6de6183",
   "metadata": {},
   "outputs": [],
   "source": [
    "total_3=pd.merge(total_3_a,total_3_2,left_on=[\"gmap_id\",\"Month_Match\"],right_on=[\"gmap_id\",\"Month\"],how=\"outer\")"
   ]
  },
  {
   "cell_type": "code",
   "execution_count": 47,
   "id": "ca543ac9",
   "metadata": {},
   "outputs": [],
   "source": [
    "total_3=total_3[[\"gmap_id\",\"Month_Match\",\"spend_by_transaction_intermediary\",\"online_spend\",\"online_transactions\",\"Week Start\",\"Sum_spent_by_week\",\"Average_spent_per_transaction_by_week\"]]\n",
    "#total_3=total_3.fillna(\"Not Available\")"
   ]
  },
  {
   "cell_type": "code",
   "execution_count": 48,
   "id": "a10ce8e3",
   "metadata": {},
   "outputs": [],
   "source": [
    "total_3.rename(columns={\n",
    "    \"Month_Match\":\"Month_RG\",\n",
    "    \"Week Start\":\"Week Start_RG\"\n",
    "},inplace=True)"
   ]
  },
  {
   "cell_type": "markdown",
   "id": "afae23d6",
   "metadata": {},
   "source": [
    "### Total_Output"
   ]
  },
  {
   "cell_type": "code",
   "execution_count": 49,
   "id": "63e338f5",
   "metadata": {},
   "outputs": [],
   "source": [
    "#Footfall Raw Data\n",
    "total_1[\"Week Start_FF\"]=total_1[\"Week Start_FF\"].apply(lambda x:x.strip())\n",
    "#Meta and Reviews\n",
    "total_2[\"Week_Start_MR\"]=total_2[\"Week_Start_MR\"].apply(lambda x:x.strip())\n",
    "#Revenues and Geometry\n",
    "total_3[\"Month_RG\"]=total_3[\"Month_RG\"].apply(lambda x:x.strip())\n",
    "total_3[\"Week Start_RG\"]=total_3[\"Week Start_RG\"].apply(lambda x:x.strip())"
   ]
  },
  {
   "cell_type": "code",
   "execution_count": 50,
   "id": "26e9e6e8",
   "metadata": {},
   "outputs": [
    {
     "data": {
      "text/plain": [
       "Index(['gmap_id', 'Month_FF', 'Raw_Visitors_Monthly_level', 'Week Start_FF',\n",
       "       'Visits_Weekly_level'],\n",
       "      dtype='object')"
      ]
     },
     "execution_count": 50,
     "metadata": {},
     "output_type": "execute_result"
    }
   ],
   "source": [
    "total_1.columns"
   ]
  },
  {
   "cell_type": "code",
   "execution_count": 51,
   "id": "e8ed0152",
   "metadata": {},
   "outputs": [],
   "source": [
    "total_1_2=pd.merge(total_1,total_2,left_on=[\"gmap_id\",\"Week Start_FF\"],right_on=[\"gmap_id\",\"Week_Start_MR\"],how=\"outer\")"
   ]
  },
  {
   "cell_type": "code",
   "execution_count": 52,
   "id": "d67adc1e",
   "metadata": {},
   "outputs": [
    {
     "data": {
      "text/html": [
       "<div>\n",
       "<style scoped>\n",
       "    .dataframe tbody tr th:only-of-type {\n",
       "        vertical-align: middle;\n",
       "    }\n",
       "\n",
       "    .dataframe tbody tr th {\n",
       "        vertical-align: top;\n",
       "    }\n",
       "\n",
       "    .dataframe thead th {\n",
       "        text-align: right;\n",
       "    }\n",
       "</style>\n",
       "<table border=\"1\" class=\"dataframe\">\n",
       "  <thead>\n",
       "    <tr style=\"text-align: right;\">\n",
       "      <th></th>\n",
       "      <th>gmap_id</th>\n",
       "      <th>Month_FF</th>\n",
       "      <th>Raw_Visitors_Monthly_level</th>\n",
       "      <th>Week Start_FF</th>\n",
       "      <th>Visits_Weekly_level</th>\n",
       "      <th>Week_Start_MR</th>\n",
       "      <th>Average Rating_MR</th>\n",
       "      <th>Count of Reviews_MR</th>\n",
       "    </tr>\n",
       "  </thead>\n",
       "  <tbody>\n",
       "    <tr>\n",
       "      <th>0</th>\n",
       "      <td>0x880e2d214ef65adf:0x5d67c91656d9784f</td>\n",
       "      <td>2018-01-01</td>\n",
       "      <td>176.0</td>\n",
       "      <td>2018-01-01</td>\n",
       "      <td>60.0</td>\n",
       "      <td>NaN</td>\n",
       "      <td>NaN</td>\n",
       "      <td>NaN</td>\n",
       "    </tr>\n",
       "    <tr>\n",
       "      <th>1</th>\n",
       "      <td>0x880e2d214ef65adf:0x5d67c91656d9784f</td>\n",
       "      <td>2018-01-01</td>\n",
       "      <td>176.0</td>\n",
       "      <td>2018-01-08</td>\n",
       "      <td>74.0</td>\n",
       "      <td>NaN</td>\n",
       "      <td>NaN</td>\n",
       "      <td>NaN</td>\n",
       "    </tr>\n",
       "    <tr>\n",
       "      <th>2</th>\n",
       "      <td>0x880e2d214ef65adf:0x5d67c91656d9784f</td>\n",
       "      <td>2018-01-01</td>\n",
       "      <td>176.0</td>\n",
       "      <td>2018-01-15</td>\n",
       "      <td>58.0</td>\n",
       "      <td>NaN</td>\n",
       "      <td>NaN</td>\n",
       "      <td>NaN</td>\n",
       "    </tr>\n",
       "    <tr>\n",
       "      <th>3</th>\n",
       "      <td>0x880e2d214ef65adf:0x5d67c91656d9784f</td>\n",
       "      <td>2018-01-01</td>\n",
       "      <td>176.0</td>\n",
       "      <td>2018-01-22</td>\n",
       "      <td>70.0</td>\n",
       "      <td>NaN</td>\n",
       "      <td>NaN</td>\n",
       "      <td>NaN</td>\n",
       "    </tr>\n",
       "    <tr>\n",
       "      <th>4</th>\n",
       "      <td>0x880e2d214ef65adf:0x5d67c91656d9784f</td>\n",
       "      <td>2018-01-01</td>\n",
       "      <td>176.0</td>\n",
       "      <td>2018-01-29</td>\n",
       "      <td>33.0</td>\n",
       "      <td>NaN</td>\n",
       "      <td>NaN</td>\n",
       "      <td>NaN</td>\n",
       "    </tr>\n",
       "  </tbody>\n",
       "</table>\n",
       "</div>"
      ],
      "text/plain": [
       "                                 gmap_id    Month_FF  \\\n",
       "0  0x880e2d214ef65adf:0x5d67c91656d9784f  2018-01-01   \n",
       "1  0x880e2d214ef65adf:0x5d67c91656d9784f  2018-01-01   \n",
       "2  0x880e2d214ef65adf:0x5d67c91656d9784f  2018-01-01   \n",
       "3  0x880e2d214ef65adf:0x5d67c91656d9784f  2018-01-01   \n",
       "4  0x880e2d214ef65adf:0x5d67c91656d9784f  2018-01-01   \n",
       "\n",
       "  Raw_Visitors_Monthly_level Week Start_FF  Visits_Weekly_level Week_Start_MR  \\\n",
       "0                      176.0    2018-01-01                 60.0           NaN   \n",
       "1                      176.0    2018-01-08                 74.0           NaN   \n",
       "2                      176.0    2018-01-15                 58.0           NaN   \n",
       "3                      176.0    2018-01-22                 70.0           NaN   \n",
       "4                      176.0    2018-01-29                 33.0           NaN   \n",
       "\n",
       "  Average Rating_MR Count of Reviews_MR  \n",
       "0               NaN                 NaN  \n",
       "1               NaN                 NaN  \n",
       "2               NaN                 NaN  \n",
       "3               NaN                 NaN  \n",
       "4               NaN                 NaN  "
      ]
     },
     "execution_count": 52,
     "metadata": {},
     "output_type": "execute_result"
    }
   ],
   "source": [
    "total_1_2.head()"
   ]
  },
  {
   "cell_type": "code",
   "execution_count": 53,
   "id": "37cebb4a",
   "metadata": {},
   "outputs": [],
   "source": [
    "total_1_2_3=pd.merge(total_1_2,total_3,left_on=[\"gmap_id\",\"Month_FF\",\"Week Start_FF\",\"Week_Start_MR\"],right_on=[\"gmap_id\",\"Month_RG\",\"Week Start_RG\",\"Week Start_RG\"],how=\"outer\")"
   ]
  },
  {
   "cell_type": "code",
   "execution_count": 54,
   "id": "24a26f42",
   "metadata": {},
   "outputs": [],
   "source": [
    "total_1_2_3.loc[~total_1_2_3[\"spend_by_transaction_intermediary\"].isna(),\"spend_by_transaction_intermediary\"]=total_1_2_3.loc[~total_1_2_3[\"spend_by_transaction_intermediary\"].isna(),\"spend_by_transaction_intermediary\"].astype(str)"
   ]
  },
  {
   "cell_type": "code",
   "execution_count": 55,
   "id": "a516e5bc",
   "metadata": {},
   "outputs": [],
   "source": [
    "total_4=dataframe_total[[\"gmap_id\",\"placekey\",\"location_name\",\"street_address\",\"city\",\"region\",\"postal_code\",\"latitude\",\"longitude\",\n",
    "    \"naics_code\",\"Lead\",'Community',\"category\",\"top_category\",'url']]"
   ]
  },
  {
   "cell_type": "code",
   "execution_count": 60,
   "id": "ce361ad8",
   "metadata": {},
   "outputs": [],
   "source": [
    "total=pd.merge(total_1_2_3,total_4,on=[\"gmap_id\"])"
   ]
  },
  {
   "cell_type": "code",
   "execution_count": 63,
   "id": "f88e2f8b",
   "metadata": {},
   "outputs": [],
   "source": [
    "total=total[[\"gmap_id\",\"placekey\",'location_name', 'street_address', 'city', 'region','postal_code', 'latitude', 'longitude',\n",
    "       'naics_code', 'Lead','Community', 'category', 'top_category', 'url',\n",
    "       'Month_FF', 'Raw_Visitors_Monthly_level', 'Week Start_FF','Visits_Weekly_level',\n",
    "       'Week_Start_MR', 'Average Rating_MR','Count of Reviews_MR',\n",
    "       'Month_RG', 'spend_by_transaction_intermediary','online_spend', 'online_transactions',\n",
    "       'Week Start_RG','Sum_spent_by_week', 'Average_spent_per_transaction_by_week'\n",
    "      ]]"
   ]
  },
  {
   "cell_type": "code",
   "execution_count": 69,
   "id": "93b3a73f",
   "metadata": {},
   "outputs": [],
   "source": [
    "total.to_csv(\"FF_MR_RG_Decompressed.csv\",index=False)"
   ]
  }
 ],
 "metadata": {
  "kernelspec": {
   "display_name": "Python 3 (ipykernel)",
   "language": "python",
   "name": "python3"
  },
  "language_info": {
   "codemirror_mode": {
    "name": "ipython",
    "version": 3
   },
   "file_extension": ".py",
   "mimetype": "text/x-python",
   "name": "python",
   "nbconvert_exporter": "python",
   "pygments_lexer": "ipython3",
   "version": "3.9.13"
  }
 },
 "nbformat": 4,
 "nbformat_minor": 5
}
