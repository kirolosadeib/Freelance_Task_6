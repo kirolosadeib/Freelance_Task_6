{
 "cells": [
  {
   "cell_type": "code",
   "execution_count": 1,
   "id": "4fee3b4e",
   "metadata": {},
   "outputs": [],
   "source": [
    "import pandas as pd\n",
    "import numpy as np"
   ]
  },
  {
   "cell_type": "code",
   "execution_count": 2,
   "id": "b347326a",
   "metadata": {},
   "outputs": [],
   "source": [
    "import warnings\n",
    "warnings.filterwarnings(\"ignore\")"
   ]
  },
  {
   "cell_type": "markdown",
   "id": "66e1166b",
   "metadata": {},
   "source": [
    "## Dataframe FF"
   ]
  },
  {
   "cell_type": "code",
   "execution_count": 3,
   "id": "083013d2",
   "metadata": {},
   "outputs": [
    {
     "data": {
      "text/html": [
       "<div>\n",
       "<style scoped>\n",
       "    .dataframe tbody tr th:only-of-type {\n",
       "        vertical-align: middle;\n",
       "    }\n",
       "\n",
       "    .dataframe tbody tr th {\n",
       "        vertical-align: top;\n",
       "    }\n",
       "\n",
       "    .dataframe thead th {\n",
       "        text-align: right;\n",
       "    }\n",
       "</style>\n",
       "<table border=\"1\" class=\"dataframe\">\n",
       "  <thead>\n",
       "    <tr style=\"text-align: right;\">\n",
       "      <th></th>\n",
       "      <th>Month_FF</th>\n",
       "      <th>Raw_vistors_Monthly_level</th>\n",
       "      <th>Week Start_FF</th>\n",
       "      <th>visits_weekly_level</th>\n",
       "      <th>naics_code</th>\n",
       "      <th>top_category</th>\n",
       "    </tr>\n",
       "  </thead>\n",
       "  <tbody>\n",
       "    <tr>\n",
       "      <th>0</th>\n",
       "      <td>['2018-01-01', '2018-02-01', '2018-03-01', '20...</td>\n",
       "      <td>[1253.0, 1143.0, 1461.0, 1239.0, 667.0, 1115.0...</td>\n",
       "      <td>['2018-01-01', '2018-01-08', '2018-01-15', '20...</td>\n",
       "      <td>[213.15, 213.15, 213.15, 213.15, 91.35, 125.16...</td>\n",
       "      <td>Pizza,Counter Service,Lunch,Dinner</td>\n",
       "      <td>&amp;pizza</td>\n",
       "    </tr>\n",
       "    <tr>\n",
       "      <th>1</th>\n",
       "      <td>[' 2018-02-01', ' 2018-03-01', ' 2018-04-01', ...</td>\n",
       "      <td>[274.0, 284.0, 238.0, 206.0, 245.0, 212.0, 208...</td>\n",
       "      <td>[' 2018-01-08', ' 2018-01-15', ' 2018-01-22', ...</td>\n",
       "      <td>[93.0, 86.0, 90.0, 87.0, 79.0, 96.0, 82.0, 88....</td>\n",
       "      <td>722511</td>\n",
       "      <td>Restaurants and Other Eating Places</td>\n",
       "    </tr>\n",
       "    <tr>\n",
       "      <th>2</th>\n",
       "      <td>['2018-01-01', '2018-02-01', '2018-03-01', '20...</td>\n",
       "      <td>[632.0, 616.0, 985.0, 1036.0, 794.0, 1081.0, 9...</td>\n",
       "      <td>['2018-01-01', '2018-01-08', '2018-01-15', '20...</td>\n",
       "      <td>[98.0, 98.0, 98.0, 98.0, 42.0, 65.72, 115.01, ...</td>\n",
       "      <td>Pizza,Counter Service,Lunch,Dinner</td>\n",
       "      <td>&amp;pizza</td>\n",
       "    </tr>\n",
       "    <tr>\n",
       "      <th>3</th>\n",
       "      <td>[' 2018-02-01', ' 2018-03-01', ' 2018-04-01', ...</td>\n",
       "      <td>[236.0, 317.0, 383.0, 414.0, 445.0, 404.0, 397...</td>\n",
       "      <td>[' 2018-01-08', ' 2018-01-15', ' 2018-01-22', ...</td>\n",
       "      <td>[51.0, 82.0, 78.0, 73.0, 72.0, 61.0, 89.0, 83....</td>\n",
       "      <td>722511</td>\n",
       "      <td>Restaurants and Other Eating Places</td>\n",
       "    </tr>\n",
       "    <tr>\n",
       "      <th>4</th>\n",
       "      <td>['2018-01-01', '2018-02-01', '2018-03-01', '20...</td>\n",
       "      <td>[526.0, 676.0, 881.0, 719.0, 433.0, 685.0, 758...</td>\n",
       "      <td>['2018-01-01', '2018-01-08', '2018-01-15', '20...</td>\n",
       "      <td>[86.94, 86.94, 86.94, 86.94, 37.26, 72.0, 126....</td>\n",
       "      <td>Pizza,Counter Service,Lunch,Dinner</td>\n",
       "      <td>&amp;pizza</td>\n",
       "    </tr>\n",
       "  </tbody>\n",
       "</table>\n",
       "</div>"
      ],
      "text/plain": [
       "                                            Month_FF  \\\n",
       "0  ['2018-01-01', '2018-02-01', '2018-03-01', '20...   \n",
       "1  [' 2018-02-01', ' 2018-03-01', ' 2018-04-01', ...   \n",
       "2  ['2018-01-01', '2018-02-01', '2018-03-01', '20...   \n",
       "3  [' 2018-02-01', ' 2018-03-01', ' 2018-04-01', ...   \n",
       "4  ['2018-01-01', '2018-02-01', '2018-03-01', '20...   \n",
       "\n",
       "                           Raw_vistors_Monthly_level  \\\n",
       "0  [1253.0, 1143.0, 1461.0, 1239.0, 667.0, 1115.0...   \n",
       "1  [274.0, 284.0, 238.0, 206.0, 245.0, 212.0, 208...   \n",
       "2  [632.0, 616.0, 985.0, 1036.0, 794.0, 1081.0, 9...   \n",
       "3  [236.0, 317.0, 383.0, 414.0, 445.0, 404.0, 397...   \n",
       "4  [526.0, 676.0, 881.0, 719.0, 433.0, 685.0, 758...   \n",
       "\n",
       "                                       Week Start_FF  \\\n",
       "0  ['2018-01-01', '2018-01-08', '2018-01-15', '20...   \n",
       "1  [' 2018-01-08', ' 2018-01-15', ' 2018-01-22', ...   \n",
       "2  ['2018-01-01', '2018-01-08', '2018-01-15', '20...   \n",
       "3  [' 2018-01-08', ' 2018-01-15', ' 2018-01-22', ...   \n",
       "4  ['2018-01-01', '2018-01-08', '2018-01-15', '20...   \n",
       "\n",
       "                                 visits_weekly_level  \\\n",
       "0  [213.15, 213.15, 213.15, 213.15, 91.35, 125.16...   \n",
       "1  [93.0, 86.0, 90.0, 87.0, 79.0, 96.0, 82.0, 88....   \n",
       "2  [98.0, 98.0, 98.0, 98.0, 42.0, 65.72, 115.01, ...   \n",
       "3  [51.0, 82.0, 78.0, 73.0, 72.0, 61.0, 89.0, 83....   \n",
       "4  [86.94, 86.94, 86.94, 86.94, 37.26, 72.0, 126....   \n",
       "\n",
       "                           naics_code                         top_category  \n",
       "0  Pizza,Counter Service,Lunch,Dinner                               &pizza  \n",
       "1                              722511  Restaurants and Other Eating Places  \n",
       "2  Pizza,Counter Service,Lunch,Dinner                               &pizza  \n",
       "3                              722511  Restaurants and Other Eating Places  \n",
       "4  Pizza,Counter Service,Lunch,Dinner                               &pizza  "
      ]
     },
     "execution_count": 3,
     "metadata": {},
     "output_type": "execute_result"
    }
   ],
   "source": [
    "dataframe_FF_Reference=pd.read_csv(\"1.FF_Referemce.csv\")\n",
    "dataframe_FF_Reference=dataframe_FF_Reference[[\"Month_FF\",\"Raw_vistors_Monthly_level\",\"Week Start_FF\",\"visits_weekly_level\",\"naics_code\",\"top_category\"]]\n",
    "dataframe_FF_Reference.head()"
   ]
  },
  {
   "cell_type": "code",
   "execution_count": 4,
   "id": "db1d8a2d",
   "metadata": {},
   "outputs": [],
   "source": [
    "dataframe_FF_Reference.loc[:,'Month_FF']=dataframe_FF_Reference['Month_FF'].apply(lambda x:x.strip('][').replace(\"'\",\"\").split(','))\n",
    "dataframe_FF_Reference.loc[:,'Month_FF']=dataframe_FF_Reference['Month_FF'].apply(lambda x:[temp.strip() for temp in x])\n",
    "dataframe_FF_Reference.loc[:,'Month_FF']=dataframe_FF_Reference.loc[:,'Month_FF'].astype(str)\n",
    "#Raw Visitors Monthly Level\n",
    "dataframe_FF_Reference.loc[:,'Raw_vistors_Monthly_level']=dataframe_FF_Reference['Raw_vistors_Monthly_level'].apply(lambda x:x.strip('][').replace(\"'\",\"\").split(','))\n",
    "dataframe_FF_Reference.loc[:,'Raw_vistors_Monthly_level']=dataframe_FF_Reference['Raw_vistors_Monthly_level'].apply(lambda x:[float(temp) for temp in x])\n",
    "dataframe_FF_Reference.loc[:,'Raw_vistors_Monthly_level']=dataframe_FF_Reference['Raw_vistors_Monthly_level'].astype(str)\n",
    "#Week Start\n",
    "dataframe_FF_Reference.loc[:,'Week Start_FF']=dataframe_FF_Reference['Week Start_FF'].apply(lambda x:x.strip('][').replace(\"'\",\"\").split(','))\n",
    "dataframe_FF_Reference.loc[:,'Week Start_FF']=dataframe_FF_Reference['Week Start_FF'].apply(lambda x:[temp.strip() for temp in x])\n",
    "dataframe_FF_Reference.loc[:,'Week Start_FF']=dataframe_FF_Reference.astype(str)\n",
    "#Visits Weekly Level\n",
    "dataframe_FF_Reference.loc[:,'visits_weekly_level']=dataframe_FF_Reference['visits_weekly_level'].apply(lambda x:x.strip('][').replace(\"'\",\"\").split(','))\n",
    "dataframe_FF_Reference.loc[:,'visits_weekly_level']=dataframe_FF_Reference['visits_weekly_level'].apply(lambda x:[float(temp) for temp in x])\n",
    "dataframe_FF_Reference.loc[:,'visits_weekly_level']=dataframe_FF_Reference['visits_weekly_level'].astype(str)"
   ]
  },
  {
   "cell_type": "markdown",
   "id": "69bee1c9",
   "metadata": {},
   "source": [
    "## Dataframe Meta and Reviews"
   ]
  },
  {
   "cell_type": "code",
   "execution_count": 5,
   "id": "341f21d6",
   "metadata": {},
   "outputs": [
    {
     "data": {
      "text/html": [
       "<div>\n",
       "<style scoped>\n",
       "    .dataframe tbody tr th:only-of-type {\n",
       "        vertical-align: middle;\n",
       "    }\n",
       "\n",
       "    .dataframe tbody tr th {\n",
       "        vertical-align: top;\n",
       "    }\n",
       "\n",
       "    .dataframe thead th {\n",
       "        text-align: right;\n",
       "    }\n",
       "</style>\n",
       "<table border=\"1\" class=\"dataframe\">\n",
       "  <thead>\n",
       "    <tr style=\"text-align: right;\">\n",
       "      <th></th>\n",
       "      <th>gmap_id</th>\n",
       "      <th>address</th>\n",
       "    </tr>\n",
       "  </thead>\n",
       "  <tbody>\n",
       "    <tr>\n",
       "      <th>0</th>\n",
       "      <td>0x88f16e41928ff687:0x883dad4fd048e8f8</td>\n",
       "      <td>129 N Second St, Cochran, GA 31014</td>\n",
       "    </tr>\n",
       "    <tr>\n",
       "      <th>1</th>\n",
       "      <td>0x80c2c98c0e3c16fd:0x29ec8a728764fdf9</td>\n",
       "      <td>3001 E Pico Blvd, Los Angeles, CA 90023</td>\n",
       "    </tr>\n",
       "    <tr>\n",
       "      <th>2</th>\n",
       "      <td>0x80c2c778e3b73d33:0xbdc58662a4a97d49</td>\n",
       "      <td>761 S Vermont Ave, Los Angeles, CA 90005</td>\n",
       "    </tr>\n",
       "    <tr>\n",
       "      <th>3</th>\n",
       "      <td>0x80c2c89923b27a41:0x32041559418d447</td>\n",
       "      <td>2200 E 11th St, Los Angeles, CA 90021</td>\n",
       "    </tr>\n",
       "    <tr>\n",
       "      <th>4</th>\n",
       "      <td>0x80c2c632f933b073:0xc31785961fe826a6</td>\n",
       "      <td>719 E 9th St, Los Angeles, CA 90021</td>\n",
       "    </tr>\n",
       "  </tbody>\n",
       "</table>\n",
       "</div>"
      ],
      "text/plain": [
       "                                 gmap_id  \\\n",
       "0  0x88f16e41928ff687:0x883dad4fd048e8f8   \n",
       "1  0x80c2c98c0e3c16fd:0x29ec8a728764fdf9   \n",
       "2  0x80c2c778e3b73d33:0xbdc58662a4a97d49   \n",
       "3   0x80c2c89923b27a41:0x32041559418d447   \n",
       "4  0x80c2c632f933b073:0xc31785961fe826a6   \n",
       "\n",
       "                                    address  \n",
       "0        129 N Second St, Cochran, GA 31014  \n",
       "1   3001 E Pico Blvd, Los Angeles, CA 90023  \n",
       "2  761 S Vermont Ave, Los Angeles, CA 90005  \n",
       "3     2200 E 11th St, Los Angeles, CA 90021  \n",
       "4       719 E 9th St, Los Angeles, CA 90021  "
      ]
     },
     "execution_count": 5,
     "metadata": {},
     "output_type": "execute_result"
    }
   ],
   "source": [
    "dataframe_MR=pd.read_csv(\"Meta_and_Reviews_Reference_File.csv\")\n",
    "dataframe_MR.drop(columns=[\"name\"],inplace=True)\n",
    "dataframe_MR.head()"
   ]
  },
  {
   "cell_type": "markdown",
   "id": "28ea1fc1",
   "metadata": {},
   "source": [
    "## MR_FF"
   ]
  },
  {
   "cell_type": "code",
   "execution_count": 6,
   "id": "2d4b4929",
   "metadata": {},
   "outputs": [],
   "source": [
    "dataframe_total=pd.read_csv(\"MR_FF.csv\")\n",
    "#Drop Duplicates Keep First\n",
    "dataframe_total=dataframe_total.drop_duplicates(keep=\"first\")"
   ]
  },
  {
   "cell_type": "code",
   "execution_count": 7,
   "id": "a69bb3f5",
   "metadata": {},
   "outputs": [
    {
     "data": {
      "text/plain": [
       "1932"
      ]
     },
     "execution_count": 7,
     "metadata": {},
     "output_type": "execute_result"
    }
   ],
   "source": [
    "dataframe_total.shape[0]"
   ]
  },
  {
   "cell_type": "code",
   "execution_count": 8,
   "id": "5b4b5deb",
   "metadata": {},
   "outputs": [
    {
     "data": {
      "text/plain": [
       "1914"
      ]
     },
     "execution_count": 8,
     "metadata": {},
     "output_type": "execute_result"
    }
   ],
   "source": [
    "len(dataframe_total[\"gmap_id\"].unique())"
   ]
  },
  {
   "cell_type": "code",
   "execution_count": 9,
   "id": "705c1f96",
   "metadata": {},
   "outputs": [
    {
     "data": {
      "text/plain": [
       "1911"
      ]
     },
     "execution_count": 9,
     "metadata": {},
     "output_type": "execute_result"
    }
   ],
   "source": [
    "len(dataframe_total[\"placekey\"].unique())"
   ]
  },
  {
   "cell_type": "code",
   "execution_count": 10,
   "id": "aefcfdfb",
   "metadata": {},
   "outputs": [],
   "source": [
    "#Check duplicated gmap_ids for empty street_address, naics_code and top_category\n",
    "duplicated_gmap_ids=dataframe_total[dataframe_total[\"gmap_id\"].duplicated()][\"gmap_id\"].unique()\n",
    "for duplicate_id in list(duplicated_gmap_ids):\n",
    "    temp=dataframe_total[dataframe_total[\"gmap_id\"]==duplicate_id]\n",
    "    empty_category=temp[\"top_category\"].isna().sum()\n",
    "    if(empty_category>0):\n",
    "        #Get Null Parameters\n",
    "        street_address=temp.loc[~temp[\"street_address\"].isna(),\"street_address\"].values[0]\n",
    "        naics_code=temp.loc[~temp[\"naics_code\"].isna(),\"naics_code\"].values[0]\n",
    "        top_category=temp.loc[~temp[\"top_category\"].isna(),\"top_category\"].values[0]\n",
    "        #Adjust Value for original dataframe\n",
    "        dataframe_total.loc[list(temp.index),\"top_category\"]=top_category\n",
    "        dataframe_total.loc[list(temp.index),\"naics_code\"]=naics_code\n",
    "        dataframe_total.loc[list(temp.index),\"street_address\"]=street_address\n",
    "dataframe_total=dataframe_total.drop_duplicates(keep=\"first\")"
   ]
  },
  {
   "cell_type": "code",
   "execution_count": 11,
   "id": "9a3278e7",
   "metadata": {},
   "outputs": [
    {
     "data": {
      "text/html": [
       "<div>\n",
       "<style scoped>\n",
       "    .dataframe tbody tr th:only-of-type {\n",
       "        vertical-align: middle;\n",
       "    }\n",
       "\n",
       "    .dataframe tbody tr th {\n",
       "        vertical-align: top;\n",
       "    }\n",
       "\n",
       "    .dataframe thead th {\n",
       "        text-align: right;\n",
       "    }\n",
       "</style>\n",
       "<table border=\"1\" class=\"dataframe\">\n",
       "  <thead>\n",
       "    <tr style=\"text-align: right;\">\n",
       "      <th></th>\n",
       "      <th>gmap_id</th>\n",
       "      <th>placekey</th>\n",
       "      <th>name</th>\n",
       "      <th>street_address</th>\n",
       "      <th>City</th>\n",
       "      <th>Region</th>\n",
       "      <th>customer_zip</th>\n",
       "      <th>latitude</th>\n",
       "      <th>longitude</th>\n",
       "      <th>Lead</th>\n",
       "      <th>...</th>\n",
       "      <th>Community</th>\n",
       "      <th>Month_FF</th>\n",
       "      <th>Raw_vistors_Monthly_level</th>\n",
       "      <th>Week Start_FF</th>\n",
       "      <th>visits_weekly_level</th>\n",
       "      <th>Date</th>\n",
       "      <th>Average Rating</th>\n",
       "      <th>Count of Reviews</th>\n",
       "      <th>top_category</th>\n",
       "      <th>naics_code</th>\n",
       "    </tr>\n",
       "  </thead>\n",
       "  <tbody>\n",
       "    <tr>\n",
       "      <th>0</th>\n",
       "      <td>0x80c2c9f1d18f5c79:0x9b246513d5996d6b</td>\n",
       "      <td>zzy-224@5z6-3qz-pn5</td>\n",
       "      <td>Peru Mix</td>\n",
       "      <td>358 W 38th St</td>\n",
       "      <td>Los Angeles</td>\n",
       "      <td>CA</td>\n",
       "      <td>90037</td>\n",
       "      <td>34.014736</td>\n",
       "      <td>-118.278772</td>\n",
       "      <td>No Lead</td>\n",
       "      <td>...</td>\n",
       "      <td>No Community</td>\n",
       "      <td>['2018-01-01', '2018-02-01', '2018-03-01', '20...</td>\n",
       "      <td>[0.0, 0.0, 0.0, 2.0, 4.0, 1.0, 1.0, 4.0, 1.0, ...</td>\n",
       "      <td>['2018-01-01', '2018-01-08', '2018-01-15', '20...</td>\n",
       "      <td>[0.0, 0.0, 0.0, 0.0, 0.0, 0.0, 0.0, 0.0, 0.0, ...</td>\n",
       "      <td>['2020-11-02', '2020-12-21', '2021-02-01', '20...</td>\n",
       "      <td>[4.0, 1.0, 1.0, 1.0]</td>\n",
       "      <td>[1, 1, 1, 1]</td>\n",
       "      <td>Restaurants and Other Eating Places</td>\n",
       "      <td>722511</td>\n",
       "    </tr>\n",
       "    <tr>\n",
       "      <th>1</th>\n",
       "      <td>0x8640c1029859c707:0x4901d3637aea2f81</td>\n",
       "      <td>226-225@8fc-fj3-94v</td>\n",
       "      <td>Pastel Pizza</td>\n",
       "      <td>2829 Chimney Rock Rd</td>\n",
       "      <td>Houston</td>\n",
       "      <td>TX</td>\n",
       "      <td>77056</td>\n",
       "      <td>29.736330</td>\n",
       "      <td>-95.476169</td>\n",
       "      <td>No Lead</td>\n",
       "      <td>...</td>\n",
       "      <td>No Community</td>\n",
       "      <td>['2018-01-01', '2018-02-01', '2018-03-01', '20...</td>\n",
       "      <td>[8.0, 12.0, 17.0, 11.0, 11.0, 19.0, 13.0, 16.0...</td>\n",
       "      <td>['2018-01-01', '2018-01-08', '2018-01-15', '20...</td>\n",
       "      <td>[1.0, 3.0, 2.0, 1.0, 1.0, 0.0, 4.0, 4.0, 6.0, ...</td>\n",
       "      <td>['2019-10-21', '2019-11-04', '2019-12-09', '20...</td>\n",
       "      <td>[4.0, 1.0, 3.0, 3.0, 5.0, 1.0, 5.0, 5.0, 3.0, ...</td>\n",
       "      <td>[1, 1, 1, 1, 2, 1, 2, 2, 1, 1, 1, 1, 1, 1, 1, ...</td>\n",
       "      <td>Restaurants and Other Eating Places</td>\n",
       "      <td>722511</td>\n",
       "    </tr>\n",
       "  </tbody>\n",
       "</table>\n",
       "<p>2 rows × 22 columns</p>\n",
       "</div>"
      ],
      "text/plain": [
       "                                 gmap_id             placekey          name  \\\n",
       "0  0x80c2c9f1d18f5c79:0x9b246513d5996d6b  zzy-224@5z6-3qz-pn5      Peru Mix   \n",
       "1  0x8640c1029859c707:0x4901d3637aea2f81  226-225@8fc-fj3-94v  Pastel Pizza   \n",
       "\n",
       "         street_address         City Region customer_zip   latitude  \\\n",
       "0         358 W 38th St  Los Angeles     CA        90037  34.014736   \n",
       "1  2829 Chimney Rock Rd      Houston     TX        77056  29.736330   \n",
       "\n",
       "    longitude     Lead  ...     Community  \\\n",
       "0 -118.278772  No Lead  ...  No Community   \n",
       "1  -95.476169  No Lead  ...  No Community   \n",
       "\n",
       "                                            Month_FF  \\\n",
       "0  ['2018-01-01', '2018-02-01', '2018-03-01', '20...   \n",
       "1  ['2018-01-01', '2018-02-01', '2018-03-01', '20...   \n",
       "\n",
       "                           Raw_vistors_Monthly_level  \\\n",
       "0  [0.0, 0.0, 0.0, 2.0, 4.0, 1.0, 1.0, 4.0, 1.0, ...   \n",
       "1  [8.0, 12.0, 17.0, 11.0, 11.0, 19.0, 13.0, 16.0...   \n",
       "\n",
       "                                       Week Start_FF  \\\n",
       "0  ['2018-01-01', '2018-01-08', '2018-01-15', '20...   \n",
       "1  ['2018-01-01', '2018-01-08', '2018-01-15', '20...   \n",
       "\n",
       "                                 visits_weekly_level  \\\n",
       "0  [0.0, 0.0, 0.0, 0.0, 0.0, 0.0, 0.0, 0.0, 0.0, ...   \n",
       "1  [1.0, 3.0, 2.0, 1.0, 1.0, 0.0, 4.0, 4.0, 6.0, ...   \n",
       "\n",
       "                                                Date  \\\n",
       "0  ['2020-11-02', '2020-12-21', '2021-02-01', '20...   \n",
       "1  ['2019-10-21', '2019-11-04', '2019-12-09', '20...   \n",
       "\n",
       "                                      Average Rating  \\\n",
       "0                               [4.0, 1.0, 1.0, 1.0]   \n",
       "1  [4.0, 1.0, 3.0, 3.0, 5.0, 1.0, 5.0, 5.0, 3.0, ...   \n",
       "\n",
       "                                    Count of Reviews  \\\n",
       "0                                       [1, 1, 1, 1]   \n",
       "1  [1, 1, 1, 1, 2, 1, 2, 2, 1, 1, 1, 1, 1, 1, 1, ...   \n",
       "\n",
       "                          top_category naics_code  \n",
       "0  Restaurants and Other Eating Places     722511  \n",
       "1  Restaurants and Other Eating Places     722511  \n",
       "\n",
       "[2 rows x 22 columns]"
      ]
     },
     "execution_count": 11,
     "metadata": {},
     "output_type": "execute_result"
    }
   ],
   "source": [
    "dataframe_total.head(2)"
   ]
  },
  {
   "cell_type": "markdown",
   "id": "3580a7c3",
   "metadata": {},
   "source": [
    "## Fix NAICS_Code and Top_Category"
   ]
  },
  {
   "cell_type": "code",
   "execution_count": 12,
   "id": "811b30b6",
   "metadata": {},
   "outputs": [],
   "source": [
    "dataframe_total_part_a=dataframe_total[~dataframe_total[\"naics_code\"].isna()]\n",
    "dataframe_total_part_b=dataframe_total[dataframe_total[\"naics_code\"].isna()]"
   ]
  },
  {
   "cell_type": "code",
   "execution_count": 13,
   "id": "eae24ba6",
   "metadata": {},
   "outputs": [],
   "source": [
    "dataframe_total_part_b.loc[:,'Month_FF']=dataframe_total_part_b['Month_FF'].apply(lambda x:x.strip('][').replace(\"'\",\"\").split(','))\n",
    "dataframe_total_part_b.loc[:,'Month_FF']=dataframe_total_part_b['Month_FF'].apply(lambda x:[temp.strip() for temp in x])\n",
    "dataframe_total_part_b.loc[:,'Month_FF']=dataframe_total_part_b.loc[:,'Month_FF'].astype(str)\n",
    "#Raw Visitors Monthly Level\n",
    "dataframe_total_part_b.loc[:,'Raw_vistors_Monthly_level']=dataframe_total_part_b['Raw_vistors_Monthly_level'].apply(lambda x:x.strip('][').replace(\"'\",\"\").split(','))\n",
    "dataframe_total_part_b.loc[:,'Raw_vistors_Monthly_level']=dataframe_total_part_b['Raw_vistors_Monthly_level'].apply(lambda x:[float(temp) for temp in x])\n",
    "dataframe_total_part_b.loc[:,'Raw_vistors_Monthly_level']=dataframe_total_part_b['Raw_vistors_Monthly_level'].astype(str)\n",
    "#Week Start\n",
    "dataframe_total_part_b.loc[:,'Week Start_FF']=dataframe_total_part_b['Week Start_FF'].apply(lambda x:x.strip('][').replace(\"'\",\"\").split(','))\n",
    "dataframe_total_part_b.loc[:,'Week Start_FF']=dataframe_total_part_b['Week Start_FF'].apply(lambda x:[temp.strip() for temp in x])\n",
    "dataframe_total_part_b.loc[:,'Week Start_FF']=dataframe_total_part_b.astype(str)\n",
    "#Visits Weekly Level\n",
    "dataframe_total_part_b.loc[:,'visits_weekly_level']=dataframe_total_part_b['visits_weekly_level'].apply(lambda x:x.strip('][').replace(\"'\",\"\").split(','))\n",
    "dataframe_total_part_b.loc[:,'visits_weekly_level']=dataframe_total_part_b['visits_weekly_level'].apply(lambda x:[float(temp) for temp in x])\n",
    "dataframe_total_part_b.loc[:,'visits_weekly_level']=dataframe_total_part_b['visits_weekly_level'].astype(str)"
   ]
  },
  {
   "cell_type": "code",
   "execution_count": 14,
   "id": "cd57d283",
   "metadata": {},
   "outputs": [],
   "source": [
    "dataframe_total_part_b=pd.merge(dataframe_total_part_b,dataframe_FF_Reference,on=[\"Month_FF\",\"Raw_vistors_Monthly_level\",\"visits_weekly_level\"])\n",
    "dataframe_total_part_b.drop(columns=[\"naics_code_x\",\"top_category_x\",\"Week Start_FF_y\"],inplace=True)\n",
    "dataframe_total_part_b.rename(columns={\n",
    "    \"Week Start_FF_x\":\"Week Start_FF\",\n",
    "    \"naics_code_y\":\"naics_code\",\n",
    "    \"top_category_y\":\"top_category\"\n",
    "},inplace=True)"
   ]
  },
  {
   "cell_type": "code",
   "execution_count": 15,
   "id": "49029fb8",
   "metadata": {},
   "outputs": [],
   "source": [
    "dataframe_total=pd.concat([dataframe_total_part_a,dataframe_total_part_b])"
   ]
  },
  {
   "cell_type": "code",
   "execution_count": 16,
   "id": "753fe88f",
   "metadata": {},
   "outputs": [
    {
     "data": {
      "text/html": [
       "<div>\n",
       "<style scoped>\n",
       "    .dataframe tbody tr th:only-of-type {\n",
       "        vertical-align: middle;\n",
       "    }\n",
       "\n",
       "    .dataframe tbody tr th {\n",
       "        vertical-align: top;\n",
       "    }\n",
       "\n",
       "    .dataframe thead th {\n",
       "        text-align: right;\n",
       "    }\n",
       "</style>\n",
       "<table border=\"1\" class=\"dataframe\">\n",
       "  <thead>\n",
       "    <tr style=\"text-align: right;\">\n",
       "      <th></th>\n",
       "      <th>gmap_id</th>\n",
       "      <th>placekey</th>\n",
       "      <th>name</th>\n",
       "      <th>street_address</th>\n",
       "      <th>City</th>\n",
       "      <th>Region</th>\n",
       "      <th>customer_zip</th>\n",
       "      <th>latitude</th>\n",
       "      <th>longitude</th>\n",
       "      <th>Lead</th>\n",
       "      <th>...</th>\n",
       "      <th>Community</th>\n",
       "      <th>Month_FF</th>\n",
       "      <th>Raw_vistors_Monthly_level</th>\n",
       "      <th>Week Start_FF</th>\n",
       "      <th>visits_weekly_level</th>\n",
       "      <th>Date</th>\n",
       "      <th>Average Rating</th>\n",
       "      <th>Count of Reviews</th>\n",
       "      <th>top_category</th>\n",
       "      <th>naics_code</th>\n",
       "    </tr>\n",
       "  </thead>\n",
       "  <tbody>\n",
       "    <tr>\n",
       "      <th>0</th>\n",
       "      <td>0x80c2c9f1d18f5c79:0x9b246513d5996d6b</td>\n",
       "      <td>zzy-224@5z6-3qz-pn5</td>\n",
       "      <td>Peru Mix</td>\n",
       "      <td>358 W 38th St</td>\n",
       "      <td>Los Angeles</td>\n",
       "      <td>CA</td>\n",
       "      <td>90037</td>\n",
       "      <td>34.014736</td>\n",
       "      <td>-118.278772</td>\n",
       "      <td>No Lead</td>\n",
       "      <td>...</td>\n",
       "      <td>No Community</td>\n",
       "      <td>['2018-01-01', '2018-02-01', '2018-03-01', '20...</td>\n",
       "      <td>[0.0, 0.0, 0.0, 2.0, 4.0, 1.0, 1.0, 4.0, 1.0, ...</td>\n",
       "      <td>['2018-01-01', '2018-01-08', '2018-01-15', '20...</td>\n",
       "      <td>[0.0, 0.0, 0.0, 0.0, 0.0, 0.0, 0.0, 0.0, 0.0, ...</td>\n",
       "      <td>['2020-11-02', '2020-12-21', '2021-02-01', '20...</td>\n",
       "      <td>[4.0, 1.0, 1.0, 1.0]</td>\n",
       "      <td>[1, 1, 1, 1]</td>\n",
       "      <td>Restaurants and Other Eating Places</td>\n",
       "      <td>722511</td>\n",
       "    </tr>\n",
       "    <tr>\n",
       "      <th>1</th>\n",
       "      <td>0x8640c1029859c707:0x4901d3637aea2f81</td>\n",
       "      <td>226-225@8fc-fj3-94v</td>\n",
       "      <td>Pastel Pizza</td>\n",
       "      <td>2829 Chimney Rock Rd</td>\n",
       "      <td>Houston</td>\n",
       "      <td>TX</td>\n",
       "      <td>77056</td>\n",
       "      <td>29.736330</td>\n",
       "      <td>-95.476169</td>\n",
       "      <td>No Lead</td>\n",
       "      <td>...</td>\n",
       "      <td>No Community</td>\n",
       "      <td>['2018-01-01', '2018-02-01', '2018-03-01', '20...</td>\n",
       "      <td>[8.0, 12.0, 17.0, 11.0, 11.0, 19.0, 13.0, 16.0...</td>\n",
       "      <td>['2018-01-01', '2018-01-08', '2018-01-15', '20...</td>\n",
       "      <td>[1.0, 3.0, 2.0, 1.0, 1.0, 0.0, 4.0, 4.0, 6.0, ...</td>\n",
       "      <td>['2019-10-21', '2019-11-04', '2019-12-09', '20...</td>\n",
       "      <td>[4.0, 1.0, 3.0, 3.0, 5.0, 1.0, 5.0, 5.0, 3.0, ...</td>\n",
       "      <td>[1, 1, 1, 1, 2, 1, 2, 2, 1, 1, 1, 1, 1, 1, 1, ...</td>\n",
       "      <td>Restaurants and Other Eating Places</td>\n",
       "      <td>722511</td>\n",
       "    </tr>\n",
       "  </tbody>\n",
       "</table>\n",
       "<p>2 rows × 22 columns</p>\n",
       "</div>"
      ],
      "text/plain": [
       "                                 gmap_id             placekey          name  \\\n",
       "0  0x80c2c9f1d18f5c79:0x9b246513d5996d6b  zzy-224@5z6-3qz-pn5      Peru Mix   \n",
       "1  0x8640c1029859c707:0x4901d3637aea2f81  226-225@8fc-fj3-94v  Pastel Pizza   \n",
       "\n",
       "         street_address         City Region customer_zip   latitude  \\\n",
       "0         358 W 38th St  Los Angeles     CA        90037  34.014736   \n",
       "1  2829 Chimney Rock Rd      Houston     TX        77056  29.736330   \n",
       "\n",
       "    longitude     Lead  ...     Community  \\\n",
       "0 -118.278772  No Lead  ...  No Community   \n",
       "1  -95.476169  No Lead  ...  No Community   \n",
       "\n",
       "                                            Month_FF  \\\n",
       "0  ['2018-01-01', '2018-02-01', '2018-03-01', '20...   \n",
       "1  ['2018-01-01', '2018-02-01', '2018-03-01', '20...   \n",
       "\n",
       "                           Raw_vistors_Monthly_level  \\\n",
       "0  [0.0, 0.0, 0.0, 2.0, 4.0, 1.0, 1.0, 4.0, 1.0, ...   \n",
       "1  [8.0, 12.0, 17.0, 11.0, 11.0, 19.0, 13.0, 16.0...   \n",
       "\n",
       "                                       Week Start_FF  \\\n",
       "0  ['2018-01-01', '2018-01-08', '2018-01-15', '20...   \n",
       "1  ['2018-01-01', '2018-01-08', '2018-01-15', '20...   \n",
       "\n",
       "                                 visits_weekly_level  \\\n",
       "0  [0.0, 0.0, 0.0, 0.0, 0.0, 0.0, 0.0, 0.0, 0.0, ...   \n",
       "1  [1.0, 3.0, 2.0, 1.0, 1.0, 0.0, 4.0, 4.0, 6.0, ...   \n",
       "\n",
       "                                                Date  \\\n",
       "0  ['2020-11-02', '2020-12-21', '2021-02-01', '20...   \n",
       "1  ['2019-10-21', '2019-11-04', '2019-12-09', '20...   \n",
       "\n",
       "                                      Average Rating  \\\n",
       "0                               [4.0, 1.0, 1.0, 1.0]   \n",
       "1  [4.0, 1.0, 3.0, 3.0, 5.0, 1.0, 5.0, 5.0, 3.0, ...   \n",
       "\n",
       "                                    Count of Reviews  \\\n",
       "0                                       [1, 1, 1, 1]   \n",
       "1  [1, 1, 1, 1, 2, 1, 2, 2, 1, 1, 1, 1, 1, 1, 1, ...   \n",
       "\n",
       "                          top_category naics_code  \n",
       "0  Restaurants and Other Eating Places     722511  \n",
       "1  Restaurants and Other Eating Places     722511  \n",
       "\n",
       "[2 rows x 22 columns]"
      ]
     },
     "execution_count": 16,
     "metadata": {},
     "output_type": "execute_result"
    }
   ],
   "source": [
    "dataframe_total.head(2)"
   ]
  },
  {
   "cell_type": "markdown",
   "id": "44705e1d",
   "metadata": {},
   "source": [
    "## Fix Category and Single PlaceKey"
   ]
  },
  {
   "cell_type": "code",
   "execution_count": 17,
   "id": "3eab7556",
   "metadata": {},
   "outputs": [],
   "source": [
    "#Category\n",
    "#Handle Missing Category\n",
    "dataframe_total.loc[dataframe_total[dataframe_total[\"category\"].isna()].index,\"category\"]=\"['Restaurant']\"\n",
    "#Take a Single Category\n",
    "dataframe_total.loc[:,'category']=dataframe_total['category'].apply(lambda x:x.strip('][').replace(\"'\",\"\").split(','))\n",
    "dataframe_total[\"category\"]=dataframe_total[\"category\"].apply(lambda x:x[0])\n",
    "#Placekey\n",
    "dataframe_total.loc[:,'placekey']=dataframe_total['placekey'].apply(lambda x:x.strip('][').replace(\"'\",\"\").split(','))\n",
    "dataframe_total[\"placekey\"]=dataframe_total[\"placekey\"].apply(lambda x:x[0])"
   ]
  },
  {
   "cell_type": "code",
   "execution_count": 18,
   "id": "46b4b004",
   "metadata": {},
   "outputs": [
    {
     "data": {
      "text/plain": [
       "gmap_id                        0\n",
       "placekey                       0\n",
       "name                           0\n",
       "street_address               825\n",
       "City                          29\n",
       "Region                         0\n",
       "customer_zip                   0\n",
       "latitude                       0\n",
       "longitude                      0\n",
       "Lead                           0\n",
       "category                       0\n",
       "url                            0\n",
       "Community                      0\n",
       "Month_FF                       0\n",
       "Raw_vistors_Monthly_level      0\n",
       "Week Start_FF                  0\n",
       "visits_weekly_level            0\n",
       "Date                           0\n",
       "Average Rating                 0\n",
       "Count of Reviews               0\n",
       "top_category                   0\n",
       "naics_code                     0\n",
       "dtype: int64"
      ]
     },
     "execution_count": 18,
     "metadata": {},
     "output_type": "execute_result"
    }
   ],
   "source": [
    "dataframe_total.isna().sum()"
   ]
  },
  {
   "cell_type": "markdown",
   "id": "0649c25a",
   "metadata": {},
   "source": [
    "## Fix Street Address and City"
   ]
  },
  {
   "cell_type": "code",
   "execution_count": 19,
   "id": "e615f663",
   "metadata": {},
   "outputs": [],
   "source": [
    "dataframe_total=pd.merge(dataframe_total,dataframe_MR,on=[\"gmap_id\"])"
   ]
  },
  {
   "cell_type": "code",
   "execution_count": 20,
   "id": "a2d32320",
   "metadata": {
    "scrolled": true
   },
   "outputs": [
    {
     "data": {
      "text/html": [
       "<div>\n",
       "<style scoped>\n",
       "    .dataframe tbody tr th:only-of-type {\n",
       "        vertical-align: middle;\n",
       "    }\n",
       "\n",
       "    .dataframe tbody tr th {\n",
       "        vertical-align: top;\n",
       "    }\n",
       "\n",
       "    .dataframe thead th {\n",
       "        text-align: right;\n",
       "    }\n",
       "</style>\n",
       "<table border=\"1\" class=\"dataframe\">\n",
       "  <thead>\n",
       "    <tr style=\"text-align: right;\">\n",
       "      <th></th>\n",
       "      <th>gmap_id</th>\n",
       "      <th>address</th>\n",
       "    </tr>\n",
       "  </thead>\n",
       "  <tbody>\n",
       "    <tr>\n",
       "      <th>0</th>\n",
       "      <td>0x80c2beb8823de30b:0xd06833e01720e227</td>\n",
       "      <td>8278 Santa Monica Blvd</td>\n",
       "    </tr>\n",
       "    <tr>\n",
       "      <th>1</th>\n",
       "      <td>0x880fd1bcfe703f31:0x25fde6abb7d1ccb</td>\n",
       "      <td>6349 N Clark St</td>\n",
       "    </tr>\n",
       "    <tr>\n",
       "      <th>2</th>\n",
       "      <td>0x89b7b59aa4470765:0x23b13670cd5d7e1f</td>\n",
       "      <td>933 N Quincy St</td>\n",
       "    </tr>\n",
       "    <tr>\n",
       "      <th>3</th>\n",
       "      <td>0x89b7cc8c8ea75f6f:0xe4f07cc8841fd55</td>\n",
       "      <td>7747 Tuckerman Ln</td>\n",
       "    </tr>\n",
       "    <tr>\n",
       "      <th>4</th>\n",
       "      <td>0x880e2cc4d7c9a243:0xdcd8c62fa7bed7a6</td>\n",
       "      <td>1501 W Madison St</td>\n",
       "    </tr>\n",
       "  </tbody>\n",
       "</table>\n",
       "</div>"
      ],
      "text/plain": [
       "                                 gmap_id                 address\n",
       "0  0x80c2beb8823de30b:0xd06833e01720e227  8278 Santa Monica Blvd\n",
       "1   0x880fd1bcfe703f31:0x25fde6abb7d1ccb         6349 N Clark St\n",
       "2  0x89b7b59aa4470765:0x23b13670cd5d7e1f         933 N Quincy St\n",
       "3   0x89b7cc8c8ea75f6f:0xe4f07cc8841fd55       7747 Tuckerman Ln\n",
       "4  0x880e2cc4d7c9a243:0xdcd8c62fa7bed7a6       1501 W Madison St"
      ]
     },
     "execution_count": 20,
     "metadata": {},
     "output_type": "execute_result"
    }
   ],
   "source": [
    "dataframe_address_match=pd.read_csv(\"Address_Match.csv\")\n",
    "dataframe_address_match.head()"
   ]
  },
  {
   "cell_type": "code",
   "execution_count": 21,
   "id": "c0f65834",
   "metadata": {},
   "outputs": [],
   "source": [
    "for gmap_id in dataframe_total[dataframe_total[\"street_address\"].isna()][\"gmap_id\"].values:\n",
    "    dataframe_total.loc[dataframe_total[\"gmap_id\"]==gmap_id,\"street_address\"]=dataframe_address_match[dataframe_address_match[\"gmap_id\"]==gmap_id][\"address\"].values[0]"
   ]
  },
  {
   "cell_type": "code",
   "execution_count": 22,
   "id": "00f58b35",
   "metadata": {},
   "outputs": [],
   "source": [
    "dataframe_total=pd.merge(dataframe_total,dataframe_MR,on=[\"gmap_id\"])"
   ]
  },
  {
   "cell_type": "code",
   "execution_count": 23,
   "id": "c8e90f3e",
   "metadata": {},
   "outputs": [
    {
     "data": {
      "text/html": [
       "<div>\n",
       "<style scoped>\n",
       "    .dataframe tbody tr th:only-of-type {\n",
       "        vertical-align: middle;\n",
       "    }\n",
       "\n",
       "    .dataframe tbody tr th {\n",
       "        vertical-align: top;\n",
       "    }\n",
       "\n",
       "    .dataframe thead th {\n",
       "        text-align: right;\n",
       "    }\n",
       "</style>\n",
       "<table border=\"1\" class=\"dataframe\">\n",
       "  <thead>\n",
       "    <tr style=\"text-align: right;\">\n",
       "      <th></th>\n",
       "      <th>gmap_id</th>\n",
       "      <th>address</th>\n",
       "    </tr>\n",
       "  </thead>\n",
       "  <tbody>\n",
       "    <tr>\n",
       "      <th>0</th>\n",
       "      <td>0x880fd323fe229675:0xd008391feaeeb0f0</td>\n",
       "      <td>Chicago</td>\n",
       "    </tr>\n",
       "    <tr>\n",
       "      <th>1</th>\n",
       "      <td>0x80c2c71bb9b85e9b:0xd6c828cd3a86de15</td>\n",
       "      <td>Los Angeles</td>\n",
       "    </tr>\n",
       "    <tr>\n",
       "      <th>2</th>\n",
       "      <td>0x880fcdeb58c98741:0xb0f396ed351123a2</td>\n",
       "      <td>Chicago</td>\n",
       "    </tr>\n",
       "    <tr>\n",
       "      <th>3</th>\n",
       "      <td>0x880fd2ee0894ec49:0x4194fc4edefdc4af</td>\n",
       "      <td>Chicago</td>\n",
       "    </tr>\n",
       "    <tr>\n",
       "      <th>4</th>\n",
       "      <td>0x8640cddfb148becd:0x11f10ececacb0290</td>\n",
       "      <td>Houston</td>\n",
       "    </tr>\n",
       "  </tbody>\n",
       "</table>\n",
       "</div>"
      ],
      "text/plain": [
       "                                 gmap_id      address\n",
       "0  0x880fd323fe229675:0xd008391feaeeb0f0      Chicago\n",
       "1  0x80c2c71bb9b85e9b:0xd6c828cd3a86de15  Los Angeles\n",
       "2  0x880fcdeb58c98741:0xb0f396ed351123a2      Chicago\n",
       "3  0x880fd2ee0894ec49:0x4194fc4edefdc4af      Chicago\n",
       "4  0x8640cddfb148becd:0x11f10ececacb0290      Houston"
      ]
     },
     "execution_count": 23,
     "metadata": {},
     "output_type": "execute_result"
    }
   ],
   "source": [
    "dataframe_city_match=pd.read_csv(\"City_Match.csv\")\n",
    "dataframe_city_match.head()"
   ]
  },
  {
   "cell_type": "code",
   "execution_count": 24,
   "id": "a083ceaa",
   "metadata": {},
   "outputs": [],
   "source": [
    "for gmap_id in dataframe_total[dataframe_total[\"City\"].isna()][\"gmap_id\"].values:\n",
    "    dataframe_total.loc[dataframe_total[\"gmap_id\"]==gmap_id,\"City\"]=dataframe_city_match[dataframe_city_match[\"gmap_id\"]==gmap_id][\"address\"].values[0]"
   ]
  },
  {
   "cell_type": "code",
   "execution_count": 25,
   "id": "5053f98e",
   "metadata": {},
   "outputs": [],
   "source": [
    "dataframe_total.drop(columns=[\"address_x\",\"address_y\"],inplace=True)"
   ]
  },
  {
   "cell_type": "markdown",
   "id": "40a5913e",
   "metadata": {},
   "source": [
    "## Fix Place Key"
   ]
  },
  {
   "cell_type": "code",
   "execution_count": 26,
   "id": "bf1ba23b",
   "metadata": {
    "scrolled": false
   },
   "outputs": [],
   "source": [
    "duplicated_placekey_ids=dataframe_total[dataframe_total[\"placekey\"].duplicated()][\"placekey\"].unique()\n",
    "counter=1\n",
    "for duplicate_id in list(duplicated_placekey_ids):\n",
    "    if(counter==3):\n",
    "        break\n",
    "    #Indexes to be Removed\n",
    "    index_to_be_remove=list(dataframe_total[dataframe_total[\"placekey\"]==duplicate_id].index)\n",
    "    #Temp Dataframe\n",
    "    temp_dataframe=dataframe_total[dataframe_total[\"placekey\"]==duplicate_id]\n",
    "    #Set Single gmap_id for both\n",
    "    temp_dataframe[\"gmap_id\"]=str(temp_dataframe[\"gmap_id\"].iloc[0])\n",
    "    #Count of Reviews\n",
    "    temp_dataframe[\"Count of Reviews\"]=temp_dataframe[\"Count of Reviews\"].apply(lambda x:x.strip('][').replace(\"'\",\"\").split(','))\n",
    "    temp_dataframe[\"Count of Reviews\"]=temp_dataframe[\"Count of Reviews\"].apply(lambda x:[float(temp) for temp in x])\n",
    "    #Average Ratings\n",
    "    temp_dataframe[\"Average Rating\"]=temp_dataframe[\"Average Rating\"].apply(lambda x:x.strip('][').replace(\"'\",\"\").split(','))\n",
    "    temp_dataframe[\"Average Rating\"]=temp_dataframe[\"Average Rating\"].apply(lambda x:[float(temp) for temp in x])\n",
    "    #Date\n",
    "    temp_dataframe[\"Date\"]=temp_dataframe[\"Date\"].apply(lambda x:x.strip('][').replace(\"'\",\"\").split(','))\n",
    "    temp_dataframe[\"Date\"]=temp_dataframe[\"Date\"].apply(lambda x:[temp.strip() for temp in x])\n",
    "    \n",
    "    #PART 1\n",
    "    part_1=temp_dataframe[[\"gmap_id\",\"Date\",\"Average Rating\",\"Count of Reviews\"]]\n",
    "    part_1=part_1.explode([\"Date\",\"Average Rating\",\"Count of Reviews\"]).reset_index()\n",
    "    part_1=part_1.groupby([\"gmap_id\",\"Date\"]).aggregate({\n",
    "        \"Average Rating\":\"mean\",\n",
    "        \"Count of Reviews\":\"sum\"\n",
    "    },inplace=True).reset_index()\n",
    "    part_1=part_1.groupby([\"gmap_id\"]).aggregate({\n",
    "        \"Date\":list,\n",
    "        \"Average Rating\":list,\n",
    "        \"Count of Reviews\":list\n",
    "    },inplace=True).reset_index()\n",
    "    \n",
    "    #Part 2\n",
    "    #Visits Weekly Level\n",
    "    temp_dataframe[\"visits_weekly_level\"]=temp_dataframe[\"visits_weekly_level\"].apply(lambda x:x.strip('][').replace(\"'\",\"\").split(','))\n",
    "    temp_dataframe[\"visits_weekly_level\"]=temp_dataframe[\"visits_weekly_level\"].apply(lambda x:[float(temp) for temp in x])\n",
    "    #Week Start FF\n",
    "    temp_dataframe[\"Week Start_FF\"]=temp_dataframe[\"Week Start_FF\"].apply(lambda x:x.strip('][').replace(\"'\",\"\").split(','))\n",
    "    temp_dataframe[\"Week Start_FF\"]=temp_dataframe[\"Week Start_FF\"].apply(lambda x:[temp.strip() for temp in x])\n",
    "    #Month FF\n",
    "    temp_dataframe[\"Month_FF\"]=temp_dataframe[\"Month_FF\"].apply(lambda x:x.strip('][').replace(\"'\",\"\").split(','))\n",
    "    temp_dataframe[\"Month_FF\"]=temp_dataframe[\"Month_FF\"].apply(lambda x:[temp.strip() for temp in x])\n",
    "    #Month level\n",
    "    temp_dataframe[\"Raw_vistors_Monthly_level\"]=temp_dataframe[\"Raw_vistors_Monthly_level\"].apply(lambda x:x.strip('][').replace(\"'\",\"\").split(','))\n",
    "    temp_dataframe[\"Raw_vistors_Monthly_level\"]=temp_dataframe[\"Raw_vistors_Monthly_level\"].apply(lambda x:[float(temp) for temp in x])\n",
    "    \n",
    "    #Part 2\n",
    "    part_2=temp_dataframe[[\"gmap_id\",\"Week Start_FF\",\"visits_weekly_level\"]]\n",
    "    part_2=part_2.explode([\"Week Start_FF\",\"visits_weekly_level\"]).reset_index()\n",
    "    part_2=part_2.groupby([\"gmap_id\",\"Week Start_FF\"]).aggregate({\n",
    "        \"visits_weekly_level\":\"sum\"\n",
    "    },inplace=True).reset_index()\n",
    "    part_2=part_2.groupby([\"gmap_id\"]).aggregate({\n",
    "        \"Week Start_FF\":list,\n",
    "        \"visits_weekly_level\":list\n",
    "    },inplace=True).reset_index()\n",
    "    \n",
    "    #Part 3\n",
    "    part_3=temp_dataframe[[\"gmap_id\",\"Month_FF\",\"Raw_vistors_Monthly_level\"]]\n",
    "    part_3=part_3.explode([\"Month_FF\",\"Raw_vistors_Monthly_level\"]).reset_index()\n",
    "    part_3=part_3.groupby([\"gmap_id\",\"Month_FF\"]).aggregate({\n",
    "        \"Raw_vistors_Monthly_level\":\"sum\"\n",
    "    },inplace=True).reset_index()\n",
    "    part_3=part_3.groupby([\"gmap_id\"]).aggregate({\n",
    "        \"Month_FF\":list,\n",
    "        \"Raw_vistors_Monthly_level\":list\n",
    "    },inplace=True).reset_index()\n",
    "    \n",
    "    #Part 4\n",
    "    part_4=temp_dataframe[[\n",
    "        \"gmap_id\",\"placekey\",\n",
    "        \"name\",\"street_address\",\"City\",\"Region\",\"customer_zip\",\n",
    "        \"latitude\",\"longitude\",\n",
    "        \"Lead\", 'category', \n",
    "        'url','Community',\n",
    "        'top_category', 'naics_code']].iloc[0:1]\n",
    "    \n",
    "    #\n",
    "    temp=pd.merge(part_1,part_2,on=[\"gmap_id\"])\n",
    "    temp=pd.merge(temp,part_3,on=[\"gmap_id\"])\n",
    "    temp=pd.merge(temp,part_4,on=[\"gmap_id\"])\n",
    "    \n",
    "    #\n",
    "    dataframe_total = dataframe_total.drop(index_to_be_remove)\n",
    "    dataframe_total.append(temp)\n",
    "    counter=counter+1"
   ]
  },
  {
   "cell_type": "code",
   "execution_count": 27,
   "id": "ab0fd5dc",
   "metadata": {},
   "outputs": [],
   "source": [
    "dataframe_total=dataframe_total.drop_duplicates(keep=\"first\")\n",
    "#dataframe_total=dataframe_total[dataframe_total[\"placekey\"]!=\"zzw-223@8fc-9qb-wkz\"]"
   ]
  },
  {
   "cell_type": "code",
   "execution_count": 28,
   "id": "0a495c28",
   "metadata": {},
   "outputs": [
    {
     "data": {
      "text/plain": [
       "1910"
      ]
     },
     "execution_count": 28,
     "metadata": {},
     "output_type": "execute_result"
    }
   ],
   "source": [
    "dataframe_total.shape[0]"
   ]
  },
  {
   "cell_type": "code",
   "execution_count": 29,
   "id": "afec0c3a",
   "metadata": {},
   "outputs": [
    {
     "data": {
      "text/plain": [
       "1910"
      ]
     },
     "execution_count": 29,
     "metadata": {},
     "output_type": "execute_result"
    }
   ],
   "source": [
    "len(dataframe_total[\"gmap_id\"].unique())"
   ]
  },
  {
   "cell_type": "code",
   "execution_count": 30,
   "id": "b739b971",
   "metadata": {},
   "outputs": [
    {
     "data": {
      "text/plain": [
       "1909"
      ]
     },
     "execution_count": 30,
     "metadata": {},
     "output_type": "execute_result"
    }
   ],
   "source": [
    "len(dataframe_total[\"placekey\"].unique())"
   ]
  },
  {
   "cell_type": "markdown",
   "id": "27aaf312",
   "metadata": {},
   "source": [
    "## Fix Customer Zip"
   ]
  },
  {
   "cell_type": "code",
   "execution_count": 31,
   "id": "c76b1273",
   "metadata": {},
   "outputs": [],
   "source": [
    "dataframe_total=dataframe_total[[\n",
    "    \"gmap_id\",\"placekey\",\n",
    "    \"name\",\"street_address\",\"City\",\"Region\",\"customer_zip\",\"latitude\",\"longitude\",\n",
    "    \"category\",\"url\",\"Community\",'top_category', 'naics_code',\n",
    "    \"Date\",\"Count of Reviews\",\"Average Rating\",\n",
    "    'Month_FF', 'Raw_vistors_Monthly_level', 'Week Start_FF','visits_weekly_level']].reset_index()\n",
    "dataframe_total.drop(columns=[\"index\"],inplace=True)"
   ]
  },
  {
   "cell_type": "code",
   "execution_count": 32,
   "id": "2256694b",
   "metadata": {},
   "outputs": [],
   "source": [
    "dataframe_total=pd.merge(dataframe_total,dataframe_MR,on=[\"gmap_id\"])"
   ]
  },
  {
   "cell_type": "code",
   "execution_count": 33,
   "id": "2d56536f",
   "metadata": {},
   "outputs": [],
   "source": [
    "for x in range(0,len(dataframe_total)):\n",
    "    try:\n",
    "        int(dataframe_total.loc[x,\"customer_zip\"])\n",
    "    except:\n",
    "        dataframe_total.loc[x,\"customer_zip\"]=dataframe_total.loc[x,\"address\"].split(\" \")[-1]"
   ]
  },
  {
   "cell_type": "code",
   "execution_count": 34,
   "id": "6bd80aaa",
   "metadata": {},
   "outputs": [],
   "source": [
    "dataframe_total.drop(columns=[\"address\"],inplace=True)"
   ]
  },
  {
   "cell_type": "markdown",
   "id": "56e26356",
   "metadata": {},
   "source": [
    "## Dataframe Total"
   ]
  },
  {
   "cell_type": "code",
   "execution_count": 35,
   "id": "2e059c72",
   "metadata": {},
   "outputs": [],
   "source": [
    "#Count of Reviews\n",
    "dataframe_total[\"Count of Reviews\"]=dataframe_total[\"Count of Reviews\"].apply(lambda x:x.strip('][').replace(\"'\",\"\").split(','))\n",
    "dataframe_total[\"Count of Reviews\"]=dataframe_total[\"Count of Reviews\"].apply(lambda x:[float(temp) for temp in x])\n",
    "dataframe_total[\"Count of Reviews\"]=dataframe_total[\"Count of Reviews\"].apply(lambda x:[round(temp,2) for temp in x])\n",
    "\n",
    "#Average Ratings\n",
    "dataframe_total[\"Average Rating\"]=dataframe_total[\"Average Rating\"].apply(lambda x:x.strip('][').replace(\"'\",\"\").split(','))\n",
    "dataframe_total[\"Average Rating\"]=dataframe_total[\"Average Rating\"].apply(lambda x:[float(temp) for temp in x])\n",
    "dataframe_total[\"Average Rating\"]=dataframe_total[\"Average Rating\"].apply(lambda x:[round(temp,2) for temp in x])\n",
    "\n",
    "#Date\n",
    "dataframe_total[\"Date\"]=dataframe_total[\"Date\"].apply(lambda x:x.strip('][').replace(\"'\",\"\").split(','))\n",
    "dataframe_total[\"Date\"]=dataframe_total[\"Date\"].apply(lambda x:[temp.strip() for temp in x])\n",
    "#Part 2\n",
    "#Visits Weekly Level\n",
    "dataframe_total[\"visits_weekly_level\"]=dataframe_total[\"visits_weekly_level\"].apply(lambda x:x.strip('][').replace(\"'\",\"\").split(','))\n",
    "dataframe_total[\"visits_weekly_level\"]=dataframe_total[\"visits_weekly_level\"].apply(lambda x:[float(temp) for temp in x])\n",
    "dataframe_total[\"visits_weekly_level\"]=dataframe_total[\"visits_weekly_level\"].apply(lambda x:[round(temp,2) for temp in x])\n",
    "\n",
    "#Week Start FF\n",
    "dataframe_total[\"Week Start_FF\"]=dataframe_total[\"Week Start_FF\"].apply(lambda x:x.strip('][').replace(\"'\",\"\").split(','))\n",
    "dataframe_total[\"Week Start_FF\"]=dataframe_total[\"Week Start_FF\"].apply(lambda x:[temp.strip() for temp in x])\n",
    "\n",
    "#Month FF\n",
    "dataframe_total[\"Month_FF\"]=dataframe_total[\"Month_FF\"].apply(lambda x:x.strip('][').replace(\"'\",\"\").split(','))\n",
    "dataframe_total[\"Month_FF\"]=dataframe_total[\"Month_FF\"].apply(lambda x:[temp.strip() for temp in x])\n",
    "#Month level\n",
    "dataframe_total[\"Raw_vistors_Monthly_level\"]=dataframe_total[\"Raw_vistors_Monthly_level\"].apply(lambda x:x.strip('][').replace(\"'\",\"\").split(','))\n",
    "dataframe_total[\"Raw_vistors_Monthly_level\"]=dataframe_total[\"Raw_vistors_Monthly_level\"].apply(lambda x:[float(temp) for temp in x])\n",
    "dataframe_total[\"Raw_vistors_Monthly_level\"]=dataframe_total[\"Raw_vistors_Monthly_level\"].apply(lambda x:[round(temp,2) for temp in x])"
   ]
  },
  {
   "cell_type": "markdown",
   "id": "5d57701d",
   "metadata": {},
   "source": [
    "### a.Expand FF Raw Data"
   ]
  },
  {
   "cell_type": "code",
   "execution_count": 36,
   "id": "672cea37",
   "metadata": {},
   "outputs": [],
   "source": [
    "dataframe_total_FF=dataframe_total[[\"gmap_id\",'Month_FF','Raw_vistors_Monthly_level', 'Week Start_FF', 'visits_weekly_level']]"
   ]
  },
  {
   "cell_type": "markdown",
   "id": "27c8ac6e",
   "metadata": {},
   "source": [
    "### a.1 Weekly Level"
   ]
  },
  {
   "cell_type": "code",
   "execution_count": 37,
   "id": "a4089260",
   "metadata": {},
   "outputs": [
    {
     "data": {
      "text/html": [
       "<div>\n",
       "<style scoped>\n",
       "    .dataframe tbody tr th:only-of-type {\n",
       "        vertical-align: middle;\n",
       "    }\n",
       "\n",
       "    .dataframe tbody tr th {\n",
       "        vertical-align: top;\n",
       "    }\n",
       "\n",
       "    .dataframe thead th {\n",
       "        text-align: right;\n",
       "    }\n",
       "</style>\n",
       "<table border=\"1\" class=\"dataframe\">\n",
       "  <thead>\n",
       "    <tr style=\"text-align: right;\">\n",
       "      <th></th>\n",
       "      <th>gmap_id</th>\n",
       "      <th>Week Start_FF</th>\n",
       "      <th>visits_weekly_level</th>\n",
       "      <th>Month_match</th>\n",
       "    </tr>\n",
       "  </thead>\n",
       "  <tbody>\n",
       "    <tr>\n",
       "      <th>0</th>\n",
       "      <td>0x80c2c9f1d18f5c79:0x9b246513d5996d6b</td>\n",
       "      <td>2018-01-01</td>\n",
       "      <td>0</td>\n",
       "      <td>2018-01-01</td>\n",
       "    </tr>\n",
       "    <tr>\n",
       "      <th>0</th>\n",
       "      <td>0x80c2c9f1d18f5c79:0x9b246513d5996d6b</td>\n",
       "      <td>2018-01-08</td>\n",
       "      <td>0</td>\n",
       "      <td>2018-01-01</td>\n",
       "    </tr>\n",
       "  </tbody>\n",
       "</table>\n",
       "</div>"
      ],
      "text/plain": [
       "                                 gmap_id Week Start_FF  visits_weekly_level  \\\n",
       "0  0x80c2c9f1d18f5c79:0x9b246513d5996d6b    2018-01-01                    0   \n",
       "0  0x80c2c9f1d18f5c79:0x9b246513d5996d6b    2018-01-08                    0   \n",
       "\n",
       "  Month_match  \n",
       "0  2018-01-01  \n",
       "0  2018-01-01  "
      ]
     },
     "execution_count": 37,
     "metadata": {},
     "output_type": "execute_result"
    }
   ],
   "source": [
    "dataframe_total_FF_1=dataframe_total_FF[[\"gmap_id\",\"Week Start_FF\",\"visits_weekly_level\"]]\n",
    "dataframe_total_FF_1=dataframe_total_FF_1.explode([\"Week Start_FF\",\"visits_weekly_level\"])\n",
    "#Trim Week Start Date to get Month Date\n",
    "dataframe_total_FF_1[\"Month_match\"]=dataframe_total_FF_1[\"Week Start_FF\"].apply(lambda x:x[0:7]+\"-01\")\n",
    "#Set weekly visits to be integer \n",
    "dataframe_total_FF_1[\"visits_weekly_level\"]=dataframe_total_FF_1[\"visits_weekly_level\"].apply(lambda x:int(x))\n",
    "dataframe_total_FF_1.head(2)"
   ]
  },
  {
   "cell_type": "code",
   "execution_count": 38,
   "id": "44a839c2",
   "metadata": {},
   "outputs": [
    {
     "data": {
      "text/plain": [
       "316790"
      ]
     },
     "execution_count": 38,
     "metadata": {},
     "output_type": "execute_result"
    }
   ],
   "source": [
    "dataframe_total_FF_1.shape[0]"
   ]
  },
  {
   "cell_type": "markdown",
   "id": "dd8f0450",
   "metadata": {},
   "source": [
    "### a.2 Monthly Level"
   ]
  },
  {
   "cell_type": "code",
   "execution_count": 39,
   "id": "3cba07e2",
   "metadata": {},
   "outputs": [
    {
     "data": {
      "text/html": [
       "<div>\n",
       "<style scoped>\n",
       "    .dataframe tbody tr th:only-of-type {\n",
       "        vertical-align: middle;\n",
       "    }\n",
       "\n",
       "    .dataframe tbody tr th {\n",
       "        vertical-align: top;\n",
       "    }\n",
       "\n",
       "    .dataframe thead th {\n",
       "        text-align: right;\n",
       "    }\n",
       "</style>\n",
       "<table border=\"1\" class=\"dataframe\">\n",
       "  <thead>\n",
       "    <tr style=\"text-align: right;\">\n",
       "      <th></th>\n",
       "      <th>gmap_id</th>\n",
       "      <th>Month_FF</th>\n",
       "      <th>Raw_vistors_Monthly_level</th>\n",
       "    </tr>\n",
       "  </thead>\n",
       "  <tbody>\n",
       "    <tr>\n",
       "      <th>0</th>\n",
       "      <td>0x80c2c9f1d18f5c79:0x9b246513d5996d6b</td>\n",
       "      <td>2018-01-01</td>\n",
       "      <td>0.0</td>\n",
       "    </tr>\n",
       "    <tr>\n",
       "      <th>0</th>\n",
       "      <td>0x80c2c9f1d18f5c79:0x9b246513d5996d6b</td>\n",
       "      <td>2018-02-01</td>\n",
       "      <td>0.0</td>\n",
       "    </tr>\n",
       "  </tbody>\n",
       "</table>\n",
       "</div>"
      ],
      "text/plain": [
       "                                 gmap_id    Month_FF Raw_vistors_Monthly_level\n",
       "0  0x80c2c9f1d18f5c79:0x9b246513d5996d6b  2018-01-01                       0.0\n",
       "0  0x80c2c9f1d18f5c79:0x9b246513d5996d6b  2018-02-01                       0.0"
      ]
     },
     "execution_count": 39,
     "metadata": {},
     "output_type": "execute_result"
    }
   ],
   "source": [
    "dataframe_total_FF_2=dataframe_total_FF[[\"gmap_id\",\"Month_FF\",\"Raw_vistors_Monthly_level\"]]\n",
    "dataframe_total_FF_2=dataframe_total_FF_2.explode([\"Month_FF\",\"Raw_vistors_Monthly_level\"])\n",
    "dataframe_total_FF_2.head(2)"
   ]
  },
  {
   "cell_type": "markdown",
   "id": "11e7ac43",
   "metadata": {},
   "source": [
    "### Merge FF_Raw_Data_Parts"
   ]
  },
  {
   "cell_type": "code",
   "execution_count": 40,
   "id": "148b42f8",
   "metadata": {},
   "outputs": [
    {
     "data": {
      "text/html": [
       "<div>\n",
       "<style scoped>\n",
       "    .dataframe tbody tr th:only-of-type {\n",
       "        vertical-align: middle;\n",
       "    }\n",
       "\n",
       "    .dataframe tbody tr th {\n",
       "        vertical-align: top;\n",
       "    }\n",
       "\n",
       "    .dataframe thead th {\n",
       "        text-align: right;\n",
       "    }\n",
       "</style>\n",
       "<table border=\"1\" class=\"dataframe\">\n",
       "  <thead>\n",
       "    <tr style=\"text-align: right;\">\n",
       "      <th></th>\n",
       "      <th>gmap_id</th>\n",
       "      <th>Month_FF</th>\n",
       "      <th>Raw_Visitors_Monthly_level</th>\n",
       "      <th>Week Start_FF</th>\n",
       "      <th>Visits_Weekly_level</th>\n",
       "    </tr>\n",
       "  </thead>\n",
       "  <tbody>\n",
       "    <tr>\n",
       "      <th>0</th>\n",
       "      <td>0x80c2c9f1d18f5c79:0x9b246513d5996d6b</td>\n",
       "      <td>2018-01-01</td>\n",
       "      <td>0.0</td>\n",
       "      <td>2018-01-01</td>\n",
       "      <td>0</td>\n",
       "    </tr>\n",
       "    <tr>\n",
       "      <th>1</th>\n",
       "      <td>0x80c2c9f1d18f5c79:0x9b246513d5996d6b</td>\n",
       "      <td>2018-01-01</td>\n",
       "      <td>0.0</td>\n",
       "      <td>2018-01-08</td>\n",
       "      <td>0</td>\n",
       "    </tr>\n",
       "  </tbody>\n",
       "</table>\n",
       "</div>"
      ],
      "text/plain": [
       "                                 gmap_id    Month_FF  \\\n",
       "0  0x80c2c9f1d18f5c79:0x9b246513d5996d6b  2018-01-01   \n",
       "1  0x80c2c9f1d18f5c79:0x9b246513d5996d6b  2018-01-01   \n",
       "\n",
       "  Raw_Visitors_Monthly_level Week Start_FF  Visits_Weekly_level  \n",
       "0                        0.0    2018-01-01                    0  \n",
       "1                        0.0    2018-01-08                    0  "
      ]
     },
     "execution_count": 40,
     "metadata": {},
     "output_type": "execute_result"
    }
   ],
   "source": [
    "total_1=pd.merge(dataframe_total_FF_1,dataframe_total_FF_2,left_on=[\"gmap_id\",\"Month_match\"],right_on=[\"gmap_id\",\"Month_FF\"],how=\"outer\")\n",
    "total_1=total_1[[\"gmap_id\",\"Month_match\",\"Raw_vistors_Monthly_level\",\"Week Start_FF\",\"visits_weekly_level\"]]\n",
    "total_1.rename(columns={\n",
    "    \"Month_match\":\"Month_FF\",\n",
    "    \"Raw_vistors_Monthly_level\":\"Raw_Visitors_Monthly_level\",\n",
    "    \"visits_weekly_level\":\"Visits_Weekly_level\"\n",
    "},inplace=True)\n",
    "#total_1[\"Raw_Visitors_Monthly_level\"]=total_1[\"Raw_Visitors_Monthly_level\"].fillna(\"Not Available\")\n",
    "total_1.head(2)"
   ]
  },
  {
   "cell_type": "markdown",
   "id": "efd4b277",
   "metadata": {},
   "source": [
    "### Expand Meta_and_Reviews"
   ]
  },
  {
   "cell_type": "code",
   "execution_count": 41,
   "id": "3cf6a358",
   "metadata": {},
   "outputs": [],
   "source": [
    "total_2=dataframe_total[[\"gmap_id\",'Date','Average Rating', 'Count of Reviews']]"
   ]
  },
  {
   "cell_type": "code",
   "execution_count": 42,
   "id": "6270148e",
   "metadata": {},
   "outputs": [
    {
     "data": {
      "text/html": [
       "<div>\n",
       "<style scoped>\n",
       "    .dataframe tbody tr th:only-of-type {\n",
       "        vertical-align: middle;\n",
       "    }\n",
       "\n",
       "    .dataframe tbody tr th {\n",
       "        vertical-align: top;\n",
       "    }\n",
       "\n",
       "    .dataframe thead th {\n",
       "        text-align: right;\n",
       "    }\n",
       "</style>\n",
       "<table border=\"1\" class=\"dataframe\">\n",
       "  <thead>\n",
       "    <tr style=\"text-align: right;\">\n",
       "      <th></th>\n",
       "      <th>gmap_id</th>\n",
       "      <th>Week_Start_MR</th>\n",
       "      <th>Average Rating_MR</th>\n",
       "      <th>Count of Reviews_MR</th>\n",
       "    </tr>\n",
       "  </thead>\n",
       "  <tbody>\n",
       "    <tr>\n",
       "      <th>0</th>\n",
       "      <td>0x80c2c9f1d18f5c79:0x9b246513d5996d6b</td>\n",
       "      <td>2020-11-02</td>\n",
       "      <td>4.0</td>\n",
       "      <td>1.0</td>\n",
       "    </tr>\n",
       "    <tr>\n",
       "      <th>0</th>\n",
       "      <td>0x80c2c9f1d18f5c79:0x9b246513d5996d6b</td>\n",
       "      <td>2020-12-21</td>\n",
       "      <td>1.0</td>\n",
       "      <td>1.0</td>\n",
       "    </tr>\n",
       "  </tbody>\n",
       "</table>\n",
       "</div>"
      ],
      "text/plain": [
       "                                 gmap_id Week_Start_MR Average Rating_MR  \\\n",
       "0  0x80c2c9f1d18f5c79:0x9b246513d5996d6b    2020-11-02               4.0   \n",
       "0  0x80c2c9f1d18f5c79:0x9b246513d5996d6b    2020-12-21               1.0   \n",
       "\n",
       "  Count of Reviews_MR  \n",
       "0                 1.0  \n",
       "0                 1.0  "
      ]
     },
     "execution_count": 42,
     "metadata": {},
     "output_type": "execute_result"
    }
   ],
   "source": [
    "total_2=total_2.explode([\"Date\",\"Average Rating\",\"Count of Reviews\"])\n",
    "total_2.rename(columns={\n",
    "    \"Date\":\"Week_Start_MR\",\n",
    "    \"Average Rating\":\"Average Rating_MR\",\n",
    "    \"Count of Reviews\":\"Count of Reviews_MR\"\n",
    "},inplace=True)\n",
    "total_2.head(2)"
   ]
  },
  {
   "cell_type": "markdown",
   "id": "afae23d6",
   "metadata": {},
   "source": [
    "### Total_Output"
   ]
  },
  {
   "cell_type": "code",
   "execution_count": 43,
   "id": "63e338f5",
   "metadata": {},
   "outputs": [],
   "source": [
    "#Footfall Raw Data\n",
    "total_1[\"Week Start_FF\"]=total_1[\"Week Start_FF\"].apply(lambda x:x.strip())\n",
    "#Meta and Reviews\n",
    "total_2[\"Week_Start_MR\"]=total_2[\"Week_Start_MR\"].apply(lambda x:x.strip())"
   ]
  },
  {
   "cell_type": "code",
   "execution_count": 45,
   "id": "e8ed0152",
   "metadata": {},
   "outputs": [],
   "source": [
    "total_1_2=pd.merge(total_1,total_2,left_on=[\"gmap_id\",\"Week Start_FF\"],right_on=[\"gmap_id\",\"Week_Start_MR\"],how=\"outer\")"
   ]
  },
  {
   "cell_type": "code",
   "execution_count": 50,
   "id": "d67adc1e",
   "metadata": {},
   "outputs": [],
   "source": [
    "total_1_2.to_csv(\"FF_MR_Decompressed.csv\",index=False)"
   ]
  }
 ],
 "metadata": {
  "kernelspec": {
   "display_name": "Python 3 (ipykernel)",
   "language": "python",
   "name": "python3"
  },
  "language_info": {
   "codemirror_mode": {
    "name": "ipython",
    "version": 3
   },
   "file_extension": ".py",
   "mimetype": "text/x-python",
   "name": "python",
   "nbconvert_exporter": "python",
   "pygments_lexer": "ipython3",
   "version": "3.9.13"
  }
 },
 "nbformat": 4,
 "nbformat_minor": 5
}
