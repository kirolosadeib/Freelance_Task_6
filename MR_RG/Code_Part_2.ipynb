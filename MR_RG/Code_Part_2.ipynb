{
 "cells": [
  {
   "cell_type": "code",
   "execution_count": 1,
   "id": "4a60aa1d",
   "metadata": {},
   "outputs": [],
   "source": [
    "import pandas as pd\n",
    "import re"
   ]
  },
  {
   "cell_type": "code",
   "execution_count": 2,
   "id": "2fd83628",
   "metadata": {},
   "outputs": [],
   "source": [
    "import warnings\n",
    "warnings.filterwarnings(\"ignore\")"
   ]
  },
  {
   "cell_type": "code",
   "execution_count": 3,
   "id": "3180d905",
   "metadata": {},
   "outputs": [
    {
     "data": {
      "text/html": [
       "<div>\n",
       "<style scoped>\n",
       "    .dataframe tbody tr th:only-of-type {\n",
       "        vertical-align: middle;\n",
       "    }\n",
       "\n",
       "    .dataframe tbody tr th {\n",
       "        vertical-align: top;\n",
       "    }\n",
       "\n",
       "    .dataframe thead th {\n",
       "        text-align: right;\n",
       "    }\n",
       "</style>\n",
       "<table border=\"1\" class=\"dataframe\">\n",
       "  <thead>\n",
       "    <tr style=\"text-align: right;\">\n",
       "      <th></th>\n",
       "      <th>gmap_id</th>\n",
       "      <th>Week_Start_MR</th>\n",
       "      <th>Average Rating_MR</th>\n",
       "      <th>Count of Reviews_MR</th>\n",
       "    </tr>\n",
       "  </thead>\n",
       "  <tbody>\n",
       "    <tr>\n",
       "      <th>0</th>\n",
       "      <td>0x8636d33deda334eb:0x8539697e533cad66</td>\n",
       "      <td>2015-11-09</td>\n",
       "      <td>5.0</td>\n",
       "      <td>2.0</td>\n",
       "    </tr>\n",
       "    <tr>\n",
       "      <th>1</th>\n",
       "      <td>0x8636d33deda334eb:0x8539697e533cad66</td>\n",
       "      <td>2016-04-25</td>\n",
       "      <td>1.0</td>\n",
       "      <td>2.0</td>\n",
       "    </tr>\n",
       "    <tr>\n",
       "      <th>2</th>\n",
       "      <td>0x8636d33deda334eb:0x8539697e533cad66</td>\n",
       "      <td>2016-05-16</td>\n",
       "      <td>5.0</td>\n",
       "      <td>2.0</td>\n",
       "    </tr>\n",
       "    <tr>\n",
       "      <th>3</th>\n",
       "      <td>0x8636d33deda334eb:0x8539697e533cad66</td>\n",
       "      <td>2018-02-12</td>\n",
       "      <td>2.0</td>\n",
       "      <td>2.0</td>\n",
       "    </tr>\n",
       "    <tr>\n",
       "      <th>4</th>\n",
       "      <td>0x8636d33deda334eb:0x8539697e533cad66</td>\n",
       "      <td>2018-04-16</td>\n",
       "      <td>5.0</td>\n",
       "      <td>2.0</td>\n",
       "    </tr>\n",
       "  </tbody>\n",
       "</table>\n",
       "</div>"
      ],
      "text/plain": [
       "                                 gmap_id Week_Start_MR  Average Rating_MR  \\\n",
       "0  0x8636d33deda334eb:0x8539697e533cad66    2015-11-09                5.0   \n",
       "1  0x8636d33deda334eb:0x8539697e533cad66    2016-04-25                1.0   \n",
       "2  0x8636d33deda334eb:0x8539697e533cad66    2016-05-16                5.0   \n",
       "3  0x8636d33deda334eb:0x8539697e533cad66    2018-02-12                2.0   \n",
       "4  0x8636d33deda334eb:0x8539697e533cad66    2018-04-16                5.0   \n",
       "\n",
       "   Count of Reviews_MR  \n",
       "0                  2.0  \n",
       "1                  2.0  \n",
       "2                  2.0  \n",
       "3                  2.0  \n",
       "4                  2.0  "
      ]
     },
     "execution_count": 3,
     "metadata": {},
     "output_type": "execute_result"
    }
   ],
   "source": [
    "total_2=pd.read_csv(\"Total_2.csv\")\n",
    "total_2.head()"
   ]
  },
  {
   "cell_type": "code",
   "execution_count": null,
   "id": "e606429e",
   "metadata": {},
   "outputs": [],
   "source": [
    "total_3=pd.read_csv(\"Total_3.csv\")\n",
    "total_3.head()"
   ]
  },
  {
   "cell_type": "code",
   "execution_count": null,
   "id": "bc2267ca",
   "metadata": {},
   "outputs": [],
   "source": [
    "total_4=pd.read_csv(\"Total_4.csv\")\n",
    "total_4.head()"
   ]
  },
  {
   "cell_type": "code",
   "execution_count": null,
   "id": "e7a4384b",
   "metadata": {},
   "outputs": [],
   "source": [
    "total_2_3=pd.merge(total_2,total_3,left_on=[\"gmap_id\",\"Week_Start_MR\"],right_on=[\"gmap_id\",\"Week Start_RG\"],how=\"outer\")"
   ]
  },
  {
   "cell_type": "code",
   "execution_count": null,
   "id": "bf27ed38",
   "metadata": {},
   "outputs": [],
   "source": [
    "total=pd.merge(total_2_3,total_4,on=[\"gmap_id\"])"
   ]
  },
  {
   "cell_type": "code",
   "execution_count": null,
   "id": "17161141",
   "metadata": {},
   "outputs": [],
   "source": [
    "total[[\"gmap_id\",\"placekey\",'location_name', 'street_address', 'city', 'region','postal_code', 'latitude', 'longitude',\n",
    "        'Lead','Community', 'category','url',\n",
    "       'Week_Start_MR', 'Average Rating_MR','Count of Reviews_MR',\n",
    "       'Month_RG', 'spend_by_transaction_intermediary','online_spend', 'online_transactions',\n",
    "       'Week Start_RG','Sum_spent_by_week', 'Average_spent_per_transaction_by_week'\n",
    "      ]]to_csv(\"MR_RG_Decompressed.csv\",index=False)"
   ]
  }
 ],
 "metadata": {
  "kernelspec": {
   "display_name": "Python 3 (ipykernel)",
   "language": "python",
   "name": "python3"
  },
  "language_info": {
   "codemirror_mode": {
    "name": "ipython",
    "version": 3
   },
   "file_extension": ".py",
   "mimetype": "text/x-python",
   "name": "python",
   "nbconvert_exporter": "python",
   "pygments_lexer": "ipython3",
   "version": "3.9.13"
  }
 },
 "nbformat": 4,
 "nbformat_minor": 5
}
