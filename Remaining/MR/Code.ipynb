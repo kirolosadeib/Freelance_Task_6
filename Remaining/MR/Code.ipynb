{
 "cells": [
  {
   "cell_type": "code",
   "execution_count": 1,
   "id": "da77d5d5",
   "metadata": {},
   "outputs": [],
   "source": [
    "import pandas as pd"
   ]
  },
  {
   "cell_type": "code",
   "execution_count": 2,
   "id": "15ebadce",
   "metadata": {},
   "outputs": [],
   "source": [
    "import warnings\n",
    "warnings.filterwarnings('ignore')"
   ]
  },
  {
   "cell_type": "code",
   "execution_count": 3,
   "id": "d4efccff",
   "metadata": {},
   "outputs": [
    {
     "data": {
      "text/html": [
       "<div>\n",
       "<style scoped>\n",
       "    .dataframe tbody tr th:only-of-type {\n",
       "        vertical-align: middle;\n",
       "    }\n",
       "\n",
       "    .dataframe tbody tr th {\n",
       "        vertical-align: top;\n",
       "    }\n",
       "\n",
       "    .dataframe thead th {\n",
       "        text-align: right;\n",
       "    }\n",
       "</style>\n",
       "<table border=\"1\" class=\"dataframe\">\n",
       "  <thead>\n",
       "    <tr style=\"text-align: right;\">\n",
       "      <th></th>\n",
       "      <th>gmap_id</th>\n",
       "      <th>name</th>\n",
       "      <th>street_address</th>\n",
       "      <th>City</th>\n",
       "      <th>Region</th>\n",
       "      <th>url</th>\n",
       "      <th>category</th>\n",
       "      <th>Lead</th>\n",
       "      <th>Community</th>\n",
       "      <th>latitude</th>\n",
       "      <th>longitude</th>\n",
       "      <th>Date</th>\n",
       "      <th>Average Rating</th>\n",
       "      <th>Count of Reviews</th>\n",
       "      <th>Postal_Code</th>\n",
       "    </tr>\n",
       "  </thead>\n",
       "  <tbody>\n",
       "    <tr>\n",
       "      <th>0</th>\n",
       "      <td>0x80c2c632f933b073:0xc31785961fe826a6</td>\n",
       "      <td>Nobel Textile Co</td>\n",
       "      <td>719 E 9th St</td>\n",
       "      <td>Los Angeles</td>\n",
       "      <td>CA</td>\n",
       "      <td>https://www.google.com/maps/place//data=!4m2!3...</td>\n",
       "      <td>['Fabric store']</td>\n",
       "      <td>No Lead</td>\n",
       "      <td>No Community</td>\n",
       "      <td>34.036694</td>\n",
       "      <td>-118.249421</td>\n",
       "      <td>['2017-04-17', '2017-10-16', '2019-06-17', '20...</td>\n",
       "      <td>[1.0, 5.0, 5.0, 4.0, 5.0, 5.0, 5.0]</td>\n",
       "      <td>[2, 2, 2, 2, 2, 2, 2]</td>\n",
       "      <td>90021.0</td>\n",
       "    </tr>\n",
       "    <tr>\n",
       "      <th>1</th>\n",
       "      <td>0x809ae0a7ce91433b:0xe4b44fbb8c35ba57</td>\n",
       "      <td>Elite Massage</td>\n",
       "      <td>8121 Madison Ave</td>\n",
       "      <td>Fair Oaks</td>\n",
       "      <td>CA</td>\n",
       "      <td>https://www.google.com/maps/place//data=!4m2!3...</td>\n",
       "      <td>['Massage therapist']</td>\n",
       "      <td>No Lead</td>\n",
       "      <td>No Community</td>\n",
       "      <td>38.664915</td>\n",
       "      <td>-121.260192</td>\n",
       "      <td>['2019-11-11']</td>\n",
       "      <td>[5.0]</td>\n",
       "      <td>[2]</td>\n",
       "      <td>95628.0</td>\n",
       "    </tr>\n",
       "  </tbody>\n",
       "</table>\n",
       "</div>"
      ],
      "text/plain": [
       "                                 gmap_id              name    street_address  \\\n",
       "0  0x80c2c632f933b073:0xc31785961fe826a6  Nobel Textile Co      719 E 9th St   \n",
       "1  0x809ae0a7ce91433b:0xe4b44fbb8c35ba57     Elite Massage  8121 Madison Ave   \n",
       "\n",
       "          City Region                                                url  \\\n",
       "0  Los Angeles     CA  https://www.google.com/maps/place//data=!4m2!3...   \n",
       "1    Fair Oaks     CA  https://www.google.com/maps/place//data=!4m2!3...   \n",
       "\n",
       "                category     Lead     Community   latitude   longitude  \\\n",
       "0       ['Fabric store']  No Lead  No Community  34.036694 -118.249421   \n",
       "1  ['Massage therapist']  No Lead  No Community  38.664915 -121.260192   \n",
       "\n",
       "                                                Date  \\\n",
       "0  ['2017-04-17', '2017-10-16', '2019-06-17', '20...   \n",
       "1                                     ['2019-11-11']   \n",
       "\n",
       "                        Average Rating       Count of Reviews Postal_Code  \n",
       "0  [1.0, 5.0, 5.0, 4.0, 5.0, 5.0, 5.0]  [2, 2, 2, 2, 2, 2, 2]     90021.0  \n",
       "1                                [5.0]                    [2]     95628.0  "
      ]
     },
     "execution_count": 3,
     "metadata": {},
     "output_type": "execute_result"
    }
   ],
   "source": [
    "dataframe=pd.read_csv(\"MR_Data.csv\")\n",
    "dataframe.head(2)"
   ]
  },
  {
   "cell_type": "code",
   "execution_count": 4,
   "id": "e19275fe",
   "metadata": {},
   "outputs": [],
   "source": [
    "#Category\n",
    "dataframe['category']=dataframe['category'].apply(lambda x:x.strip('][').replace(\"'\",\"\").split(','))\n",
    "dataframe['category']=dataframe['category'].apply(lambda x:[temp.strip() for temp in x])\n",
    "dataframe['category']=dataframe['category'].apply(lambda x:x[0])"
   ]
  },
  {
   "cell_type": "code",
   "execution_count": 5,
   "id": "5b733556",
   "metadata": {},
   "outputs": [],
   "source": [
    "#Date\n",
    "dataframe['Date']=dataframe['Date'].apply(lambda x:x.strip('][').replace(\"'\",\"\").split(','))\n",
    "dataframe['Date']=dataframe['Date'].apply(lambda x:[temp.strip() for temp in x])"
   ]
  },
  {
   "cell_type": "code",
   "execution_count": 6,
   "id": "4bfe68db",
   "metadata": {},
   "outputs": [],
   "source": [
    "#Count of Reviews\n",
    "dataframe['Count of Reviews']=dataframe['Count of Reviews'].apply(lambda x:x.strip('][').replace(\"'\",\"\").split(','))\n",
    "dataframe['Count of Reviews']=dataframe['Count of Reviews'].apply(lambda x:[float(temp) for temp in x])\n",
    "dataframe['Count of Reviews']=dataframe['Count of Reviews'].apply(lambda x:[round(temp,2) for temp in x])"
   ]
  },
  {
   "cell_type": "code",
   "execution_count": 7,
   "id": "0c66a4a1",
   "metadata": {},
   "outputs": [],
   "source": [
    "#Average Rating\n",
    "dataframe['Average Rating']=dataframe['Average Rating'].apply(lambda x:x.strip('][').replace(\"'\",\"\").split(','))\n",
    "dataframe['Average Rating']=dataframe['Average Rating'].apply(lambda x:[float(temp) for temp in x])\n",
    "dataframe['Average Rating']=dataframe['Average Rating'].apply(lambda x:[round(temp,2) for temp in x])"
   ]
  },
  {
   "cell_type": "code",
   "execution_count": 8,
   "id": "a3675606",
   "metadata": {},
   "outputs": [],
   "source": [
    "dataframe_1=dataframe[[\"gmap_id\",\"Date\",\"Average Rating\",\"Count of Reviews\"]].explode([\"Date\",\"Average Rating\",\"Count of Reviews\"])"
   ]
  },
  {
   "cell_type": "code",
   "execution_count": 9,
   "id": "d1448415",
   "metadata": {},
   "outputs": [
    {
     "data": {
      "text/plain": [
       "155509747"
      ]
     },
     "execution_count": 9,
     "metadata": {},
     "output_type": "execute_result"
    }
   ],
   "source": [
    "dataframe_1.shape[0]"
   ]
  },
  {
   "cell_type": "code",
   "execution_count": 10,
   "id": "67d9085b",
   "metadata": {},
   "outputs": [],
   "source": [
    "dataframe_1.to_csv(\"Part_1.csv\",index=False)"
   ]
  },
  {
   "cell_type": "code",
   "execution_count": 12,
   "id": "936f82fa",
   "metadata": {},
   "outputs": [],
   "source": [
    "dataframe_2=dataframe[[\"gmap_id\",\"name\",\"street_address\",\"City\",\"Region\",\"url\",\"category\",\"Lead\",\"Community\",\"latitude\",\"longitude\"]]"
   ]
  },
  {
   "cell_type": "code",
   "execution_count": 13,
   "id": "73b7831b",
   "metadata": {},
   "outputs": [],
   "source": [
    "dataframe_2.to_csv(\"Part_2.csv\",index=False)"
   ]
  },
  {
   "cell_type": "code",
   "execution_count": null,
   "id": "5a9a0abe",
   "metadata": {},
   "outputs": [],
   "source": []
  }
 ],
 "metadata": {
  "kernelspec": {
   "display_name": "Python 3 (ipykernel)",
   "language": "python",
   "name": "python3"
  },
  "language_info": {
   "codemirror_mode": {
    "name": "ipython",
    "version": 3
   },
   "file_extension": ".py",
   "mimetype": "text/x-python",
   "name": "python",
   "nbconvert_exporter": "python",
   "pygments_lexer": "ipython3",
   "version": "3.9.13"
  }
 },
 "nbformat": 4,
 "nbformat_minor": 5
}
