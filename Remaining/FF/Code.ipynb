{
 "cells": [
  {
   "cell_type": "code",
   "execution_count": 29,
   "id": "9dab9836",
   "metadata": {},
   "outputs": [],
   "source": [
    "import pandas as pd\n",
    "import numpy as np"
   ]
  },
  {
   "cell_type": "code",
   "execution_count": 30,
   "id": "ad555d25",
   "metadata": {},
   "outputs": [],
   "source": [
    "import warnings\n",
    "warnings.filterwarnings(\"ignore\")"
   ]
  },
  {
   "cell_type": "code",
   "execution_count": 31,
   "id": "bd5fdbda",
   "metadata": {},
   "outputs": [
    {
     "data": {
      "text/html": [
       "<div>\n",
       "<style scoped>\n",
       "    .dataframe tbody tr th:only-of-type {\n",
       "        vertical-align: middle;\n",
       "    }\n",
       "\n",
       "    .dataframe tbody tr th {\n",
       "        vertical-align: top;\n",
       "    }\n",
       "\n",
       "    .dataframe thead th {\n",
       "        text-align: right;\n",
       "    }\n",
       "</style>\n",
       "<table border=\"1\" class=\"dataframe\">\n",
       "  <thead>\n",
       "    <tr style=\"text-align: right;\">\n",
       "      <th></th>\n",
       "      <th>placekey</th>\n",
       "      <th>name</th>\n",
       "      <th>street_address</th>\n",
       "      <th>City</th>\n",
       "      <th>Region</th>\n",
       "      <th>customer_zip</th>\n",
       "      <th>top_category</th>\n",
       "      <th>naics_code</th>\n",
       "      <th>latitude</th>\n",
       "      <th>longitude</th>\n",
       "      <th>Month_FF</th>\n",
       "      <th>Raw_vistors_Monthly_level</th>\n",
       "      <th>Week Start_FF</th>\n",
       "      <th>visits_weekly_level</th>\n",
       "    </tr>\n",
       "  </thead>\n",
       "  <tbody>\n",
       "    <tr>\n",
       "      <th>0</th>\n",
       "      <td>22d-224@63r-6cr-dd9</td>\n",
       "      <td>pizza  Barracks Row</td>\n",
       "      <td>405 8th St SE</td>\n",
       "      <td>Washington</td>\n",
       "      <td>DC</td>\n",
       "      <td>DC</td>\n",
       "      <td>&amp;pizza</td>\n",
       "      <td>Pizza,Counter Service,Lunch,Dinner</td>\n",
       "      <td>722511.000000</td>\n",
       "      <td>38.883491</td>\n",
       "      <td>['2018-01-01', '2018-02-01', '2018-03-01', '20...</td>\n",
       "      <td>[1253.0, 1143.0, 1461.0, 1239.0, 667.0, 1115.0...</td>\n",
       "      <td>['2018-01-01', '2018-01-08', '2018-01-15', '20...</td>\n",
       "      <td>[213.15, 213.15, 213.15, 213.15, 91.35, 125.16...</td>\n",
       "    </tr>\n",
       "    <tr>\n",
       "      <th>1</th>\n",
       "      <td>zzw-223@63r-6hs-47q</td>\n",
       "      <td>pizza  Gaithersburg</td>\n",
       "      <td>258 Crown Park Ave</td>\n",
       "      <td>Gaithersburg</td>\n",
       "      <td>MD</td>\n",
       "      <td>20878</td>\n",
       "      <td>Restaurants and Other Eating Places</td>\n",
       "      <td>722511</td>\n",
       "      <td>39.114096</td>\n",
       "      <td>-77.204449</td>\n",
       "      <td>[' 2018-02-01', ' 2018-03-01', ' 2018-04-01', ...</td>\n",
       "      <td>[236.0, 317.0, 383.0, 414.0, 445.0, 404.0, 397...</td>\n",
       "      <td>[' 2018-01-08', ' 2018-01-15', ' 2018-01-22', ...</td>\n",
       "      <td>[51.0, 82.0, 78.0, 73.0, 72.0, 61.0, 89.0, 83....</td>\n",
       "    </tr>\n",
       "    <tr>\n",
       "      <th>2</th>\n",
       "      <td>228-222@63r-6nn-f4v</td>\n",
       "      <td>pizza  Georgetown</td>\n",
       "      <td>1335 Wisconsin Ave NW</td>\n",
       "      <td>Washington</td>\n",
       "      <td>DC</td>\n",
       "      <td>DC</td>\n",
       "      <td>&amp;pizza</td>\n",
       "      <td>Pizza,Counter Service,Lunch,Dinner</td>\n",
       "      <td>722511.000000</td>\n",
       "      <td>38.907528</td>\n",
       "      <td>['2018-01-01', '2018-02-01', '2018-03-01', '20...</td>\n",
       "      <td>[526.0, 676.0, 881.0, 719.0, 433.0, 685.0, 758...</td>\n",
       "      <td>['2018-01-01', '2018-01-08', '2018-01-15', '20...</td>\n",
       "      <td>[86.94, 86.94, 86.94, 86.94, 37.26, 72.0, 126....</td>\n",
       "    </tr>\n",
       "    <tr>\n",
       "      <th>3</th>\n",
       "      <td>29g-229@5z5-3qs-cnq</td>\n",
       "      <td>10e</td>\n",
       "      <td>811 W 7th St</td>\n",
       "      <td>Los Angeles</td>\n",
       "      <td>CA</td>\n",
       "      <td>90017</td>\n",
       "      <td>Restaurants and Other Eating Places</td>\n",
       "      <td>722511</td>\n",
       "      <td>34.048976</td>\n",
       "      <td>-118.258973</td>\n",
       "      <td>[' 2018-02-01', ' 2018-03-01', ' 2018-04-01', ...</td>\n",
       "      <td>[136.0, 164.0, 179.0, 201.0, 192.0, 166.0, 155...</td>\n",
       "      <td>[' 2018-01-08', ' 2018-01-15', ' 2018-01-22', ...</td>\n",
       "      <td>[34.0, 50.0, 42.0, 36.0, 43.0, 40.0, 34.0, 45....</td>\n",
       "    </tr>\n",
       "    <tr>\n",
       "      <th>4</th>\n",
       "      <td>22q-222@5z6-3c4-435</td>\n",
       "      <td>3 Brothers Teriyaki</td>\n",
       "      <td>23722 Western Ave</td>\n",
       "      <td>Harbor City</td>\n",
       "      <td>CA</td>\n",
       "      <td>90710</td>\n",
       "      <td>Restaurants and Other Eating Places</td>\n",
       "      <td>722511</td>\n",
       "      <td>33.809869</td>\n",
       "      <td>-118.308218</td>\n",
       "      <td>['2018-01-01', '2018-02-01', '2018-03-01', '20...</td>\n",
       "      <td>[78.0, 110.0, 121.0, 133.0, 127.0, 103.0, 129....</td>\n",
       "      <td>['2018-01-01', '2018-01-08', '2018-01-15', '20...</td>\n",
       "      <td>[18.0, 20.0, 32.0, 24.0, 13.0, 22.0, 44.0, 29....</td>\n",
       "    </tr>\n",
       "  </tbody>\n",
       "</table>\n",
       "</div>"
      ],
      "text/plain": [
       "              placekey                 name         street_address  \\\n",
       "0  22d-224@63r-6cr-dd9  pizza  Barracks Row          405 8th St SE   \n",
       "1  zzw-223@63r-6hs-47q  pizza  Gaithersburg     258 Crown Park Ave   \n",
       "2  228-222@63r-6nn-f4v    pizza  Georgetown  1335 Wisconsin Ave NW   \n",
       "3  29g-229@5z5-3qs-cnq                  10e           811 W 7th St   \n",
       "4  22q-222@5z6-3c4-435  3 Brothers Teriyaki      23722 Western Ave   \n",
       "\n",
       "           City Region customer_zip                         top_category  \\\n",
       "0    Washington     DC           DC                               &pizza   \n",
       "1  Gaithersburg     MD        20878  Restaurants and Other Eating Places   \n",
       "2    Washington     DC           DC                               &pizza   \n",
       "3   Los Angeles     CA        90017  Restaurants and Other Eating Places   \n",
       "4   Harbor City     CA        90710  Restaurants and Other Eating Places   \n",
       "\n",
       "                           naics_code       latitude   longitude  \\\n",
       "0  Pizza,Counter Service,Lunch,Dinner  722511.000000   38.883491   \n",
       "1                              722511      39.114096  -77.204449   \n",
       "2  Pizza,Counter Service,Lunch,Dinner  722511.000000   38.907528   \n",
       "3                              722511      34.048976 -118.258973   \n",
       "4                              722511      33.809869 -118.308218   \n",
       "\n",
       "                                            Month_FF  \\\n",
       "0  ['2018-01-01', '2018-02-01', '2018-03-01', '20...   \n",
       "1  [' 2018-02-01', ' 2018-03-01', ' 2018-04-01', ...   \n",
       "2  ['2018-01-01', '2018-02-01', '2018-03-01', '20...   \n",
       "3  [' 2018-02-01', ' 2018-03-01', ' 2018-04-01', ...   \n",
       "4  ['2018-01-01', '2018-02-01', '2018-03-01', '20...   \n",
       "\n",
       "                           Raw_vistors_Monthly_level  \\\n",
       "0  [1253.0, 1143.0, 1461.0, 1239.0, 667.0, 1115.0...   \n",
       "1  [236.0, 317.0, 383.0, 414.0, 445.0, 404.0, 397...   \n",
       "2  [526.0, 676.0, 881.0, 719.0, 433.0, 685.0, 758...   \n",
       "3  [136.0, 164.0, 179.0, 201.0, 192.0, 166.0, 155...   \n",
       "4  [78.0, 110.0, 121.0, 133.0, 127.0, 103.0, 129....   \n",
       "\n",
       "                                       Week Start_FF  \\\n",
       "0  ['2018-01-01', '2018-01-08', '2018-01-15', '20...   \n",
       "1  [' 2018-01-08', ' 2018-01-15', ' 2018-01-22', ...   \n",
       "2  ['2018-01-01', '2018-01-08', '2018-01-15', '20...   \n",
       "3  [' 2018-01-08', ' 2018-01-15', ' 2018-01-22', ...   \n",
       "4  ['2018-01-01', '2018-01-08', '2018-01-15', '20...   \n",
       "\n",
       "                                 visits_weekly_level  \n",
       "0  [213.15, 213.15, 213.15, 213.15, 91.35, 125.16...  \n",
       "1  [51.0, 82.0, 78.0, 73.0, 72.0, 61.0, 89.0, 83....  \n",
       "2  [86.94, 86.94, 86.94, 86.94, 37.26, 72.0, 126....  \n",
       "3  [34.0, 50.0, 42.0, 36.0, 43.0, 40.0, 34.0, 45....  \n",
       "4  [18.0, 20.0, 32.0, 24.0, 13.0, 22.0, 44.0, 29....  "
      ]
     },
     "execution_count": 31,
     "metadata": {},
     "output_type": "execute_result"
    }
   ],
   "source": [
    "dataframe=pd.read_csv(\"FF_Data.csv\")\n",
    "dataframe.drop(columns=[\"index\",\"name_adjusted\",\"street_address_adjusted\"],inplace=True)\n",
    "dataframe.head()"
   ]
  },
  {
   "cell_type": "markdown",
   "id": "d9ad8943",
   "metadata": {},
   "source": [
    "## Fix NAICS Code & Customer Zip"
   ]
  },
  {
   "cell_type": "code",
   "execution_count": 32,
   "id": "f2837399",
   "metadata": {},
   "outputs": [],
   "source": [
    "#Naics_Code\n",
    "for counter in range(0,len(dataframe[\"naics_code\"])):\n",
    "    naics_code=dataframe[\"naics_code\"].iloc[counter]\n",
    "    try:\n",
    "        dataframe[\"naics_code\"].iloc[counter]=int(naics_code)\n",
    "    except:\n",
    "        dataframe[\"naics_code\"].iloc[counter]=np.nan\n",
    "#Customer Zip\n",
    "for counter in range(0,len(dataframe[\"customer_zip\"])):\n",
    "    naics_code=dataframe[\"customer_zip\"].iloc[counter]\n",
    "    try:\n",
    "        dataframe[\"customer_zip\"].iloc[counter]=int(naics_code)\n",
    "    except:\n",
    "        dataframe[\"customer_zip\"].iloc[counter]=np.nan"
   ]
  },
  {
   "cell_type": "markdown",
   "id": "b620615b",
   "metadata": {},
   "source": [
    "## Fix Latitude"
   ]
  },
  {
   "cell_type": "code",
   "execution_count": 33,
   "id": "9c15bf50",
   "metadata": {},
   "outputs": [],
   "source": [
    "index_to_be_removed=list(dataframe.loc[dataframe[\"naics_code\"].isna()].index)"
   ]
  },
  {
   "cell_type": "code",
   "execution_count": 34,
   "id": "4d298962",
   "metadata": {},
   "outputs": [],
   "source": [
    "dataframe.loc[index_to_be_removed,\"naics_code\"]=dataframe.loc[dataframe[\"naics_code\"].isna() ,\"latitude\"]\n",
    "dataframe.loc[index_to_be_removed ,\"latitude\"]=np.nan"
   ]
  },
  {
   "cell_type": "code",
   "execution_count": 35,
   "id": "7fae1cb3",
   "metadata": {},
   "outputs": [],
   "source": [
    "dataframe[\"naics_code\"]=dataframe[\"naics_code\"].apply(lambda x:int(float(x)))"
   ]
  },
  {
   "cell_type": "markdown",
   "id": "cfbd8c8a",
   "metadata": {},
   "source": [
    "## Fix Placekey"
   ]
  },
  {
   "cell_type": "code",
   "execution_count": 36,
   "id": "894b794f",
   "metadata": {},
   "outputs": [],
   "source": [
    "for temp in dataframe[dataframe[\"placekey\"].str.contains(\"]\")].index:\n",
    "    placekey=dataframe.loc[temp,\"placekey\"]\n",
    "    placekey=placekey.strip('][').split(',')\n",
    "    dataframe.loc[temp,\"placekey\"]=placekey[0][1:-1]"
   ]
  },
  {
   "cell_type": "code",
   "execution_count": 37,
   "id": "696a169d",
   "metadata": {},
   "outputs": [
    {
     "data": {
      "text/plain": [
       "1255"
      ]
     },
     "execution_count": 37,
     "metadata": {},
     "output_type": "execute_result"
    }
   ],
   "source": [
    "len(dataframe[\"placekey\"].unique())"
   ]
  },
  {
   "cell_type": "code",
   "execution_count": 38,
   "id": "4d5f58bf",
   "metadata": {},
   "outputs": [
    {
     "data": {
      "text/plain": [
       "1255"
      ]
     },
     "execution_count": 38,
     "metadata": {},
     "output_type": "execute_result"
    }
   ],
   "source": [
    "dataframe.shape[0]"
   ]
  },
  {
   "cell_type": "markdown",
   "id": "9d8f8166",
   "metadata": {},
   "source": [
    "## Decompress File"
   ]
  },
  {
   "cell_type": "code",
   "execution_count": 39,
   "id": "4fb9362b",
   "metadata": {},
   "outputs": [
    {
     "data": {
      "text/html": [
       "<div>\n",
       "<style scoped>\n",
       "    .dataframe tbody tr th:only-of-type {\n",
       "        vertical-align: middle;\n",
       "    }\n",
       "\n",
       "    .dataframe tbody tr th {\n",
       "        vertical-align: top;\n",
       "    }\n",
       "\n",
       "    .dataframe thead th {\n",
       "        text-align: right;\n",
       "    }\n",
       "</style>\n",
       "<table border=\"1\" class=\"dataframe\">\n",
       "  <thead>\n",
       "    <tr style=\"text-align: right;\">\n",
       "      <th></th>\n",
       "      <th>placekey</th>\n",
       "      <th>name</th>\n",
       "      <th>street_address</th>\n",
       "      <th>City</th>\n",
       "      <th>Region</th>\n",
       "      <th>customer_zip</th>\n",
       "      <th>top_category</th>\n",
       "      <th>naics_code</th>\n",
       "      <th>latitude</th>\n",
       "      <th>longitude</th>\n",
       "      <th>Month_FF</th>\n",
       "      <th>Raw_vistors_Monthly_level</th>\n",
       "      <th>Week Start_FF</th>\n",
       "      <th>visits_weekly_level</th>\n",
       "    </tr>\n",
       "  </thead>\n",
       "  <tbody>\n",
       "    <tr>\n",
       "      <th>0</th>\n",
       "      <td>22d-224@63r-6cr-dd9</td>\n",
       "      <td>pizza  Barracks Row</td>\n",
       "      <td>405 8th St SE</td>\n",
       "      <td>Washington</td>\n",
       "      <td>DC</td>\n",
       "      <td>NaN</td>\n",
       "      <td>&amp;pizza</td>\n",
       "      <td>722511</td>\n",
       "      <td>NaN</td>\n",
       "      <td>38.883491</td>\n",
       "      <td>['2018-01-01', '2018-02-01', '2018-03-01', '20...</td>\n",
       "      <td>[1253.0, 1143.0, 1461.0, 1239.0, 667.0, 1115.0...</td>\n",
       "      <td>['2018-01-01', '2018-01-08', '2018-01-15', '20...</td>\n",
       "      <td>[213.15, 213.15, 213.15, 213.15, 91.35, 125.16...</td>\n",
       "    </tr>\n",
       "    <tr>\n",
       "      <th>1</th>\n",
       "      <td>zzw-223@63r-6hs-47q</td>\n",
       "      <td>pizza  Gaithersburg</td>\n",
       "      <td>258 Crown Park Ave</td>\n",
       "      <td>Gaithersburg</td>\n",
       "      <td>MD</td>\n",
       "      <td>20878</td>\n",
       "      <td>Restaurants and Other Eating Places</td>\n",
       "      <td>722511</td>\n",
       "      <td>39.114096</td>\n",
       "      <td>-77.204449</td>\n",
       "      <td>[' 2018-02-01', ' 2018-03-01', ' 2018-04-01', ...</td>\n",
       "      <td>[236.0, 317.0, 383.0, 414.0, 445.0, 404.0, 397...</td>\n",
       "      <td>[' 2018-01-08', ' 2018-01-15', ' 2018-01-22', ...</td>\n",
       "      <td>[51.0, 82.0, 78.0, 73.0, 72.0, 61.0, 89.0, 83....</td>\n",
       "    </tr>\n",
       "    <tr>\n",
       "      <th>2</th>\n",
       "      <td>228-222@63r-6nn-f4v</td>\n",
       "      <td>pizza  Georgetown</td>\n",
       "      <td>1335 Wisconsin Ave NW</td>\n",
       "      <td>Washington</td>\n",
       "      <td>DC</td>\n",
       "      <td>NaN</td>\n",
       "      <td>&amp;pizza</td>\n",
       "      <td>722511</td>\n",
       "      <td>NaN</td>\n",
       "      <td>38.907528</td>\n",
       "      <td>['2018-01-01', '2018-02-01', '2018-03-01', '20...</td>\n",
       "      <td>[526.0, 676.0, 881.0, 719.0, 433.0, 685.0, 758...</td>\n",
       "      <td>['2018-01-01', '2018-01-08', '2018-01-15', '20...</td>\n",
       "      <td>[86.94, 86.94, 86.94, 86.94, 37.26, 72.0, 126....</td>\n",
       "    </tr>\n",
       "    <tr>\n",
       "      <th>3</th>\n",
       "      <td>29g-229@5z5-3qs-cnq</td>\n",
       "      <td>10e</td>\n",
       "      <td>811 W 7th St</td>\n",
       "      <td>Los Angeles</td>\n",
       "      <td>CA</td>\n",
       "      <td>90017</td>\n",
       "      <td>Restaurants and Other Eating Places</td>\n",
       "      <td>722511</td>\n",
       "      <td>34.048976</td>\n",
       "      <td>-118.258973</td>\n",
       "      <td>[' 2018-02-01', ' 2018-03-01', ' 2018-04-01', ...</td>\n",
       "      <td>[136.0, 164.0, 179.0, 201.0, 192.0, 166.0, 155...</td>\n",
       "      <td>[' 2018-01-08', ' 2018-01-15', ' 2018-01-22', ...</td>\n",
       "      <td>[34.0, 50.0, 42.0, 36.0, 43.0, 40.0, 34.0, 45....</td>\n",
       "    </tr>\n",
       "    <tr>\n",
       "      <th>4</th>\n",
       "      <td>22q-222@5z6-3c4-435</td>\n",
       "      <td>3 Brothers Teriyaki</td>\n",
       "      <td>23722 Western Ave</td>\n",
       "      <td>Harbor City</td>\n",
       "      <td>CA</td>\n",
       "      <td>90710</td>\n",
       "      <td>Restaurants and Other Eating Places</td>\n",
       "      <td>722511</td>\n",
       "      <td>33.809869</td>\n",
       "      <td>-118.308218</td>\n",
       "      <td>['2018-01-01', '2018-02-01', '2018-03-01', '20...</td>\n",
       "      <td>[78.0, 110.0, 121.0, 133.0, 127.0, 103.0, 129....</td>\n",
       "      <td>['2018-01-01', '2018-01-08', '2018-01-15', '20...</td>\n",
       "      <td>[18.0, 20.0, 32.0, 24.0, 13.0, 22.0, 44.0, 29....</td>\n",
       "    </tr>\n",
       "  </tbody>\n",
       "</table>\n",
       "</div>"
      ],
      "text/plain": [
       "              placekey                 name         street_address  \\\n",
       "0  22d-224@63r-6cr-dd9  pizza  Barracks Row          405 8th St SE   \n",
       "1  zzw-223@63r-6hs-47q  pizza  Gaithersburg     258 Crown Park Ave   \n",
       "2  228-222@63r-6nn-f4v    pizza  Georgetown  1335 Wisconsin Ave NW   \n",
       "3  29g-229@5z5-3qs-cnq                  10e           811 W 7th St   \n",
       "4  22q-222@5z6-3c4-435  3 Brothers Teriyaki      23722 Western Ave   \n",
       "\n",
       "           City Region customer_zip                         top_category  \\\n",
       "0    Washington     DC          NaN                               &pizza   \n",
       "1  Gaithersburg     MD        20878  Restaurants and Other Eating Places   \n",
       "2    Washington     DC          NaN                               &pizza   \n",
       "3   Los Angeles     CA        90017  Restaurants and Other Eating Places   \n",
       "4   Harbor City     CA        90710  Restaurants and Other Eating Places   \n",
       "\n",
       "   naics_code   latitude   longitude  \\\n",
       "0      722511        NaN   38.883491   \n",
       "1      722511  39.114096  -77.204449   \n",
       "2      722511        NaN   38.907528   \n",
       "3      722511  34.048976 -118.258973   \n",
       "4      722511  33.809869 -118.308218   \n",
       "\n",
       "                                            Month_FF  \\\n",
       "0  ['2018-01-01', '2018-02-01', '2018-03-01', '20...   \n",
       "1  [' 2018-02-01', ' 2018-03-01', ' 2018-04-01', ...   \n",
       "2  ['2018-01-01', '2018-02-01', '2018-03-01', '20...   \n",
       "3  [' 2018-02-01', ' 2018-03-01', ' 2018-04-01', ...   \n",
       "4  ['2018-01-01', '2018-02-01', '2018-03-01', '20...   \n",
       "\n",
       "                           Raw_vistors_Monthly_level  \\\n",
       "0  [1253.0, 1143.0, 1461.0, 1239.0, 667.0, 1115.0...   \n",
       "1  [236.0, 317.0, 383.0, 414.0, 445.0, 404.0, 397...   \n",
       "2  [526.0, 676.0, 881.0, 719.0, 433.0, 685.0, 758...   \n",
       "3  [136.0, 164.0, 179.0, 201.0, 192.0, 166.0, 155...   \n",
       "4  [78.0, 110.0, 121.0, 133.0, 127.0, 103.0, 129....   \n",
       "\n",
       "                                       Week Start_FF  \\\n",
       "0  ['2018-01-01', '2018-01-08', '2018-01-15', '20...   \n",
       "1  [' 2018-01-08', ' 2018-01-15', ' 2018-01-22', ...   \n",
       "2  ['2018-01-01', '2018-01-08', '2018-01-15', '20...   \n",
       "3  [' 2018-01-08', ' 2018-01-15', ' 2018-01-22', ...   \n",
       "4  ['2018-01-01', '2018-01-08', '2018-01-15', '20...   \n",
       "\n",
       "                                 visits_weekly_level  \n",
       "0  [213.15, 213.15, 213.15, 213.15, 91.35, 125.16...  \n",
       "1  [51.0, 82.0, 78.0, 73.0, 72.0, 61.0, 89.0, 83....  \n",
       "2  [86.94, 86.94, 86.94, 86.94, 37.26, 72.0, 126....  \n",
       "3  [34.0, 50.0, 42.0, 36.0, 43.0, 40.0, 34.0, 45....  \n",
       "4  [18.0, 20.0, 32.0, 24.0, 13.0, 22.0, 44.0, 29....  "
      ]
     },
     "execution_count": 39,
     "metadata": {},
     "output_type": "execute_result"
    }
   ],
   "source": [
    "dataframe.head()"
   ]
  },
  {
   "cell_type": "code",
   "execution_count": 40,
   "id": "5bcf6147",
   "metadata": {},
   "outputs": [],
   "source": [
    "dataframe.loc[:,'Month_FF']=dataframe['Month_FF'].apply(lambda x:x.strip('][').replace(\"'\",\"\").split(','))\n",
    "dataframe.loc[:,'Month_FF']=dataframe['Month_FF'].apply(lambda x:[temp.strip() for temp in x])\n",
    "#Raw Visitors Monthly Level\n",
    "dataframe.loc[:,'Raw_vistors_Monthly_level']=dataframe['Raw_vistors_Monthly_level'].apply(lambda x:x.strip('][').replace(\"'\",\"\").split(','))\n",
    "dataframe.loc[:,'Raw_vistors_Monthly_level']=dataframe['Raw_vistors_Monthly_level'].apply(lambda x:[float(temp) for temp in x])\n",
    "#Week Start\n",
    "dataframe.loc[:,'Week Start_FF']=dataframe['Week Start_FF'].apply(lambda x:x.strip('][').replace(\"'\",\"\").split(','))\n",
    "dataframe.loc[:,'Week Start_FF']=dataframe['Week Start_FF'].apply(lambda x:[temp.strip() for temp in x])\n",
    "#Visits Weekly Level\n",
    "dataframe.loc[:,'visits_weekly_level']=dataframe['visits_weekly_level'].apply(lambda x:x.strip('][').replace(\"'\",\"\").split(','))\n",
    "dataframe.loc[:,'visits_weekly_level']=dataframe['visits_weekly_level'].apply(lambda x:[float(temp) for temp in x])"
   ]
  },
  {
   "cell_type": "code",
   "execution_count": 41,
   "id": "5e417379",
   "metadata": {},
   "outputs": [],
   "source": [
    "dataframe_total_FF_1=dataframe[[\"placekey\",\"Week Start_FF\",\"visits_weekly_level\"]]\n",
    "dataframe_total_FF_1=dataframe_total_FF_1.explode([\"Week Start_FF\",\"visits_weekly_level\"])\n",
    "#Trim Week Start Date to get Month Date\n",
    "dataframe_total_FF_1[\"Month_match\"]=dataframe_total_FF_1[\"Week Start_FF\"].apply(lambda x:x[0:7]+\"-01\")\n",
    "#Set weekly visits to be integer \n",
    "dataframe_total_FF_1[\"visits_weekly_level\"]=dataframe_total_FF_1[\"visits_weekly_level\"].apply(lambda x:int(x))"
   ]
  },
  {
   "cell_type": "code",
   "execution_count": 42,
   "id": "a505ac23",
   "metadata": {},
   "outputs": [],
   "source": [
    "dataframe_total_FF_2=dataframe[[\"placekey\",\"Month_FF\",\"Raw_vistors_Monthly_level\"]]\n",
    "dataframe_total_FF_2=dataframe_total_FF_2.explode([\"Month_FF\",\"Raw_vistors_Monthly_level\"])"
   ]
  },
  {
   "cell_type": "code",
   "execution_count": 45,
   "id": "554574db",
   "metadata": {},
   "outputs": [],
   "source": [
    "total=pd.merge(dataframe_total_FF_1,dataframe_total_FF_2,left_on=[\"placekey\",\"Month_match\"],right_on=[\"placekey\",\"Month_FF\"],how=\"outer\")\n",
    "total=total[[\"placekey\",\"Month_match\",\"Raw_vistors_Monthly_level\",\"Week Start_FF\",\"visits_weekly_level\"]]\n",
    "total.rename(columns={\n",
    "    \"Month_match\":\"Month_FF\",\n",
    "    \"Raw_vistors_Monthly_level\":\"Raw_Visitors_Monthly_level\",\n",
    "    \"visits_weekly_level\":\"Visits_Weekly_level\"\n",
    "},inplace=True)"
   ]
  },
  {
   "cell_type": "code",
   "execution_count": 48,
   "id": "71c188e8",
   "metadata": {},
   "outputs": [],
   "source": [
    "total_2=dataframe[[\"placekey\",\"name\",\"street_address\",\"City\",\"Region\",\"customer_zip\",\"top_category\",\"naics_code\",\"latitude\",\"longitude\"]]"
   ]
  },
  {
   "cell_type": "code",
   "execution_count": 50,
   "id": "88bc8082",
   "metadata": {},
   "outputs": [],
   "source": [
    "total=pd.merge(total,total_2,on=[\"placekey\"])"
   ]
  },
  {
   "cell_type": "code",
   "execution_count": 52,
   "id": "8f6380ba",
   "metadata": {},
   "outputs": [],
   "source": [
    "total.to_csv(\"FF_Decompressed.csv\",index=False)"
   ]
  }
 ],
 "metadata": {
  "kernelspec": {
   "display_name": "Python 3 (ipykernel)",
   "language": "python",
   "name": "python3"
  },
  "language_info": {
   "codemirror_mode": {
    "name": "ipython",
    "version": 3
   },
   "file_extension": ".py",
   "mimetype": "text/x-python",
   "name": "python",
   "nbconvert_exporter": "python",
   "pygments_lexer": "ipython3",
   "version": "3.9.13"
  }
 },
 "nbformat": 4,
 "nbformat_minor": 5
}
